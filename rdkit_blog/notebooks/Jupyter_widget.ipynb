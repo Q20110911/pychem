{
 "cells": [
  {
   "cell_type": "code",
   "execution_count": 16,
   "metadata": {},
   "outputs": [
    {
     "name": "stdout",
     "output_type": "stream",
     "text": [
      "2020.03.1\n",
      "Fri Aug 28 08:13:14 2020\n"
     ]
    }
   ],
   "source": [
    "from rdkit import Chem\n",
    "from rdkit.Chem import Draw, rdMolTransforms\n",
    "from rdkit.Chem.Draw import rdMolDraw2D\n",
    "from IPython.display import SVG\n",
    "from rdkit.Chem.Draw import IPythonConsole\n",
    "import rdkit\n",
    "import time\n",
    "print(rdkit.__version__)\n",
    "print(time.asctime())"
   ]
  },
  {
   "cell_type": "code",
   "execution_count": 17,
   "metadata": {},
   "outputs": [],
   "source": [
    "import ipywidgets as widgets\n",
    "from traitlets import Unicode, Int, validate\n",
    "class MolSVGWidget(widgets.DOMWidget):\n",
    "    _view_name = Unicode('MolSVGView').tag(sync=True)\n",
    "    _view_module = Unicode('molsvg_widget').tag(sync=True)\n",
    "    _view_module_version = Unicode('0.0.1').tag(sync=True)\n",
    "    \n",
    "    svg = Unicode('', help=\"svg to be rendered\").tag(sync=True)\n",
    "    selected_atoms = Unicode('', help=\"list of currently selected atoms\").tag(sync=True)"
   ]
  },
  {
   "cell_type": "code",
   "execution_count": 18,
   "metadata": {},
   "outputs": [
    {
     "data": {
      "application/javascript": [
       "// make sure our module is only defined\n",
       "// only once.\n",
       "require.undef('molsvg_widget');\n",
       "\n",
       "// Define the `molsvg_widget` module using the Jupyter widgets framework.\n",
       "define('molsvg_widget', [\"@jupyter-widgets/base\"],\n",
       "       function(widgets) {\n",
       "\n",
       "    // The frontend class:\n",
       "    var MolSVGView = widgets.DOMWidgetView.extend({\n",
       "\n",
       "        // This method creates the HTML widget.\n",
       "        render: function() {\n",
       "            this.svg_div = document.createElement('div');\n",
       "            this.el.appendChild(this.svg_div);\n",
       "            this.model.on('change:svg', this.svg_changed, this);\n",
       "            this.svg_changed();\n",
       "        },\n",
       "        \n",
       "        // called when the SVG is updated on the Python side\n",
       "        svg_changed: function() {\n",
       "            var txt = this.model.get('svg'); \n",
       "            this.svg_div.innerHTML = txt;\n",
       "            var sels = this.svg_div.getElementsByClassName(\"atom-selector\");\n",
       "            for(var i=0;i<sels.length;i++){\n",
       "                sels[i].onclick = (evt) => { return this.atom_clicked(evt) };\n",
       "            }\n",
       "            \n",
       "        },\n",
       "\n",
       "        // callback for when an atom is clicked\n",
       "        atom_clicked: function(evt) {\n",
       "            //alert(\"  \"+evt+\"|\"+this);\n",
       "            if(!evt.currentTarget.getAttribute('class')){\n",
       "                return;\n",
       "            }\n",
       "            var satmid = evt.currentTarget.getAttribute('class').match(/atom-([0-9]+)/);\n",
       "            if(satmid.length >1){\n",
       "                var atmid = Number(satmid[1]);\n",
       "                var curSel = this.model.get('selected_atoms');\n",
       "                var splitSel = curSel.split(',');\n",
       "                var selItms = [];\n",
       "                var idx = -1;\n",
       "                //alert(\"|\"+atmid+\"|\"+curSel+\"|len: \"+splitSel.length);\n",
       "                if(curSel != \"\" && splitSel.length>0){\n",
       "                    selItms = Array.from(splitSel).map(item => Number(item));\n",
       "                    idx = selItms.indexOf(atmid);\n",
       "                }\n",
       "                if(idx == -1){\n",
       "                    selItms = selItms.concat(atmid);\n",
       "                    evt.currentTarget.style[\"stroke-width\"]=3;\n",
       "                    evt.currentTarget.style[\"stroke-opacity\"]=1;\n",
       "                    evt.currentTarget.style[\"stroke\"]='#AA22FF';\n",
       "                } else {\n",
       "                    selItms.splice(idx,1);\n",
       "                    evt.currentTarget.style[\"stroke-width\"]=1;\n",
       "                    evt.currentTarget.style[\"stroke-opacity\"]=0;\n",
       "                    evt.currentTarget.style[\"stroke\"]='#FFFFFF';\n",
       "                }\n",
       "                this.model.set('selected_atoms',String(selItms));\n",
       "                this.touch();\n",
       "            }\n",
       "        }\n",
       "\n",
       "    });\n",
       "\n",
       "    return {\n",
       "        MolSVGView : MolSVGView\n",
       "    };\n",
       "});\n"
      ],
      "text/plain": [
       "<IPython.core.display.Javascript object>"
      ]
     },
     "metadata": {},
     "output_type": "display_data"
    }
   ],
   "source": [
    "%%javascript\n",
    "// make sure our module is only defined\n",
    "// only once.\n",
    "require.undef('molsvg_widget');\n",
    "\n",
    "// Define the `molsvg_widget` module using the Jupyter widgets framework.\n",
    "define('molsvg_widget', [\"@jupyter-widgets/base\"],\n",
    "       function(widgets) {\n",
    "\n",
    "    // The frontend class:\n",
    "    var MolSVGView = widgets.DOMWidgetView.extend({\n",
    "\n",
    "        // This method creates the HTML widget.\n",
    "        render: function() {\n",
    "            this.svg_div = document.createElement('div');\n",
    "            this.el.appendChild(this.svg_div);\n",
    "            this.model.on('change:svg', this.svg_changed, this);\n",
    "            this.svg_changed();\n",
    "        },\n",
    "        \n",
    "        // called when the SVG is updated on the Python side\n",
    "        svg_changed: function() {\n",
    "            var txt = this.model.get('svg'); \n",
    "            this.svg_div.innerHTML = txt;\n",
    "            var sels = this.svg_div.getElementsByClassName(\"atom-selector\");\n",
    "            for(var i=0;i<sels.length;i++){\n",
    "                sels[i].onclick = (evt) => { return this.atom_clicked(evt) };\n",
    "            }\n",
    "            \n",
    "        },\n",
    "\n",
    "        // callback for when an atom is clicked\n",
    "        atom_clicked: function(evt) {\n",
    "            //alert(\"  \"+evt+\"|\"+this);\n",
    "            if(!evt.currentTarget.getAttribute('class')){\n",
    "                return;\n",
    "            }\n",
    "            var satmid = evt.currentTarget.getAttribute('class').match(/atom-([0-9]+)/);\n",
    "            if(satmid.length >1){\n",
    "                var atmid = Number(satmid[1]);\n",
    "                var curSel = this.model.get('selected_atoms');\n",
    "                var splitSel = curSel.split(',');\n",
    "                var selItms = [];\n",
    "                var idx = -1;\n",
    "                //alert(\"|\"+atmid+\"|\"+curSel+\"|len: \"+splitSel.length);\n",
    "                if(curSel != \"\" && splitSel.length>0){\n",
    "                    selItms = Array.from(splitSel).map(item => Number(item));\n",
    "                    idx = selItms.indexOf(atmid);\n",
    "                }\n",
    "                if(idx == -1){\n",
    "                    selItms = selItms.concat(atmid);\n",
    "                    evt.currentTarget.style[\"stroke-width\"]=3;\n",
    "                    evt.currentTarget.style[\"stroke-opacity\"]=1;\n",
    "                    evt.currentTarget.style[\"stroke\"]='#AA22FF';\n",
    "                } else {\n",
    "                    selItms.splice(idx,1);\n",
    "                    evt.currentTarget.style[\"stroke-width\"]=1;\n",
    "                    evt.currentTarget.style[\"stroke-opacity\"]=0;\n",
    "                    evt.currentTarget.style[\"stroke\"]='#FFFFFF';\n",
    "                }\n",
    "                this.model.set('selected_atoms',String(selItms));\n",
    "                this.touch();\n",
    "            }\n",
    "        }\n",
    "\n",
    "    });\n",
    "\n",
    "    return {\n",
    "        MolSVGView : MolSVGView\n",
    "    };\n",
    "});"
   ]
  },
  {
   "cell_type": "code",
   "execution_count": 19,
   "metadata": {},
   "outputs": [
    {
     "data": {
      "text/plain": [
       "'2020.03.1'"
      ]
     },
     "execution_count": 19,
     "metadata": {},
     "output_type": "execute_result"
    }
   ],
   "source": [
    "import rdkit\n",
    "rdkit.__version__"
   ]
  },
  {
   "cell_type": "code",
   "execution_count": 20,
   "metadata": {},
   "outputs": [],
   "source": [
    "def mol_to_svg(mol):\n",
    "    d = Draw.MolDraw2DSVG(350, 200)\n",
    "    d.SetFontSize(0.8)\n",
    "    d.DrawMolecule(mol)\n",
    "    d.TagAtoms(mol)\n",
    "    d.FinishDrawing()\n",
    "    return d.GetDrawingText()"
   ]
  },
  {
   "cell_type": "code",
   "execution_count": 21,
   "metadata": {},
   "outputs": [],
   "source": [
    "bilastine_smi = \"O=C(O)C(c1ccc(cc1)CCN4CCC(c2nc3ccccc3n2CCOCC)CC4)(C)C\""
   ]
  },
  {
   "cell_type": "code",
   "execution_count": 22,
   "metadata": {},
   "outputs": [],
   "source": [
    "bilastine = Chem.MolFromSmiles(bilastine_smi)\n",
    "dbilastine = Draw.PrepareMolForDrawing(bilastine)"
   ]
  },
  {
   "cell_type": "code",
   "execution_count": 23,
   "metadata": {},
   "outputs": [],
   "source": [
    "w = MolSVGWidget(svg=mol_to_svg(dbilastine))"
   ]
  },
  {
   "cell_type": "code",
   "execution_count": 26,
   "metadata": {},
   "outputs": [
    {
     "data": {
      "application/vnd.jupyter.widget-view+json": {
       "model_id": "000893f4e73746deb0e9ed9a83773180",
       "version_major": 2,
       "version_minor": 0
      },
      "text/plain": [
       "MolSVGWidget(selected_atoms='10,11,12,13', svg='<?xml version=\\'1.0\\' encoding=\\'iso-8859-1\\'?>\\n<svg version=…"
      ]
     },
     "metadata": {},
     "output_type": "display_data"
    }
   ],
   "source": [
    "w"
   ]
  },
  {
   "cell_type": "code",
   "execution_count": 27,
   "metadata": {},
   "outputs": [
    {
     "data": {
      "text/plain": [
       "'10,11,12,13'"
      ]
     },
     "execution_count": 27,
     "metadata": {},
     "output_type": "execute_result"
    }
   ],
   "source": [
    "w.selected_atoms"
   ]
  },
  {
   "cell_type": "code",
   "execution_count": 28,
   "metadata": {},
   "outputs": [],
   "source": [
    "selected_i = [int(i) for i in w.selected_atoms.split(',')]"
   ]
  },
  {
   "cell_type": "code",
   "execution_count": 29,
   "metadata": {},
   "outputs": [
    {
     "data": {
      "text/plain": [
       "[10, 11, 12, 13]"
      ]
     },
     "execution_count": 29,
     "metadata": {},
     "output_type": "execute_result"
    }
   ],
   "source": [
    "selected_i"
   ]
  },
  {
   "cell_type": "code",
   "execution_count": 30,
   "metadata": {},
   "outputs": [],
   "source": [
    "rdMolTransforms.SetDihedralDeg(dbilastine.GetConformer(), *selected_i,\n",
    "    rdMolTransforms.GetDihedralDeg(dbilastine.GetConformer(), *selected_i) + 180)"
   ]
  },
  {
   "cell_type": "code",
   "execution_count": 31,
   "metadata": {},
   "outputs": [
    {
     "data": {
      "application/vnd.jupyter.widget-view+json": {
       "model_id": "2318000d325e483c9c39530e1d812a46",
       "version_major": 2,
       "version_minor": 0
      },
      "text/plain": [
       "MolSVGWidget(svg='<?xml version=\\'1.0\\' encoding=\\'iso-8859-1\\'?>\\n<svg version=\\'1.1\\' baseProfile=\\'full\\'\\n…"
      ]
     },
     "metadata": {},
     "output_type": "display_data"
    }
   ],
   "source": [
    "w = MolSVGWidget(svg=mol_to_svg(dbilastine))\n",
    "w"
   ]
  },
  {
   "cell_type": "code",
   "execution_count": null,
   "metadata": {},
   "outputs": [],
   "source": []
  }
 ],
 "metadata": {
  "_draft": {
   "nbviewer_url": "https://gist.github.com/b640cd77331a55f2179cd1dc2d7bbd8d"
  },
  "gist": {
   "data": {
    "description": "SVG Features.ipynb",
    "public": true
   },
   "id": "b640cd77331a55f2179cd1dc2d7bbd8d"
  },
  "kernelspec": {
   "display_name": "Python 3",
   "language": "python",
   "name": "python3"
  },
  "language_info": {
   "codemirror_mode": {
    "name": "ipython",
    "version": 3
   },
   "file_extension": ".py",
   "mimetype": "text/x-python",
   "name": "python",
   "nbconvert_exporter": "python",
   "pygments_lexer": "ipython3",
   "version": "3.7.7"
  }
 },
 "nbformat": 4,
 "nbformat_minor": 2
}

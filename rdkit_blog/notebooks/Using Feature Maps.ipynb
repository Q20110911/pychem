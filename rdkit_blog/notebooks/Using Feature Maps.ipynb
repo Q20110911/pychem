{
 "cells": [
  {
   "cell_type": "markdown",
   "metadata": {},
   "source": [
    "This post provides a short demonstration of how to use the RDKit's feature map implementation to score aligned 3D conformations against each other based on the overlap of their pharmacophoric features.\n",
    "The idea of the feature map is not a new one and there are numerous publications on the topic. These two come closest to describing the RDKit implementation:\n",
    "\n",
    "1. Putta, S., Landrum, G. A. & Penzotti, J. E. \"Conformation mining: An algorithm for finding biologically relevant conformations.\" *J. Med. Chem.* **48**, 3313–3318 (2005).\n",
    "http://pubs.acs.org/doi/abs/10.1021/jm049066l\n",
    "2. Landrum, G. A., Penzotti, J. E. & Putta, S. \"Feature-map vectors: a new class of informative descriptors for computational drug discovery.\" *J. Comput. Aided. Mol. Des.* **20**, 751–762 (2007).\n",
    "https://link.springer.com/article/10.1007/s10822-006-9085-8\n"
   ]
  },
  {
   "cell_type": "code",
   "execution_count": 1,
   "metadata": {},
   "outputs": [
    {
     "name": "stdout",
     "output_type": "stream",
     "text": [
      "Thu Nov  9 08:17:29 2017\n",
      "2017.09.1\n"
     ]
    }
   ],
   "source": [
    "from rdkit.Chem import AllChem\n",
    "from rdkit import Chem\n",
    "from rdkit.Chem.Draw import IPythonConsole\n",
    "from rdkit.Chem import Draw\n",
    "import time\n",
    "print(time.asctime())\n",
    "from rdkit import rdBase\n",
    "print(rdBase.rdkitVersion)"
   ]
  },
  {
   "cell_type": "markdown",
   "metadata": {},
   "source": [
    "For this post we'll use a set of three 5HT-3 ligands."
   ]
  },
  {
   "cell_type": "code",
   "execution_count": 2,
   "metadata": {},
   "outputs": [
    {
     "data": {
      "image/png": "[encoded data removed]",
      "text/plain": [
       "<PIL.Image.Image image mode=RGBA size=600x200 at 0x115BCE320>"
      ]
     },
     "execution_count": 2,
     "metadata": {},
     "output_type": "execute_result"
    }
   ],
   "source": [
    "smis = ['CC(OC(=O)c1c[nH]c2ccccc12)C1CCCCN1C',\n",
    " 'CN1CCOc2c(C(=O)NC3CC4CCC(C3)N4C)cc(Cl)cc21',\n",
    " 'CN1CC2CCC1CC2n1nnc2ccc(Cl)cc2c1=O']\n",
    "ms = [Chem.MolFromSmiles(x) for x in smis]\n",
    "Draw.MolsToGridImage(ms)"
   ]
  },
  {
   "cell_type": "markdown",
   "metadata": {},
   "source": [
    "Start by generating a conformation for each:"
   ]
  },
  {
   "cell_type": "code",
   "execution_count": 3,
   "metadata": {
    "collapsed": true
   },
   "outputs": [],
   "source": [
    "ms = [Chem.AddHs(m) for m in ms]\n",
    "ps = AllChem.ETKDG()\n",
    "ps.randomSeed = 0xf00d  # we seed the RNG so that this is reproducible\n",
    "for m in ms:\n",
    "    AllChem.EmbedMolecule(m,ps)"
   ]
  },
  {
   "cell_type": "markdown",
   "metadata": {},
   "source": [
    "To get sensible scores for the feature maps, we need to start from aligned structures. For this example we'll just use the RDKit's Open3D Align implementation:"
   ]
  },
  {
   "cell_type": "code",
   "execution_count": 4,
   "metadata": {},
   "outputs": [
    {
     "data": {
      "text/plain": [
       "0.34363011582550307"
      ]
     },
     "execution_count": 4,
     "metadata": {},
     "output_type": "execute_result"
    }
   ],
   "source": [
    "from rdkit.Chem import rdMolAlign\n",
    "o3d = rdMolAlign.GetO3A(ms[1],ms[0])\n",
    "o3d.Align()"
   ]
  },
  {
   "cell_type": "code",
   "execution_count": 5,
   "metadata": {},
   "outputs": [
    {
     "data": {
      "text/plain": [
       "0.5938107267982091"
      ]
     },
     "execution_count": 5,
     "metadata": {},
     "output_type": "execute_result"
    }
   ],
   "source": [
    "o3d = rdMolAlign.GetO3A(ms[2],ms[0])\n",
    "o3d.Align()"
   ]
  },
  {
   "cell_type": "markdown",
   "metadata": {},
   "source": [
    "Now let's build a feature map.\n",
    "\n",
    "We need to start by building a `FeatureFactory` object which defines the set of pharmacophore features being used. We'll use this to find features on the molecules."
   ]
  },
  {
   "cell_type": "code",
   "execution_count": 6,
   "metadata": {},
   "outputs": [
    {
     "name": "stdout",
     "output_type": "stream",
     "text": [
      "('Donor', 'Acceptor', 'NegIonizable', 'PosIonizable', 'ZnBinder', 'Aromatic', 'Hydrophobe', 'LumpedHydrophobe')\n"
     ]
    }
   ],
   "source": [
    "import os\n",
    "from rdkit import RDConfig\n",
    "from rdkit.Chem.FeatMaps import FeatMaps\n",
    "fdef = AllChem.BuildFeatureFactory(os.path.join(RDConfig.RDDataDir,'BaseFeatures.fdef'))\n",
    "print(fdef.GetFeatureFamilies())"
   ]
  },
  {
   "cell_type": "markdown",
   "metadata": {},
   "source": [
    "We also need the parameters for the points used to make up the feature map.\n",
    "The feature points are defined by\n",
    "  - a `FeatProfile` - `Gaussian`, `Triangle`, or `Box`. `Gaussian` is the default.\n",
    "  - a width - the precise meaning is determined by the profile, but this is the `sigma` factor for the `Gaussian`. The default value is 1.0.\n",
    "  - a cutoff radius - Feature-feature overlaps at a distance longer than this will not be considered. The default is 2.5.\n",
    "\n",
    "Here we'll take the defaults."
   ]
  },
  {
   "cell_type": "code",
   "execution_count": 7,
   "metadata": {
    "collapsed": true
   },
   "outputs": [],
   "source": [
    "fmParams = {}\n",
    "for k in fdef.GetFeatureFamilies():\n",
    "    fparams = FeatMaps.FeatMapParams()\n",
    "    fmParams[k] = fparams"
   ]
  },
  {
   "cell_type": "markdown",
   "metadata": {},
   "source": [
    "Next go through and find the features on each molecule. We'll only consider a subset of the features defined by the `FeatureFactory`. In \"real\" use we'd more likely use a `FeatureFactory` that only defines the features we are interested in, but this example of how to limit the features returned may still be interesting:"
   ]
  },
  {
   "cell_type": "code",
   "execution_count": 8,
   "metadata": {
    "collapsed": true
   },
   "outputs": [],
   "source": [
    "keep = ('Donor','Acceptor','NegIonizable','PosIonizable','Aromatic')\n",
    "featLists = []\n",
    "for m in ms:\n",
    "    rawFeats = fdef.GetFeaturesForMol(m)\n",
    "    # filter that list down to only include the ones we're intereted in \n",
    "    featLists.append([f for f in rawFeats if f.GetFamily() in keep])"
   ]
  },
  {
   "cell_type": "markdown",
   "metadata": {},
   "source": [
    "Now it's straightforward to create `FeatMap` objects from the feature lists:"
   ]
  },
  {
   "cell_type": "code",
   "execution_count": 10,
   "metadata": {},
   "outputs": [
    {
     "data": {
      "text/plain": [
       "<rdkit.Chem.rdMolChemicalFeatures.MolChemicalFeature at 0x118241a80>"
      ]
     },
     "execution_count": 10,
     "metadata": {},
     "output_type": "execute_result"
    }
   ],
   "source": [
    "f1 = featLists[0][0]\n",
    "f1"
   ]
  },
  {
   "cell_type": "code",
   "execution_count": 17,
   "metadata": {
    "collapsed": true
   },
   "outputs": [],
   "source": [
    "fms = [FeatMaps.FeatMap(feats = x,weights=[1]*len(x),params=fmParams) for x in featLists]"
   ]
  },
  {
   "cell_type": "markdown",
   "metadata": {},
   "source": [
    "Score the features from each molecule against the feature map. Since scores are affected by the number of features in each `FeatMap`, we'll normalize here using the number of features in the smaller molecule"
   ]
  },
  {
   "cell_type": "code",
   "execution_count": 19,
   "metadata": {},
   "outputs": [
    {
     "data": {
      "text/plain": [
       "1.0047133039823972"
      ]
     },
     "execution_count": 19,
     "metadata": {},
     "output_type": "execute_result"
    }
   ],
   "source": [
    "fms[0].ScoreFeats(featLists[0])/fms[0].GetNumFeatures()"
   ]
  },
  {
   "cell_type": "code",
   "execution_count": 12,
   "metadata": {},
   "outputs": [
    {
     "data": {
      "text/plain": [
       "0.3087264298235622"
      ]
     },
     "execution_count": 12,
     "metadata": {},
     "output_type": "execute_result"
    }
   ],
   "source": [
    "fms[0].ScoreFeats(featLists[1])/min(fms[0].GetNumFeatures(),len(featLists[1]))"
   ]
  },
  {
   "cell_type": "code",
   "execution_count": 13,
   "metadata": {},
   "outputs": [
    {
     "data": {
      "text/plain": [
       "0.41696159402924426"
      ]
     },
     "execution_count": 13,
     "metadata": {},
     "output_type": "execute_result"
    }
   ],
   "source": [
    "fms[0].ScoreFeats(featLists[2])/min(fms[0].GetNumFeatures(),len(featLists[2]))"
   ]
  },
  {
   "cell_type": "code",
   "execution_count": 14,
   "metadata": {},
   "outputs": [
    {
     "data": {
      "text/plain": [
       "0.5575068770578883"
      ]
     },
     "execution_count": 14,
     "metadata": {},
     "output_type": "execute_result"
    }
   ],
   "source": [
    "fms[1].ScoreFeats(featLists[2])/min(fms[1].GetNumFeatures(),len(featLists[2]))"
   ]
  },
  {
   "cell_type": "markdown",
   "metadata": {},
   "source": [
    "An aside: since the weights on the features in `FeatMap` are all 1.0, the scoring is symmetric:"
   ]
  },
  {
   "cell_type": "code",
   "execution_count": 22,
   "metadata": {},
   "outputs": [
    {
     "data": {
      "text/plain": [
       "0.5575068770578883"
      ]
     },
     "execution_count": 22,
     "metadata": {},
     "output_type": "execute_result"
    }
   ],
   "source": [
    "fms[2].ScoreFeats(featLists[1])/min(fms[2].GetNumFeatures(),len(featLists[1]))"
   ]
  },
  {
   "cell_type": "markdown",
   "metadata": {
    "collapsed": true
   },
   "source": [
    "Hopefully others find this brief introduction to the RDKit's `FeatMap` implementation useful."
   ]
  }
 ],
 "metadata": {
  "kernelspec": {
   "display_name": "Python 3",
   "language": "python",
   "name": "python3"
  },
  "language_info": {
   "codemirror_mode": {
    "name": "ipython",
    "version": 3
   },
   "file_extension": ".py",
   "mimetype": "text/x-python",
   "name": "python",
   "nbconvert_exporter": "python",
   "pygments_lexer": "ipython3",
   "version": "3.6.1"
  }
 },
 "nbformat": 4,
 "nbformat_minor": 2
}

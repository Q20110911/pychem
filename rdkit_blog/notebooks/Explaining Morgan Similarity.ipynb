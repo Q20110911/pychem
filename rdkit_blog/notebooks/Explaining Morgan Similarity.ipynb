{
 "cells": [
  {
   "cell_type": "markdown",
   "metadata": {},
   "source": [
    "# Explaining Similarity with Morgan Fingerprints"
   ]
  },
  {
   "cell_type": "markdown",
   "metadata": {},
   "source": [
    "This post comes out of a question I was asked at this week's CIC Spring School on Cheminformatics, where I did an introductory lecture on fingerprints."
   ]
  },
  {
   "cell_type": "markdown",
   "metadata": {},
   "source": [
    "# On to the work"
   ]
  },
  {
   "cell_type": "markdown",
   "metadata": {},
   "source": [
    "## Start with the preliminaries\n",
    "\n",
    "We start by doing a bunch of imports and defining some functions we'll use later.\n",
    "\n",
    "*Note:* This is a Python3 notebook, so the code below may not work in Python2. It's also using code that is currently only present in github, but that will be in the next release"
   ]
  },
  {
   "cell_type": "code",
   "execution_count": 1,
   "metadata": {
    "collapsed": false
   },
   "outputs": [
    {
     "name": "stdout",
     "output_type": "stream",
     "text": [
      "2016.03.1.dev1\n",
      "Thu Mar 10 19:01:19 2016\n",
      "Populating the interactive namespace from numpy and matplotlib\n"
     ]
    }
   ],
   "source": [
    "import numpy\n",
    "from rdkit.Chem.Draw import IPythonConsole\n",
    "from rdkit import Chem\n",
    "from rdkit.Chem import AllChem\n",
    "from rdkit import DataStructs\n",
    "from rdkit import rdBase\n",
    "print(rdBase.rdkitVersion)\n",
    "\n",
    "import time\n",
    "print(time.asctime())\n",
    "%pylab inline"
   ]
  },
  {
   "cell_type": "code",
   "execution_count": 2,
   "metadata": {
    "collapsed": false
   },
   "outputs": [],
   "source": [
    "#\n",
    "# Functions for providing detailed descriptions of MFP bits \n",
    "#  inspired by some code from from Nadine Schneider \n",
    "#\n",
    "def getSubstructSmi(mol,atomID,radius):\n",
    "    if radius>0:\n",
    "        env = Chem.FindAtomEnvironmentOfRadiusN(mol,radius,atomID)\n",
    "        atomsToUse=[]\n",
    "        for b in env:\n",
    "            atomsToUse.append(mol.GetBondWithIdx(b).GetBeginAtomIdx())\n",
    "            atomsToUse.append(mol.GetBondWithIdx(b).GetEndAtomIdx())\n",
    "        atomsToUse = list(set(atomsToUse))\n",
    "    else:\n",
    "        atomsToUse = [atomID]\n",
    "        env=None\n",
    "    symbols = []\n",
    "    for atom in mol.GetAtoms():\n",
    "        deg = atom.GetDegree()\n",
    "        isInRing = atom.IsInRing()\n",
    "        nHs = atom.GetTotalNumHs()\n",
    "        symbol = '['+atom.GetSmarts()\n",
    "        if nHs: \n",
    "            symbol += 'H'\n",
    "            if nHs>1:\n",
    "                symbol += '%d'%nHs\n",
    "        if isInRing:\n",
    "            symbol += ';R'\n",
    "        else:\n",
    "            symbol += ';!R'\n",
    "        symbol += ';D%d'%deg\n",
    "        symbol += \"]\"\n",
    "        symbols.append(symbol)\n",
    "    smi = Chem.MolFragmentToSmiles(mol,atomsToUse,bondsToUse=env,allHsExplicit=True, allBondsExplicit=True, rootedAtAtom=atomID)\n",
    "    smi2 = Chem.MolFragmentToSmiles(mol,atomsToUse,bondsToUse=env,atomSymbols=symbols, allBondsExplicit=True, rootedAtAtom=atomID)\n",
    "    return smi,smi2"
   ]
  },
  {
   "cell_type": "code",
   "execution_count": 3,
   "metadata": {
    "collapsed": true
   },
   "outputs": [],
   "source": [
    "# Start by importing some code to allow the depiction to be used:\n",
    "from IPython.display import SVG\n",
    "from rdkit.Chem.Draw import rdMolDraw2D\n",
    "\n",
    "# a function to make it a bit easier. This should probably move to somewhere in\n",
    "# rdkit.Chem.Draw\n",
    "def _prepareMol(mol,kekulize):\n",
    "    mc = Chem.Mol(mol.ToBinary())\n",
    "    if kekulize:\n",
    "        try:\n",
    "            Chem.Kekulize(mc)\n",
    "        except:\n",
    "            mc = Chem.Mol(mol.ToBinary())\n",
    "    if not mc.GetNumConformers():\n",
    "        rdDepictor.Compute2DCoords(mc)\n",
    "    return mc\n",
    "def moltosvg(mol,molSize=(450,200),kekulize=True,drawer=None,**kwargs):\n",
    "    mc = rdMolDraw2D.PrepareMolForDrawing(mol,kekulize=kekulize)\n",
    "    if drawer is None:\n",
    "        drawer = rdMolDraw2D.MolDraw2DSVG(molSize[0],molSize[1])\n",
    "    drawer.DrawMolecule(mc,**kwargs)\n",
    "    drawer.FinishDrawing()\n",
    "    svg = drawer.GetDrawingText()\n",
    "    # It seems that the svg renderer used doesn't quite hit the spec.\n",
    "    # Here are some fixes to make it work in the notebook, although I think\n",
    "    # the underlying issue needs to be resolved at the generation step\n",
    "    return SVG(svg.replace('svg:',''))"
   ]
  },
  {
   "cell_type": "code",
   "execution_count": 4,
   "metadata": {
    "collapsed": true
   },
   "outputs": [],
   "source": [
    "# do a depiction where the atom environment is highlighted normally and the central atom\n",
    "# is highlighted in blue\n",
    "def getSubstructDepiction(mol,atomID,radius,molSize=(450,200)):\n",
    "    if radius>0:\n",
    "        env = Chem.FindAtomEnvironmentOfRadiusN(mol,radius,atomID)\n",
    "        atomsToUse=[]\n",
    "        for b in env:\n",
    "            atomsToUse.append(mol.GetBondWithIdx(b).GetBeginAtomIdx())\n",
    "            atomsToUse.append(mol.GetBondWithIdx(b).GetEndAtomIdx())\n",
    "        atomsToUse = list(set(atomsToUse))       \n",
    "    else:\n",
    "        atomsToUse = [atomID]\n",
    "        env=None\n",
    "    return moltosvg(mol,molSize=molSize,highlightAtoms=atomsToUse,highlightAtomColors={atomID:(0.3,0.3,1)})\n",
    "def depictBit(bitId,mol,molSize=(450,200)):\n",
    "    info={}\n",
    "    fp = AllChem.GetMorganFingerprintAsBitVect(mol,radius=2,nBits=2048,bitInfo=info)\n",
    "    aid,rad = info[bitId][0]\n",
    "    return getSubstructDepiction(mol,aid,rad,molSize=molSize)"
   ]
  },
  {
   "cell_type": "markdown",
   "metadata": {},
   "source": [
    "## Basics: similarity between pyridine and benzene"
   ]
  },
  {
   "cell_type": "code",
   "execution_count": 5,
   "metadata": {
    "collapsed": false
   },
   "outputs": [
    {
     "name": "stdout",
     "output_type": "stream",
     "text": [
      "Similarity: 0.3333333333333333\n"
     ]
    }
   ],
   "source": [
    "bz = Chem.MolFromSmiles('c1ccccc1')\n",
    "fp_bz = AllChem.GetMorganFingerprintAsBitVect(bz,radius=2,nBits=2048)\n",
    "pyr = Chem.MolFromSmiles('c1ccccn1')\n",
    "fp_pyr = AllChem.GetMorganFingerprintAsBitVect(pyr,radius=2,nBits=2048)\n",
    "print(\"Similarity:\",DataStructs.TanimotoSimilarity(fp_bz,fp_pyr))"
   ]
  },
  {
   "cell_type": "markdown",
   "metadata": {},
   "source": [
    "The question was: why is this value so low?\n",
    "\n",
    "The obvious mathematical answer is to just look at the definition of Tanimoto similarity:\n",
    "\n",
    "$Tani(fp_1,fp_2) = \\frac{|fp_1 \\cap fp_2|}{|fp_1|+|fp_2|-|fp_1 \\cap fp_2|} = \\frac{|fp_1 \\cap fp_2|}{|fp_1 \\cup fp_2|} $"
   ]
  },
  {
   "cell_type": "code",
   "execution_count": 6,
   "metadata": {
    "collapsed": false
   },
   "outputs": [
    {
     "name": "stdout",
     "output_type": "stream",
     "text": [
      "intersection count: 3\n",
      "union count: 9\n"
     ]
    }
   ],
   "source": [
    "print(\"intersection count:\",(fp_bz&fp_pyr).GetNumOnBits())\n",
    "print(\"union count:\",(fp_bz|fp_pyr).GetNumOnBits())"
   ]
  },
  {
   "cell_type": "markdown",
   "metadata": {
    "collapsed": false
   },
   "source": [
    "But that doesn't really answer the question of \"why\", which boils down to the fact that the fingerprints don't have many bits in common relative to the number of bits set.\n",
    "\n",
    "To understand why the two fingerprints have so few bits in common even though they look very similar to each other, we need to look at the bits themselves. This is most easily done using the bitInfo argument to the fingerprinter."
   ]
  },
  {
   "cell_type": "code",
   "execution_count": 7,
   "metadata": {
    "collapsed": true
   },
   "outputs": [],
   "source": [
    "bi_bz = {}\n",
    "fp_bz = AllChem.GetMorganFingerprintAsBitVect(bz,radius=2,nBits=2048,bitInfo=bi_bz)\n",
    "bi_pyr = {}\n",
    "fp_pyr = AllChem.GetMorganFingerprintAsBitVect(pyr,radius=2,nBits=2048,bitInfo=bi_pyr)"
   ]
  },
  {
   "cell_type": "markdown",
   "metadata": {},
   "source": [
    "The bitInfo structures are dictionaries with bit IDs as keys and (atomId, radius) pairs as values:"
   ]
  },
  {
   "cell_type": "code",
   "execution_count": 8,
   "metadata": {
    "collapsed": false
   },
   "outputs": [
    {
     "data": {
      "text/plain": [
       "{389: ((2, 2), (3, 2), (1, 2), (0, 2), (5, 2), (4, 2)),\n",
       " 1088: ((1, 1), (2, 1), (3, 1), (4, 1), (0, 1), (5, 1)),\n",
       " 1873: ((0, 0), (1, 0), (2, 0), (3, 0), (4, 0), (5, 0))}"
      ]
     },
     "execution_count": 8,
     "metadata": {},
     "output_type": "execute_result"
    }
   ],
   "source": [
    "bi_bz"
   ]
  },
  {
   "cell_type": "markdown",
   "metadata": {},
   "source": [
    "We will start by collecting information about the bits in lists.\n",
    "\n",
    "Here's benzene:"
   ]
  },
  {
   "cell_type": "code",
   "execution_count": 9,
   "metadata": {
    "collapsed": false
   },
   "outputs": [
    {
     "name": "stdout",
     "output_type": "stream",
     "text": [
      "[(1088, 1, '[cH](:[cH]):[cH]', '[cH;R;D2](:[cH;R;D2]):[cH;R;D2]'), (1873, 0, '[cH]', '[cH;R;D2]'), (389, 2, '[cH](:[cH]:[cH]):[cH]:[cH]', '[cH;R;D2](:[cH;R;D2]:[cH;R;D2]):[cH;R;D2]:[cH;R;D2]')]\n"
     ]
    }
   ],
   "source": [
    "info_bz = []\n",
    "for bitId,atoms in bi_bz.items():\n",
    "    exampleAtom,exampleRadius = atoms[0]\n",
    "    description = getSubstructSmi(bz,exampleAtom,exampleRadius)\n",
    "    info_bz.append((bitId,exampleRadius,description[0],description[1]))\n",
    "print(info_bz)"
   ]
  },
  {
   "cell_type": "markdown",
   "metadata": {},
   "source": [
    "And pyridine:"
   ]
  },
  {
   "cell_type": "code",
   "execution_count": 10,
   "metadata": {
    "collapsed": false
   },
   "outputs": [
    {
     "name": "stdout",
     "output_type": "stream",
     "text": [
      "[(1088, 1, '[cH](:[cH]):[cH]', '[cH;R;D2](:[cH;R;D2]):[cH;R;D2]'), (1873, 0, '[cH]', '[cH;R;D2]'), (1603, 1, '[n](:[cH]):[cH]', '[n;R;D2](:[cH;R;D2]):[cH;R;D2]'), (1155, 2, '[cH](:[cH]:[cH]):[cH]:[n]', '[cH;R;D2](:[cH;R;D2]:[cH;R;D2]):[cH;R;D2]:[n;R;D2]'), (437, 2, '[cH](:[cH]:[cH]):[n]:[cH]', '[cH;R;D2](:[cH;R;D2]:[cH;R;D2]):[n;R;D2]:[cH;R;D2]'), (378, 0, '[n]', '[n;R;D2]'), (383, 2, '[n](:[cH]:[cH]):[cH]:[cH]', '[n;R;D2](:[cH;R;D2]:[cH;R;D2]):[cH;R;D2]:[cH;R;D2]'), (1866, 1, '[cH](:[cH]):[n]', '[cH;R;D2](:[cH;R;D2]):[n;R;D2]'), (389, 2, '[cH](:[cH]:[cH]):[cH]:[cH]', '[cH;R;D2](:[cH;R;D2]:[cH;R;D2]):[cH;R;D2]:[cH;R;D2]')]\n"
     ]
    }
   ],
   "source": [
    "info_pyr = []\n",
    "for bitId,atoms in bi_pyr.items():\n",
    "    exampleAtom,exampleRadius = atoms[0]\n",
    "    description = getSubstructSmi(pyr,exampleAtom,exampleRadius)\n",
    "    info_pyr.append((bitId,exampleRadius,description[0],description[1]))\n",
    "print(info_pyr)"
   ]
  },
  {
   "cell_type": "markdown",
   "metadata": {},
   "source": [
    "The text parts of the description show two different levels of detail. The first is simple: element, whether or not it's aromatic (upper-case or lower-case letter) and the H count. The second level of detail adds the number of heavy atom neighbors (also known as degree, and indicated with the \"D\") and whether or not the atom is in a ring (indicated by the \"R\"). The second level of detail corresponds to what is actually used in the fingerprints.\n",
    "\n",
    "Now put those together into a single table with columns for pyridine and benzene:"
   ]
  },
  {
   "cell_type": "code",
   "execution_count": 11,
   "metadata": {
    "collapsed": false
   },
   "outputs": [],
   "source": [
    "collection = {}\n",
    "for bid,rad,smi,sma in info_bz:\n",
    "    collection[bid] = [bid,rad,smi,sma,'','']\n",
    "for bid,rad,smi,sma in info_pyr:\n",
    "    if bid not in collection:\n",
    "        collection[bid] = [bid,rad,'','','','']\n",
    "    collection[bid][-2] = smi\n",
    "    collection[bid][-1] = sma"
   ]
  },
  {
   "cell_type": "markdown",
   "metadata": {},
   "source": [
    "Now put those rows in a Pandas Dataframe"
   ]
  },
  {
   "cell_type": "code",
   "execution_count": 12,
   "metadata": {
    "collapsed": false
   },
   "outputs": [],
   "source": [
    "import pandas as pd\n",
    "pd.options.display.width=100000 # options to make sure our wide columns display properly\n",
    "pd.options.display.max_colwidth=1000"
   ]
  },
  {
   "cell_type": "code",
   "execution_count": 13,
   "metadata": {
    "collapsed": false
   },
   "outputs": [
    {
     "data": {
      "text/html": [
       "<div>\n",
       "<table border=\"1\" class=\"dataframe\">\n",
       "  <thead>\n",
       "    <tr style=\"text-align: right;\">\n",
       "      <th></th>\n",
       "      <th>Bit</th>\n",
       "      <th>radius</th>\n",
       "      <th>smi_bz</th>\n",
       "      <th>sma_bz</th>\n",
       "      <th>smi_pyr</th>\n",
       "      <th>sma_pyr</th>\n",
       "    </tr>\n",
       "  </thead>\n",
       "  <tbody>\n",
       "    <tr>\n",
       "      <th>1</th>\n",
       "      <td>1873</td>\n",
       "      <td>0</td>\n",
       "      <td>[cH]</td>\n",
       "      <td>[cH;R;D2]</td>\n",
       "      <td>[cH]</td>\n",
       "      <td>[cH;R;D2]</td>\n",
       "    </tr>\n",
       "    <tr>\n",
       "      <th>5</th>\n",
       "      <td>378</td>\n",
       "      <td>0</td>\n",
       "      <td></td>\n",
       "      <td></td>\n",
       "      <td>[n]</td>\n",
       "      <td>[n;R;D2]</td>\n",
       "    </tr>\n",
       "    <tr>\n",
       "      <th>0</th>\n",
       "      <td>1088</td>\n",
       "      <td>1</td>\n",
       "      <td>[cH](:[cH]):[cH]</td>\n",
       "      <td>[cH;R;D2](:[cH;R;D2]):[cH;R;D2]</td>\n",
       "      <td>[cH](:[cH]):[cH]</td>\n",
       "      <td>[cH;R;D2](:[cH;R;D2]):[cH;R;D2]</td>\n",
       "    </tr>\n",
       "    <tr>\n",
       "      <th>2</th>\n",
       "      <td>1603</td>\n",
       "      <td>1</td>\n",
       "      <td></td>\n",
       "      <td></td>\n",
       "      <td>[n](:[cH]):[cH]</td>\n",
       "      <td>[n;R;D2](:[cH;R;D2]):[cH;R;D2]</td>\n",
       "    </tr>\n",
       "    <tr>\n",
       "      <th>7</th>\n",
       "      <td>1866</td>\n",
       "      <td>1</td>\n",
       "      <td></td>\n",
       "      <td></td>\n",
       "      <td>[cH](:[cH]):[n]</td>\n",
       "      <td>[cH;R;D2](:[cH;R;D2]):[n;R;D2]</td>\n",
       "    </tr>\n",
       "    <tr>\n",
       "      <th>3</th>\n",
       "      <td>1155</td>\n",
       "      <td>2</td>\n",
       "      <td></td>\n",
       "      <td></td>\n",
       "      <td>[cH](:[cH]:[cH]):[cH]:[n]</td>\n",
       "      <td>[cH;R;D2](:[cH;R;D2]:[cH;R;D2]):[cH;R;D2]:[n;R;D2]</td>\n",
       "    </tr>\n",
       "    <tr>\n",
       "      <th>4</th>\n",
       "      <td>389</td>\n",
       "      <td>2</td>\n",
       "      <td>[cH](:[cH]:[cH]):[cH]:[cH]</td>\n",
       "      <td>[cH;R;D2](:[cH;R;D2]:[cH;R;D2]):[cH;R;D2]:[cH;R;D2]</td>\n",
       "      <td>[cH](:[cH]:[cH]):[cH]:[cH]</td>\n",
       "      <td>[cH;R;D2](:[cH;R;D2]:[cH;R;D2]):[cH;R;D2]:[cH;R;D2]</td>\n",
       "    </tr>\n",
       "    <tr>\n",
       "      <th>6</th>\n",
       "      <td>383</td>\n",
       "      <td>2</td>\n",
       "      <td></td>\n",
       "      <td></td>\n",
       "      <td>[n](:[cH]:[cH]):[cH]:[cH]</td>\n",
       "      <td>[n;R;D2](:[cH;R;D2]:[cH;R;D2]):[cH;R;D2]:[cH;R;D2]</td>\n",
       "    </tr>\n",
       "    <tr>\n",
       "      <th>8</th>\n",
       "      <td>437</td>\n",
       "      <td>2</td>\n",
       "      <td></td>\n",
       "      <td></td>\n",
       "      <td>[cH](:[cH]:[cH]):[n]:[cH]</td>\n",
       "      <td>[cH;R;D2](:[cH;R;D2]:[cH;R;D2]):[n;R;D2]:[cH;R;D2]</td>\n",
       "    </tr>\n",
       "  </tbody>\n",
       "</table>\n",
       "</div>"
      ],
      "text/plain": [
       "    Bit  radius                      smi_bz                                               sma_bz                     smi_pyr                                              sma_pyr\n",
       "1  1873       0                        [cH]                                            [cH;R;D2]                        [cH]                                            [cH;R;D2]\n",
       "5   378       0                                                                                                          [n]                                             [n;R;D2]\n",
       "0  1088       1            [cH](:[cH]):[cH]                      [cH;R;D2](:[cH;R;D2]):[cH;R;D2]            [cH](:[cH]):[cH]                      [cH;R;D2](:[cH;R;D2]):[cH;R;D2]\n",
       "2  1603       1                                                                                              [n](:[cH]):[cH]                       [n;R;D2](:[cH;R;D2]):[cH;R;D2]\n",
       "7  1866       1                                                                                              [cH](:[cH]):[n]                       [cH;R;D2](:[cH;R;D2]):[n;R;D2]\n",
       "3  1155       2                                                                                    [cH](:[cH]:[cH]):[cH]:[n]   [cH;R;D2](:[cH;R;D2]:[cH;R;D2]):[cH;R;D2]:[n;R;D2]\n",
       "4   389       2  [cH](:[cH]:[cH]):[cH]:[cH]  [cH;R;D2](:[cH;R;D2]:[cH;R;D2]):[cH;R;D2]:[cH;R;D2]  [cH](:[cH]:[cH]):[cH]:[cH]  [cH;R;D2](:[cH;R;D2]:[cH;R;D2]):[cH;R;D2]:[cH;R;D2]\n",
       "6   383       2                                                                                    [n](:[cH]:[cH]):[cH]:[cH]   [n;R;D2](:[cH;R;D2]:[cH;R;D2]):[cH;R;D2]:[cH;R;D2]\n",
       "8   437       2                                                                                    [cH](:[cH]:[cH]):[n]:[cH]   [cH;R;D2](:[cH;R;D2]:[cH;R;D2]):[n;R;D2]:[cH;R;D2]"
      ]
     },
     "execution_count": 13,
     "metadata": {},
     "output_type": "execute_result"
    }
   ],
   "source": [
    "df = pd.DataFrame(list(collection.values()),columns=('Bit','radius','smi_bz','sma_bz','smi_pyr','sma_pyr'))\n",
    "df.sort_values(by='radius')"
   ]
  },
  {
   "cell_type": "markdown",
   "metadata": {},
   "source": [
    "Let's look at some of the bits.\n",
    "\n",
    "The radius 0 bits are just the \"c\" or the \"n\", so they are uninteresting.\n",
    "\n",
    "The radius 1 bits all have three atoms:"
   ]
  },
  {
   "cell_type": "code",
   "execution_count": 14,
   "metadata": {
    "collapsed": false
   },
   "outputs": [
    {
     "data": {
      "image/svg+xml": [
       "<svg baseProfile=\"full\" height=\"125px\" version=\"1.1\" width=\"125px\" xml:space=\"preserve\" xmlns:rdkit=\"http://www.rdkit.org/xml\" xmlns:svg=\"http://www.w3.org/2000/svg\" xmlns:xlink=\"http://www.w3.org/1999/xlink\">\n",
       "<rect height=\"125\" style=\"opacity:1.0;fill:#FFFFFF;stroke:none\" width=\"125\" x=\"0\" y=\"0\"> </rect>\n",
       "<path d=\"M 5.18182,62 33.5909,12.794\" style=\"fill:none;fill-rule:evenodd;stroke:#FF7F7F;stroke-width:16px;stroke-linecap:butt;stroke-linejoin:miter;stroke-opacity:1\"/>\n",
       "<path d=\"M 33.5909,12.794 90.4091,12.794\" style=\"fill:none;fill-rule:evenodd;stroke:#FF7F7F;stroke-width:16px;stroke-linecap:butt;stroke-linejoin:miter;stroke-opacity:1\"/>\n",
       "<ellipse cx=\"5.18182\" cy=\"62\" rx=\"15.1515\" ry=\"15.1515\" style=\"fill:#FF7F7F;fill-rule:evenoddstroke:#FF7F7F;stroke-width:1px;stroke-linecap:butt;stroke-linejoin:miter;stroke-opacity:1\"/>\n",
       "<ellipse cx=\"33.5909\" cy=\"12.794\" rx=\"15.1515\" ry=\"15.1515\" style=\"fill:#4C4CFF;fill-rule:evenoddstroke:#4C4CFF;stroke-width:1px;stroke-linecap:butt;stroke-linejoin:miter;stroke-opacity:1\"/>\n",
       "<ellipse cx=\"90.4091\" cy=\"12.794\" rx=\"15.1515\" ry=\"15.1515\" style=\"fill:#FF7F7F;fill-rule:evenoddstroke:#FF7F7F;stroke-width:1px;stroke-linecap:butt;stroke-linejoin:miter;stroke-opacity:1\"/>\n",
       "<path d=\"M 118.818,62 90.4091,111.206\" style=\"fill:none;fill-rule:evenodd;stroke:#000000;stroke-width:2px;stroke-linecap:butt;stroke-linejoin:miter;stroke-opacity:1\"/>\n",
       "<path d=\"M 109.416,63.1327 86.6892,102.498\" style=\"fill:none;fill-rule:evenodd;stroke:#000000;stroke-width:2px;stroke-linecap:butt;stroke-linejoin:miter;stroke-opacity:1\"/>\n",
       "<path d=\"M 118.818,62 107.347,42.1319\" style=\"fill:none;fill-rule:evenodd;stroke:#000000;stroke-width:2px;stroke-linecap:butt;stroke-linejoin:miter;stroke-opacity:1\"/>\n",
       "<path d=\"M 107.347,42.1319 95.8764,22.2637\" style=\"fill:none;fill-rule:evenodd;stroke:#0000FF;stroke-width:2px;stroke-linecap:butt;stroke-linejoin:miter;stroke-opacity:1\"/>\n",
       "<path d=\"M 90.4091,111.206 33.5909,111.206\" style=\"fill:none;fill-rule:evenodd;stroke:#000000;stroke-width:2px;stroke-linecap:butt;stroke-linejoin:miter;stroke-opacity:1\"/>\n",
       "<path d=\"M 33.5909,111.206 5.18182,62\" style=\"fill:none;fill-rule:evenodd;stroke:#000000;stroke-width:2px;stroke-linecap:butt;stroke-linejoin:miter;stroke-opacity:1\"/>\n",
       "<path d=\"M 37.3108,102.498 14.5835,63.1327\" style=\"fill:none;fill-rule:evenodd;stroke:#000000;stroke-width:2px;stroke-linecap:butt;stroke-linejoin:miter;stroke-opacity:1\"/>\n",
       "<path d=\"M 5.18182,62 33.5909,12.794\" style=\"fill:none;fill-rule:evenodd;stroke:#000000;stroke-width:2px;stroke-linecap:butt;stroke-linejoin:miter;stroke-opacity:1\"/>\n",
       "<path d=\"M 33.5909,12.794 57.8961,12.794\" style=\"fill:none;fill-rule:evenodd;stroke:#000000;stroke-width:2px;stroke-linecap:butt;stroke-linejoin:miter;stroke-opacity:1\"/>\n",
       "<path d=\"M 57.8961,12.794 82.2013,12.794\" style=\"fill:none;fill-rule:evenodd;stroke:#0000FF;stroke-width:2px;stroke-linecap:butt;stroke-linejoin:miter;stroke-opacity:1\"/>\n",
       "<path d=\"M 38.4519,20.3698 57.8961,20.3698\" style=\"fill:none;fill-rule:evenodd;stroke:#000000;stroke-width:2px;stroke-linecap:butt;stroke-linejoin:miter;stroke-opacity:1\"/>\n",
       "<path d=\"M 57.8961,20.3698 77.3402,20.3698\" style=\"fill:none;fill-rule:evenodd;stroke:#0000FF;stroke-width:2px;stroke-linecap:butt;stroke-linejoin:miter;stroke-opacity:1\"/>\n",
       "<text style=\"font-size:18px;font-style:normal;font-weight:normal;fill-opacity:1;stroke:none;font-family:sans-serif;text-anchor:start;fill:#0000FF\" x=\"82.2013\" y=\"22.2637\"><tspan>N</tspan></text>\n",
       "</svg>"
      ],
      "text/plain": [
       "<IPython.core.display.SVG object>"
      ]
     },
     "execution_count": 14,
     "metadata": {},
     "output_type": "execute_result"
    }
   ],
   "source": [
    "depictBit(1866,pyr,molSize=(125,125))"
   ]
  },
  {
   "cell_type": "markdown",
   "metadata": {},
   "source": [
    "The other two are easy to envision: bit 1088 is all C, and bit 1603 has the N in the middle."
   ]
  },
  {
   "cell_type": "markdown",
   "metadata": {},
   "source": [
    "The radius 2 bits each have 5 atoms, here are a couple of them:"
   ]
  },
  {
   "cell_type": "code",
   "execution_count": 15,
   "metadata": {
    "collapsed": false
   },
   "outputs": [
    {
     "data": {
      "image/svg+xml": [
       "<svg baseProfile=\"full\" height=\"125px\" version=\"1.1\" width=\"125px\" xml:space=\"preserve\" xmlns:rdkit=\"http://www.rdkit.org/xml\" xmlns:svg=\"http://www.w3.org/2000/svg\" xmlns:xlink=\"http://www.w3.org/1999/xlink\">\n",
       "<rect height=\"125\" style=\"opacity:1.0;fill:#FFFFFF;stroke:none\" width=\"125\" x=\"0\" y=\"0\"> </rect>\n",
       "<path d=\"M 90.4091,111.206 33.5909,111.206\" style=\"fill:none;fill-rule:evenodd;stroke:#FF7F7F;stroke-width:16px;stroke-linecap:butt;stroke-linejoin:miter;stroke-opacity:1\"/>\n",
       "<path d=\"M 33.5909,111.206 5.18182,62\" style=\"fill:none;fill-rule:evenodd;stroke:#FF7F7F;stroke-width:16px;stroke-linecap:butt;stroke-linejoin:miter;stroke-opacity:1\"/>\n",
       "<path d=\"M 5.18182,62 33.5909,12.794\" style=\"fill:none;fill-rule:evenodd;stroke:#FF7F7F;stroke-width:16px;stroke-linecap:butt;stroke-linejoin:miter;stroke-opacity:1\"/>\n",
       "<path d=\"M 33.5909,12.794 90.4091,12.794\" style=\"fill:none;fill-rule:evenodd;stroke:#FF7F7F;stroke-width:16px;stroke-linecap:butt;stroke-linejoin:miter;stroke-opacity:1\"/>\n",
       "<ellipse cx=\"90.4091\" cy=\"111.206\" rx=\"15.1515\" ry=\"15.1515\" style=\"fill:#FF7F7F;fill-rule:evenoddstroke:#FF7F7F;stroke-width:1px;stroke-linecap:butt;stroke-linejoin:miter;stroke-opacity:1\"/>\n",
       "<ellipse cx=\"33.5909\" cy=\"111.206\" rx=\"15.1515\" ry=\"15.1515\" style=\"fill:#FF7F7F;fill-rule:evenoddstroke:#FF7F7F;stroke-width:1px;stroke-linecap:butt;stroke-linejoin:miter;stroke-opacity:1\"/>\n",
       "<ellipse cx=\"5.18182\" cy=\"62\" rx=\"15.1515\" ry=\"15.1515\" style=\"fill:#4C4CFF;fill-rule:evenoddstroke:#4C4CFF;stroke-width:1px;stroke-linecap:butt;stroke-linejoin:miter;stroke-opacity:1\"/>\n",
       "<ellipse cx=\"33.5909\" cy=\"12.794\" rx=\"15.1515\" ry=\"15.1515\" style=\"fill:#FF7F7F;fill-rule:evenoddstroke:#FF7F7F;stroke-width:1px;stroke-linecap:butt;stroke-linejoin:miter;stroke-opacity:1\"/>\n",
       "<ellipse cx=\"90.4091\" cy=\"12.794\" rx=\"15.1515\" ry=\"15.1515\" style=\"fill:#FF7F7F;fill-rule:evenoddstroke:#FF7F7F;stroke-width:1px;stroke-linecap:butt;stroke-linejoin:miter;stroke-opacity:1\"/>\n",
       "<path d=\"M 118.818,62 90.4091,111.206\" style=\"fill:none;fill-rule:evenodd;stroke:#000000;stroke-width:2px;stroke-linecap:butt;stroke-linejoin:miter;stroke-opacity:1\"/>\n",
       "<path d=\"M 109.416,63.1327 86.6892,102.498\" style=\"fill:none;fill-rule:evenodd;stroke:#000000;stroke-width:2px;stroke-linecap:butt;stroke-linejoin:miter;stroke-opacity:1\"/>\n",
       "<path d=\"M 118.818,62 107.347,42.1319\" style=\"fill:none;fill-rule:evenodd;stroke:#000000;stroke-width:2px;stroke-linecap:butt;stroke-linejoin:miter;stroke-opacity:1\"/>\n",
       "<path d=\"M 107.347,42.1319 95.8764,22.2637\" style=\"fill:none;fill-rule:evenodd;stroke:#0000FF;stroke-width:2px;stroke-linecap:butt;stroke-linejoin:miter;stroke-opacity:1\"/>\n",
       "<path d=\"M 90.4091,111.206 33.5909,111.206\" style=\"fill:none;fill-rule:evenodd;stroke:#000000;stroke-width:2px;stroke-linecap:butt;stroke-linejoin:miter;stroke-opacity:1\"/>\n",
       "<path d=\"M 33.5909,111.206 5.18182,62\" style=\"fill:none;fill-rule:evenodd;stroke:#000000;stroke-width:2px;stroke-linecap:butt;stroke-linejoin:miter;stroke-opacity:1\"/>\n",
       "<path d=\"M 37.3108,102.498 14.5835,63.1327\" style=\"fill:none;fill-rule:evenodd;stroke:#000000;stroke-width:2px;stroke-linecap:butt;stroke-linejoin:miter;stroke-opacity:1\"/>\n",
       "<path d=\"M 5.18182,62 33.5909,12.794\" style=\"fill:none;fill-rule:evenodd;stroke:#000000;stroke-width:2px;stroke-linecap:butt;stroke-linejoin:miter;stroke-opacity:1\"/>\n",
       "<path d=\"M 33.5909,12.794 57.8961,12.794\" style=\"fill:none;fill-rule:evenodd;stroke:#000000;stroke-width:2px;stroke-linecap:butt;stroke-linejoin:miter;stroke-opacity:1\"/>\n",
       "<path d=\"M 57.8961,12.794 82.2013,12.794\" style=\"fill:none;fill-rule:evenodd;stroke:#0000FF;stroke-width:2px;stroke-linecap:butt;stroke-linejoin:miter;stroke-opacity:1\"/>\n",
       "<path d=\"M 38.4519,20.3698 57.8961,20.3698\" style=\"fill:none;fill-rule:evenodd;stroke:#000000;stroke-width:2px;stroke-linecap:butt;stroke-linejoin:miter;stroke-opacity:1\"/>\n",
       "<path d=\"M 57.8961,20.3698 77.3402,20.3698\" style=\"fill:none;fill-rule:evenodd;stroke:#0000FF;stroke-width:2px;stroke-linecap:butt;stroke-linejoin:miter;stroke-opacity:1\"/>\n",
       "<text style=\"font-size:18px;font-style:normal;font-weight:normal;fill-opacity:1;stroke:none;font-family:sans-serif;text-anchor:start;fill:#0000FF\" x=\"82.2013\" y=\"22.2637\"><tspan>N</tspan></text>\n",
       "</svg>"
      ],
      "text/plain": [
       "<IPython.core.display.SVG object>"
      ]
     },
     "execution_count": 15,
     "metadata": {},
     "output_type": "execute_result"
    }
   ],
   "source": [
    "depictBit(1155,pyr,molSize=(125,125))"
   ]
  },
  {
   "cell_type": "code",
   "execution_count": 16,
   "metadata": {
    "collapsed": false
   },
   "outputs": [
    {
     "data": {
      "image/svg+xml": [
       "<svg baseProfile=\"full\" height=\"125px\" version=\"1.1\" width=\"125px\" xml:space=\"preserve\" xmlns:rdkit=\"http://www.rdkit.org/xml\" xmlns:svg=\"http://www.w3.org/2000/svg\" xmlns:xlink=\"http://www.w3.org/1999/xlink\">\n",
       "<rect height=\"125\" style=\"opacity:1.0;fill:#FFFFFF;stroke:none\" width=\"125\" x=\"0\" y=\"0\"> </rect>\n",
       "<path d=\"M 118.818,62 90.4091,111.206\" style=\"fill:none;fill-rule:evenodd;stroke:#FF7F7F;stroke-width:16px;stroke-linecap:butt;stroke-linejoin:miter;stroke-opacity:1\"/>\n",
       "<path d=\"M 118.818,62 90.4091,12.794\" style=\"fill:none;fill-rule:evenodd;stroke:#FF7F7F;stroke-width:16px;stroke-linecap:butt;stroke-linejoin:miter;stroke-opacity:1\"/>\n",
       "<path d=\"M 5.18182,62 33.5909,12.794\" style=\"fill:none;fill-rule:evenodd;stroke:#FF7F7F;stroke-width:16px;stroke-linecap:butt;stroke-linejoin:miter;stroke-opacity:1\"/>\n",
       "<path d=\"M 33.5909,12.794 90.4091,12.794\" style=\"fill:none;fill-rule:evenodd;stroke:#FF7F7F;stroke-width:16px;stroke-linecap:butt;stroke-linejoin:miter;stroke-opacity:1\"/>\n",
       "<ellipse cx=\"118.818\" cy=\"62\" rx=\"15.1515\" ry=\"15.1515\" style=\"fill:#FF7F7F;fill-rule:evenoddstroke:#FF7F7F;stroke-width:1px;stroke-linecap:butt;stroke-linejoin:miter;stroke-opacity:1\"/>\n",
       "<ellipse cx=\"90.4091\" cy=\"111.206\" rx=\"15.1515\" ry=\"15.1515\" style=\"fill:#FF7F7F;fill-rule:evenoddstroke:#FF7F7F;stroke-width:1px;stroke-linecap:butt;stroke-linejoin:miter;stroke-opacity:1\"/>\n",
       "<ellipse cx=\"5.18182\" cy=\"62\" rx=\"15.1515\" ry=\"15.1515\" style=\"fill:#FF7F7F;fill-rule:evenoddstroke:#FF7F7F;stroke-width:1px;stroke-linecap:butt;stroke-linejoin:miter;stroke-opacity:1\"/>\n",
       "<ellipse cx=\"33.5909\" cy=\"12.794\" rx=\"15.1515\" ry=\"15.1515\" style=\"fill:#FF7F7F;fill-rule:evenoddstroke:#FF7F7F;stroke-width:1px;stroke-linecap:butt;stroke-linejoin:miter;stroke-opacity:1\"/>\n",
       "<ellipse cx=\"90.4091\" cy=\"12.794\" rx=\"15.1515\" ry=\"15.1515\" style=\"fill:#4C4CFF;fill-rule:evenoddstroke:#4C4CFF;stroke-width:1px;stroke-linecap:butt;stroke-linejoin:miter;stroke-opacity:1\"/>\n",
       "<path d=\"M 118.818,62 90.4091,111.206\" style=\"fill:none;fill-rule:evenodd;stroke:#000000;stroke-width:2px;stroke-linecap:butt;stroke-linejoin:miter;stroke-opacity:1\"/>\n",
       "<path d=\"M 109.416,63.1327 86.6892,102.498\" style=\"fill:none;fill-rule:evenodd;stroke:#000000;stroke-width:2px;stroke-linecap:butt;stroke-linejoin:miter;stroke-opacity:1\"/>\n",
       "<path d=\"M 118.818,62 107.347,42.1319\" style=\"fill:none;fill-rule:evenodd;stroke:#000000;stroke-width:2px;stroke-linecap:butt;stroke-linejoin:miter;stroke-opacity:1\"/>\n",
       "<path d=\"M 107.347,42.1319 95.8764,22.2637\" style=\"fill:none;fill-rule:evenodd;stroke:#0000FF;stroke-width:2px;stroke-linecap:butt;stroke-linejoin:miter;stroke-opacity:1\"/>\n",
       "<path d=\"M 90.4091,111.206 33.5909,111.206\" style=\"fill:none;fill-rule:evenodd;stroke:#000000;stroke-width:2px;stroke-linecap:butt;stroke-linejoin:miter;stroke-opacity:1\"/>\n",
       "<path d=\"M 33.5909,111.206 5.18182,62\" style=\"fill:none;fill-rule:evenodd;stroke:#000000;stroke-width:2px;stroke-linecap:butt;stroke-linejoin:miter;stroke-opacity:1\"/>\n",
       "<path d=\"M 37.3108,102.498 14.5835,63.1327\" style=\"fill:none;fill-rule:evenodd;stroke:#000000;stroke-width:2px;stroke-linecap:butt;stroke-linejoin:miter;stroke-opacity:1\"/>\n",
       "<path d=\"M 5.18182,62 33.5909,12.794\" style=\"fill:none;fill-rule:evenodd;stroke:#000000;stroke-width:2px;stroke-linecap:butt;stroke-linejoin:miter;stroke-opacity:1\"/>\n",
       "<path d=\"M 33.5909,12.794 57.8961,12.794\" style=\"fill:none;fill-rule:evenodd;stroke:#000000;stroke-width:2px;stroke-linecap:butt;stroke-linejoin:miter;stroke-opacity:1\"/>\n",
       "<path d=\"M 57.8961,12.794 82.2013,12.794\" style=\"fill:none;fill-rule:evenodd;stroke:#0000FF;stroke-width:2px;stroke-linecap:butt;stroke-linejoin:miter;stroke-opacity:1\"/>\n",
       "<path d=\"M 38.4519,20.3698 57.8961,20.3698\" style=\"fill:none;fill-rule:evenodd;stroke:#000000;stroke-width:2px;stroke-linecap:butt;stroke-linejoin:miter;stroke-opacity:1\"/>\n",
       "<path d=\"M 57.8961,20.3698 77.3402,20.3698\" style=\"fill:none;fill-rule:evenodd;stroke:#0000FF;stroke-width:2px;stroke-linecap:butt;stroke-linejoin:miter;stroke-opacity:1\"/>\n",
       "<text style=\"font-size:18px;font-style:normal;font-weight:normal;fill-opacity:1;stroke:none;font-family:sans-serif;text-anchor:start;fill:#0000FF\" x=\"82.2013\" y=\"22.2637\"><tspan>N</tspan></text>\n",
       "</svg>"
      ],
      "text/plain": [
       "<IPython.core.display.SVG object>"
      ]
     },
     "execution_count": 16,
     "metadata": {},
     "output_type": "execute_result"
    }
   ],
   "source": [
    "depictBit(383,pyr,molSize=(125,125))"
   ]
  },
  {
   "cell_type": "markdown",
   "metadata": {},
   "source": [
    "The other two have the N in the second position (bit 437) or are pure C (bit 389)"
   ]
  },
  {
   "cell_type": "markdown",
   "metadata": {},
   "source": [
    "That's pretty much it for this case."
   ]
  }
 ],
 "metadata": {
  "kernelspec": {
   "display_name": "Python 3",
   "language": "python",
   "name": "python3"
  },
  "language_info": {
   "codemirror_mode": {
    "name": "ipython",
    "version": 3
   },
   "file_extension": ".py",
   "mimetype": "text/x-python",
   "name": "python",
   "nbconvert_exporter": "python",
   "pygments_lexer": "ipython3",
   "version": "3.5.1"
  }
 },
 "nbformat": 4,
 "nbformat_minor": 0
}

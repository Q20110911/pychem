{
 "cells": [
  {
   "cell_type": "markdown",
   "metadata": {},
   "source": [
    "# Thresholds for \"random\" in fingerprints the RDKit supports\n",
    "\n",
    "This is an updated version of a post. The original version of the notebook can be [found in github](https://github.com/greglandrum/rdkit_blog/blob/936b35b77ddca3e843991d1c4b1e3532e754b734/notebooks/Fingerprint%20Thresholds.ipynb).\n",
    "\n",
    "A frequent question that comes up when considering fingerprint similarity is: \"What threshold should I use to determine what a neighbor is?\" The answer is poorly defined. Of course it depends heavily on the details of the fingerprint, but there's also a very subjective component: you want to pick a low enough threshold that you're sure you won't miss anything, but you don't want to pick up too much noise.\n",
    "\n",
    "The goal here is to systematically come up with some guidelines that can be used for fingerprints supported within the RDKit. We will do that by looking a similarities between random \"drug-like\" (MW<600) molecules picked from ChEMBL.\n",
    "\n",
    "For the analysis, the 25K similarity values are sorted and the values at particular threshold are examined. \n",
    "\n",
    "There's a fair amount of code and results below, so here's the summary table. To help interpret this: 22500 of the 25000 pairs (90%) have a MACCS keys similarity value less than 0.528. \n",
    "\n",
    "\n",
    "<table>\n",
    "<tr><th>Fingerprint</th><th>Metric</th><th>90% level</th><th>95% level</th><th>99% level</th></tr>\n",
    "<tr>\n",
    "  <td>MACCS</td><td>Tanimoto</td>\n",
    "  <td>0.528</td>\n",
    "  <td>0.573</td>\n",
    "  <td>0.652</td>\n",
    "</tr>\n",
    "<tr>\n",
    "  <td>MFP0 (counts)</td><td>Tanimoto</td>\n",
    "  <td>0.525</td>\n",
    "  <td>0.568</td>\n",
    "  <td>0.649</td>\n",
    "</tr>\n",
    "<tr>\n",
    "  <td>MFP1 (counts)</td><td>Tanimoto</td>\n",
    "  <td>0.333</td>\n",
    "  <td>0.365</td>\n",
    "  <td>0.428</td>\n",
    "</tr>\n",
    "<tr>\n",
    "  <td>MFP2 (counts)</td><td>Tanimoto</td>\n",
    "  <td>0.230</td>\n",
    "  <td>0.255</td>\n",
    "  <td>0.306</td>\n",
    "</tr>\n",
    "<tr>\n",
    "  <td>MFP3 (counts)</td><td>Tanimoto</td>\n",
    "  <td>0.178</td>\n",
    "  <td>0.198</td>\n",
    "  <td>0.240</td>\n",
    "</tr>\n",
    "<tr>\n",
    "  <td>MFP0 (bits)</td><td>Tanimoto</td>\n",
    "  <td>0.529</td>\n",
    "  <td>0.571</td>\n",
    "  <td>0.654</td>\n",
    "</tr>\n",
    "<tr>\n",
    "  <td>MFP1 (bits)</td><td>Tanimoto</td>\n",
    "  <td>0.341</td>\n",
    "  <td>0.372</td>\n",
    "  <td>0.437</td>\n",
    "</tr>\n",
    "<tr>\n",
    "  <td>MFP2 (bits)</td><td>Tanimoto</td>\n",
    "  <td>0.246</td>\n",
    "  <td>0.272</td>\n",
    "  <td>0.321</td>\n",
    "</tr>\n",
    "<tr>\n",
    "  <td>MFP3 (bits)</td><td>Tanimoto</td>\n",
    "  <td>0.203</td>\n",
    "  <td>0.224</td>\n",
    "  <td>0.264</td>\n",
    "</tr>\n",
    "<tr>\n",
    "  <td>FeatMFP0 (counts)</td><td>Tanimoto</td>\n",
    "  <td>0.692</td>\n",
    "  <td>0.742</td>\n",
    "  <td>0.825</td>\n",
    "</tr>\n",
    "<tr>\n",
    "  <td>FeatMFP1 (counts)</td><td>Tanimoto</td>\n",
    "  <td>0.472</td>\n",
    "  <td>0.512</td>\n",
    "  <td>0.584</td>\n",
    "</tr>\n",
    "<tr>\n",
    "  <td>FeatMFP2 (counts)</td><td>Tanimoto</td>\n",
    "  <td>0.333</td>\n",
    "  <td>0.364</td>\n",
    "  <td>0.425</td>\n",
    "</tr>\n",
    "<tr>\n",
    "  <td>FeatMFP3 (counts)</td><td>Tanimoto</td>\n",
    "  <td>0.255</td>\n",
    "  <td>0.278</td>\n",
    "  <td>0.331</td>\n",
    "</tr>\n",
    "<tr>\n",
    "  <td>FeatMFP0 (bits)</td><td>Tanimoto</td>\n",
    "  <td>0.692</td>\n",
    "  <td>0.741</td>\n",
    "  <td>0.825</td>\n",
    "</tr><tr>\n",
    "  <td>FeatMFP1 (bits)</td><td>Tanimoto</td>\n",
    "  <td>0.476</td>\n",
    "  <td>0.516</td>\n",
    "  <td>0.587</td>\n",
    "</tr><tr>\n",
    "  <td>FeatMFP2 (bits)</td><td>Tanimoto</td>\n",
    "  <td>0.346</td>\n",
    "  <td>0.376</td>\n",
    "  <td>0.438</td>\n",
    "</tr><tr>\n",
    "  <td>FeatMFP3 (bits)</td><td>Tanimoto</td>\n",
    "  <td>0.275</td>\n",
    "  <td>0.299</td>\n",
    "  <td>0.349</td>\n",
    "</tr><tr>\n",
    "  <td>RDKit4</td><td>Tanimoto</td>\n",
    "  <td>0.283</td>\n",
    "  <td>0.325</td>\n",
    "  <td>0.425</td>\n",
    "</tr><tr>\n",
    "  <td>RDKit5</td><td>Tanimoto</td>\n",
    "  <td>0.255</td>\n",
    "  <td>0.286</td>\n",
    "  <td>0.370</td>\n",
    "</tr><tr>\n",
    "  <td>RDKit6</td><td>Tanimoto</td>\n",
    "  <td>0.282</td>\n",
    "  <td>0.307</td>\n",
    "  <td>0.367</td>\n",
    "</tr><tr>\n",
    "  <td>RDKit7</td><td>Tanimoto</td>\n",
    "  <td>0.390</td>\n",
    "  <td>0.429</td>\n",
    "  <td>0.510</td>\n",
    "</tr><tr>\n",
    "  <td>RDKit4 (linear)</td><td>Tanimoto</td>\n",
    "  <td>0.307</td>\n",
    "  <td>0.354</td>\n",
    "  <td>0.462</td>\n",
    "</tr><tr>\n",
    "  <td>RDKit5 (linear)</td><td>Tanimoto</td>\n",
    "  <td>0.268</td>\n",
    "  <td>0.307</td>\n",
    "  <td>0.406</td>\n",
    "</tr><tr>\n",
    "  <td>RDKit6 (linear)</td><td>Tanimoto</td>\n",
    "  <td>0.248</td>\n",
    "  <td>0.280</td>\n",
    "  <td>0.366</td>\n",
    "</tr>\n",
    "<tr>\n",
    "  <td>RDKit7 (linear)</td><td>Tanimoto</td>\n",
    "  <td>0.235</td>\n",
    "  <td>0.263</td>\n",
    "  <td>0.339</td>\n",
    "</tr>\n",
    "<tr>\n",
    "  <td>Atom pairs (counts)</td><td>Tanimoto</td>\n",
    "  <td>0.238</td>\n",
    "  <td>0.266</td>\n",
    "  <td>0.326</td>\n",
    "</tr>\n",
    "<tr>\n",
    "  <td>Torsions (counts)</td><td>Tanimoto</td>\n",
    "  <td>0.165</td>\n",
    "  <td>0.198</td>\n",
    "  <td>0.264</td>\n",
    "</tr>\n",
    "<tr>\n",
    "  <td>Atom pairs (bits)</td><td>Tanimoto</td>\n",
    "  <td>0.336</td>\n",
    "  <td>0.364</td>\n",
    "  <td>0.415</td>\n",
    "</tr>\n",
    "<tr>\n",
    "  <td>Torsions (bits)</td><td>Tanimoto</td>\n",
    "  <td>0.190</td>\n",
    "  <td>0.221</td>\n",
    "  <td>0.290</td>\n",
    "</tr>\n",
    "<tr>\n",
    "  <td>Avalon (512 bits)</td><td>Tanimoto</td>\n",
    "  <td>0.462</td>\n",
    "  <td>0.504</td>\n",
    "  <td>0.579</td>\n",
    "</tr>\n",
    "<tr>\n",
    "  <td>Avalon (1024 bits)</td><td>Tanimoto</td>\n",
    "  <td>0.341</td>\n",
    "  <td>0.377</td>\n",
    "  <td>0.451</td>\n",
    "</tr>\n",
    "<tr>\n",
    "  <td>Avalon (512 bits)</td><td>Tanimoto</td>\n",
    "  <td>0.462</td>\n",
    "  <td>0.504</td>\n",
    "  <td>0.579</td>\n",
    "</tr>\n",
    "<tr>\n",
    "  <td>Avalon (1024 bits)</td><td>Tanimoto</td>\n",
    "  <td>0.341</td>\n",
    "  <td>0.377</td>\n",
    "  <td>0.451</td>\n",
    "</tr>\n",
    "<tr>\n",
    "  <td>Avalon counts (512 bits)</td><td>Tanimoto</td>\n",
    "  <td>0.381</td>\n",
    "  <td>0.417</td>\n",
    "  <td>0.497</td>\n",
    "</tr>\n",
    "<tr>\n",
    "  <td>Avalon counts (1024 bits)</td><td>Tanimoto</td>\n",
    "  <td>0.346</td>\n",
    "  <td>0.384</td>\n",
    "  <td>0.469</td>\n",
    "</tr>\n",
    "</table>\n"
   ]
  },
  {
   "cell_type": "code",
   "execution_count": 6,
   "metadata": {},
   "outputs": [
    {
     "name": "stdout",
     "output_type": "stream",
     "text": [
      "2019.09.1dev1\n",
      "Mon May 27 13:23:11 2019\n",
      "Populating the interactive namespace from numpy and matplotlib\n"
     ]
    },
    {
     "name": "stderr",
     "output_type": "stream",
     "text": [
      "/other_linux/home/glandrum/anaconda3/lib/python3.7/site-packages/IPython/core/magics/pylab.py:160: UserWarning: pylab import has clobbered these variables: ['random']\n",
      "`%matplotlib` prevents importing * from pylab and numpy\n",
      "  \"\\n`%matplotlib` prevents importing * from pylab and numpy\"\n"
     ]
    }
   ],
   "source": [
    "from rdkit import Chem\n",
    "from rdkit.Chem import rdMolDescriptors\n",
    "from rdkit.Avalon import pyAvalonTools\n",
    "from rdkit.Chem import Draw\n",
    "from rdkit.Chem.Draw import IPythonConsole\n",
    "from rdkit import rdBase\n",
    "from rdkit import DataStructs\n",
    "from collections import defaultdict\n",
    "import pickle,random,gzip\n",
    "print(rdBase.rdkitVersion)\n",
    "import time\n",
    "print(time.asctime())\n",
    "%pylab inline"
   ]
  },
  {
   "cell_type": "markdown",
   "metadata": {},
   "source": [
    "# Read in the data\n",
    "\n",
    "We're using the set of 25K reference pairs generated in an earlier post: http://rdkit.blogspot.ch/2013/10/building-similarity-comparison-set-goal.html\n",
    "\n",
    "As a quick reminder: these are pairs of molecules taken from ChEMBL with MW<600 and a count-based MFP0 similarity of at least 0.7 to each other."
   ]
  },
  {
   "cell_type": "code",
   "execution_count": 2,
   "metadata": {},
   "outputs": [],
   "source": [
    "ind = [x.split() for x in gzip.open('../data/chembl16_25K.pairs.txt.gz')]\n",
    "ms1 = []\n",
    "ms2 = []\n",
    "for i,row in enumerate(ind):\n",
    "    m1 = Chem.MolFromSmiles(row[1])\n",
    "    ms1.append((row[0],m1))\n",
    "    m2 = Chem.MolFromSmiles(row[3])\n",
    "    ms2.append((row[2],m2))\n",
    "    \n"
   ]
  },
  {
   "cell_type": "markdown",
   "metadata": {},
   "source": [
    "Those pairs are related to each other, but we want random pairs, so shuffle the second list:"
   ]
  },
  {
   "cell_type": "code",
   "execution_count": 3,
   "metadata": {},
   "outputs": [],
   "source": [
    "random.seed(23)\n",
    "random.shuffle(ms2)"
   ]
  },
  {
   "cell_type": "code",
   "execution_count": 43,
   "metadata": {},
   "outputs": [],
   "source": [
    "try:\n",
    "    import ipyparallel as ipp\n",
    "    rc = ipp.Client()\n",
    "    dview = rc[:]\n",
    "    dview.execute('from rdkit import Chem')\n",
    "    dview.execute('from rdkit import Descriptors')\n",
    "    dview.execute('from rdkit.Chem import rdMolDescriptors')\n",
    "    dview.execute('from rdkit.Avalon import pyAvalonTools')\n",
    "except:\n",
    "    print(\"could not use ipyparallel\")\n",
    "    dview = None\n",
    "    \n",
    "def compareFPs(ms1,ms2,fpfn,fpName):\n",
    "    if dview is not None:\n",
    "        fps = dview.map_sync(lambda x:fpfn(x[1]),ms1)\n",
    "        fp2s = dview.map_sync(lambda x:fpfn(x[1]),ms2)\n",
    "    else:\n",
    "        fps = [fpfn(x[1]) for x in ms1]\n",
    "        fp2s = [fpfn(x[1]) for x in ms2]\n",
    "    sims = [DataStructs.TanimotoSimilarity(x,y) for x,y in zip(fps,fp2s)]\n",
    "    sl = sorted(sims)\n",
    "    np = len(sl)\n",
    "    for bin in (.7,.8,.9,.95,.99):\n",
    "        print( bin,sl[int(bin*np)])\n",
    "    hist(sims,bins=20)\n",
    "    xlabel(fpName)\n",
    "    "
   ]
  },
  {
   "cell_type": "markdown",
   "metadata": {},
   "source": [
    "# MACCS"
   ]
  },
  {
   "cell_type": "code",
   "execution_count": 13,
   "metadata": {},
   "outputs": [
    {
     "name": "stdout",
     "output_type": "stream",
     "text": [
      "0.7 0.43243243243243246\n",
      "0.8 0.47297297297297297\n",
      "0.9 0.5277777777777778\n",
      "0.95 0.573170731707317\n",
      "0.99 0.6515151515151515\n"
     ]
    },
    {
     "data": {
      "image/png": "[encoded data removed]",
      "text/plain": [
       "<Figure size 432x288 with 1 Axes>"
      ]
     },
     "metadata": {
      "needs_background": "light"
     },
     "output_type": "display_data"
    }
   ],
   "source": [
    "compareFPs(ms1,ms2,lambda x:rdMolDescriptors.GetMACCSKeysFingerprint(x),\"MACCS\")\n"
   ]
  },
  {
   "cell_type": "markdown",
   "metadata": {},
   "source": [
    "# Morgan FPs"
   ]
  },
  {
   "cell_type": "markdown",
   "metadata": {},
   "source": [
    "## count based"
   ]
  },
  {
   "cell_type": "code",
   "execution_count": 14,
   "metadata": {},
   "outputs": [
    {
     "name": "stdout",
     "output_type": "stream",
     "text": [
      "0.7 0.42857142857142855\n",
      "0.8 0.46875\n",
      "0.9 0.525\n",
      "0.95 0.5675675675675675\n",
      "0.99 0.6486486486486487\n"
     ]
    },
    {
     "data": {
      "image/png": "[encoded data removed]",
      "text/plain": [
       "<Figure size 432x288 with 1 Axes>"
      ]
     },
     "metadata": {
      "needs_background": "light"
     },
     "output_type": "display_data"
    }
   ],
   "source": [
    "compareFPs(ms1,ms2,lambda x:rdMolDescriptors.GetMorganFingerprint(x,0),\"Morgan0\")\n"
   ]
  },
  {
   "cell_type": "code",
   "execution_count": 15,
   "metadata": {},
   "outputs": [
    {
     "name": "stdout",
     "output_type": "stream",
     "text": [
      "0.7 0.2647058823529412\n",
      "0.8 0.2926829268292683\n",
      "0.9 0.3333333333333333\n",
      "0.95 0.36470588235294116\n",
      "0.99 0.42857142857142855\n"
     ]
    },
    {
     "data": {
      "image/png": "[encoded data removed]",
      "text/plain": [
       "<Figure size 432x288 with 1 Axes>"
      ]
     },
     "metadata": {
      "needs_background": "light"
     },
     "output_type": "display_data"
    }
   ],
   "source": [
    "compareFPs(ms1,ms2,lambda x:rdMolDescriptors.GetMorganFingerprint(x,1),\"Morgan1\")"
   ]
  },
  {
   "cell_type": "code",
   "execution_count": 16,
   "metadata": {},
   "outputs": [
    {
     "name": "stdout",
     "output_type": "stream",
     "text": [
      "0.7 0.18045112781954886\n",
      "0.8 0.2\n",
      "0.9 0.22962962962962963\n",
      "0.95 0.25547445255474455\n",
      "0.99 0.3064516129032258\n"
     ]
    },
    {
     "data": {
      "image/png": "[encoded data removed]",
      "text/plain": [
       "<Figure size 432x288 with 1 Axes>"
      ]
     },
     "metadata": {
      "needs_background": "light"
     },
     "output_type": "display_data"
    }
   ],
   "source": [
    "compareFPs(ms1,ms2,lambda x:rdMolDescriptors.GetMorganFingerprint(x,2),\"Morgan2\")"
   ]
  },
  {
   "cell_type": "code",
   "execution_count": 17,
   "metadata": {},
   "outputs": [
    {
     "name": "stdout",
     "output_type": "stream",
     "text": [
      "0.7 0.1402439024390244\n",
      "0.8 0.1553398058252427\n",
      "0.9 0.17791411042944785\n",
      "0.95 0.1981981981981982\n",
      "0.99 0.23952095808383234\n"
     ]
    },
    {
     "data": {
      "image/png": "[encoded data removed]",
      "text/plain": [
       "<Figure size 432x288 with 1 Axes>"
      ]
     },
     "metadata": {
      "needs_background": "light"
     },
     "output_type": "display_data"
    }
   ],
   "source": [
    "compareFPs(ms1,ms2,lambda x:rdMolDescriptors.GetMorganFingerprint(x,3),\"Morgan3\")"
   ]
  },
  {
   "cell_type": "markdown",
   "metadata": {},
   "source": [
    "## bit-vector based"
   ]
  },
  {
   "cell_type": "code",
   "execution_count": 18,
   "metadata": {},
   "outputs": [
    {
     "name": "stdout",
     "output_type": "stream",
     "text": [
      "0.7 0.4358974358974359\n",
      "0.8 0.47368421052631576\n",
      "0.9 0.5294117647058824\n",
      "0.95 0.5714285714285714\n",
      "0.99 0.6538461538461539\n"
     ]
    },
    {
     "data": {
      "image/png": "[encoded data removed]",
      "text/plain": [
       "<Figure size 432x288 with 1 Axes>"
      ]
     },
     "metadata": {
      "needs_background": "light"
     },
     "output_type": "display_data"
    }
   ],
   "source": [
    "compareFPs(ms1,ms2,lambda x:rdMolDescriptors.GetHashedMorganFingerprint(x,0,1024),\"Morgan0 BV\")\n"
   ]
  },
  {
   "cell_type": "code",
   "execution_count": 19,
   "metadata": {},
   "outputs": [
    {
     "name": "stdout",
     "output_type": "stream",
     "text": [
      "0.7 0.2727272727272727\n",
      "0.8 0.30097087378640774\n",
      "0.9 0.34065934065934067\n",
      "0.95 0.37254901960784315\n",
      "0.99 0.43661971830985913\n"
     ]
    },
    {
     "data": {
      "image/png": "[encoded data removed]",
      "text/plain": [
       "<Figure size 432x288 with 1 Axes>"
      ]
     },
     "metadata": {
      "needs_background": "light"
     },
     "output_type": "display_data"
    }
   ],
   "source": [
    "compareFPs(ms1,ms2,lambda x:rdMolDescriptors.GetHashedMorganFingerprint(x,1,1024),\"Morgan1 BV\")\n"
   ]
  },
  {
   "cell_type": "code",
   "execution_count": 20,
   "metadata": {},
   "outputs": [
    {
     "name": "stdout",
     "output_type": "stream",
     "text": [
      "0.7 0.19672131147540983\n",
      "0.8 0.21678321678321677\n",
      "0.9 0.24603174603174602\n",
      "0.95 0.2719298245614035\n",
      "0.99 0.32142857142857145\n"
     ]
    },
    {
     "data": {
      "image/png": "[encoded data removed]",
      "text/plain": [
       "<Figure size 432x288 with 1 Axes>"
      ]
     },
     "metadata": {
      "needs_background": "light"
     },
     "output_type": "display_data"
    }
   ],
   "source": [
    "compareFPs(ms1,ms2,lambda x:rdMolDescriptors.GetHashedMorganFingerprint(x,2,1024),\"Morgan2 BV\")\n"
   ]
  },
  {
   "cell_type": "code",
   "execution_count": 21,
   "metadata": {},
   "outputs": [
    {
     "name": "stdout",
     "output_type": "stream",
     "text": [
      "0.7 0.16463414634146342\n",
      "0.8 0.18012422360248448\n",
      "0.9 0.20279720279720279\n",
      "0.95 0.2236842105263158\n",
      "0.99 0.26424870466321243\n"
     ]
    },
    {
     "data": {
      "image/png": "[encoded data removed]",
      "text/plain": [
       "<Figure size 432x288 with 1 Axes>"
      ]
     },
     "metadata": {
      "needs_background": "light"
     },
     "output_type": "display_data"
    }
   ],
   "source": [
    "compareFPs(ms1,ms2,lambda x:rdMolDescriptors.GetHashedMorganFingerprint(x,3,1024),\"Morgan3 BV\")\n"
   ]
  },
  {
   "cell_type": "markdown",
   "metadata": {},
   "source": [
    "# FeatMorgan"
   ]
  },
  {
   "cell_type": "markdown",
   "metadata": {},
   "source": [
    "## count based"
   ]
  },
  {
   "cell_type": "code",
   "execution_count": 22,
   "metadata": {},
   "outputs": [
    {
     "name": "stdout",
     "output_type": "stream",
     "text": [
      "0.7 0.5862068965517241\n",
      "0.8 0.6333333333333333\n",
      "0.9 0.6923076923076923\n",
      "0.95 0.7419354838709677\n",
      "0.99 0.825\n"
     ]
    },
    {
     "data": {
      "image/png": "[encoded data removed]",
      "text/plain": [
       "<Figure size 432x288 with 1 Axes>"
      ]
     },
     "metadata": {
      "needs_background": "light"
     },
     "output_type": "display_data"
    }
   ],
   "source": [
    "compareFPs(ms1,ms2,lambda x:rdMolDescriptors.GetMorganFingerprint(x,0,useFeatures=True),\"FeatMorgan0\")\n"
   ]
  },
  {
   "cell_type": "code",
   "execution_count": 23,
   "metadata": {},
   "outputs": [
    {
     "name": "stdout",
     "output_type": "stream",
     "text": [
      "0.7 0.391304347826087\n",
      "0.8 0.425531914893617\n",
      "0.9 0.4722222222222222\n",
      "0.95 0.5121951219512195\n",
      "0.99 0.5844155844155844\n"
     ]
    },
    {
     "data": {
      "image/png": "[encoded data removed]",
      "text/plain": [
       "<Figure size 432x288 with 1 Axes>"
      ]
     },
     "metadata": {
      "needs_background": "light"
     },
     "output_type": "display_data"
    }
   ],
   "source": [
    "compareFPs(ms1,ms2,lambda x:rdMolDescriptors.GetMorganFingerprint(x,1,useFeatures=True),\"FeatMorgan1\")\n"
   ]
  },
  {
   "cell_type": "code",
   "execution_count": 24,
   "metadata": {},
   "outputs": [
    {
     "name": "stdout",
     "output_type": "stream",
     "text": [
      "0.7 0.2727272727272727\n",
      "0.8 0.2980769230769231\n",
      "0.9 0.3333333333333333\n",
      "0.95 0.36363636363636365\n",
      "0.99 0.42528735632183906\n"
     ]
    },
    {
     "data": {
      "image/png": "[encoded data removed]",
      "text/plain": [
       "<Figure size 432x288 with 1 Axes>"
      ]
     },
     "metadata": {
      "needs_background": "light"
     },
     "output_type": "display_data"
    }
   ],
   "source": [
    "compareFPs(ms1,ms2,lambda x:rdMolDescriptors.GetMorganFingerprint(x,2,useFeatures=True),\"FeatMorgan2\")\n"
   ]
  },
  {
   "cell_type": "code",
   "execution_count": 25,
   "metadata": {},
   "outputs": [
    {
     "name": "stdout",
     "output_type": "stream",
     "text": [
      "0.7 0.20945945945945946\n",
      "0.8 0.22839506172839505\n",
      "0.9 0.2553191489361702\n",
      "0.95 0.2781456953642384\n",
      "0.99 0.33121019108280253\n"
     ]
    },
    {
     "data": {
      "image/png": "[encoded data removed]",
      "text/plain": [
       "<Figure size 432x288 with 1 Axes>"
      ]
     },
     "metadata": {
      "needs_background": "light"
     },
     "output_type": "display_data"
    }
   ],
   "source": [
    "compareFPs(ms1,ms2,lambda x:rdMolDescriptors.GetMorganFingerprint(x,3,useFeatures=True),\"FeatMorgan3\")\n"
   ]
  },
  {
   "cell_type": "markdown",
   "metadata": {},
   "source": [
    "## bit vectors"
   ]
  },
  {
   "cell_type": "code",
   "execution_count": 26,
   "metadata": {},
   "outputs": [
    {
     "name": "stdout",
     "output_type": "stream",
     "text": [
      "0.7 0.5862068965517241\n",
      "0.8 0.6333333333333333\n",
      "0.9 0.6923076923076923\n",
      "0.95 0.7419354838709677\n",
      "0.99 0.825\n"
     ]
    },
    {
     "data": {
      "image/png": "[encoded data removed]",
      "text/plain": [
       "<Figure size 432x288 with 1 Axes>"
      ]
     },
     "metadata": {
      "needs_background": "light"
     },
     "output_type": "display_data"
    }
   ],
   "source": [
    "compareFPs(ms1,ms2,lambda x:rdMolDescriptors.GetHashedMorganFingerprint(x,0,1024,useFeatures=True),\"FeatMorgan0 BV\")\n"
   ]
  },
  {
   "cell_type": "code",
   "execution_count": 27,
   "metadata": {},
   "outputs": [
    {
     "name": "stdout",
     "output_type": "stream",
     "text": [
      "0.7 0.3958333333333333\n",
      "0.8 0.42857142857142855\n",
      "0.9 0.47619047619047616\n",
      "0.95 0.5161290322580645\n",
      "0.99 0.5873015873015873\n"
     ]
    },
    {
     "data": {
      "image/png": "[encoded data removed]",
      "text/plain": [
       "<Figure size 432x288 with 1 Axes>"
      ]
     },
     "metadata": {
      "needs_background": "light"
     },
     "output_type": "display_data"
    }
   ],
   "source": [
    "compareFPs(ms1,ms2,lambda x:rdMolDescriptors.GetHashedMorganFingerprint(x,1,1024,useFeatures=True),\"FeatMorgan1 BV\")\n"
   ]
  },
  {
   "cell_type": "code",
   "execution_count": 28,
   "metadata": {},
   "outputs": [
    {
     "name": "stdout",
     "output_type": "stream",
     "text": [
      "0.7 0.2845528455284553\n",
      "0.8 0.31092436974789917\n",
      "0.9 0.3465346534653465\n",
      "0.95 0.3761467889908257\n",
      "0.99 0.4375\n"
     ]
    },
    {
     "data": {
      "image/png": "[encoded data removed]",
      "text/plain": [
       "<Figure size 432x288 with 1 Axes>"
      ]
     },
     "metadata": {
      "needs_background": "light"
     },
     "output_type": "display_data"
    }
   ],
   "source": [
    "compareFPs(ms1,ms2,lambda x:rdMolDescriptors.GetHashedMorganFingerprint(x,2,1024,useFeatures=True),\"FeatMorgan2 BV\")\n"
   ]
  },
  {
   "cell_type": "code",
   "execution_count": 29,
   "metadata": {},
   "outputs": [
    {
     "name": "stdout",
     "output_type": "stream",
     "text": [
      "0.7 0.22857142857142856\n",
      "0.8 0.24848484848484848\n",
      "0.9 0.2753623188405797\n",
      "0.95 0.2992125984251969\n",
      "0.99 0.3488372093023256\n"
     ]
    },
    {
     "data": {
      "image/png": "[encoded data removed]",
      "text/plain": [
       "<Figure size 432x288 with 1 Axes>"
      ]
     },
     "metadata": {
      "needs_background": "light"
     },
     "output_type": "display_data"
    }
   ],
   "source": [
    "compareFPs(ms1,ms2,lambda x:rdMolDescriptors.GetHashedMorganFingerprint(x,3,1024,useFeatures=True),\"FeatMorgan3 BV\")\n"
   ]
  },
  {
   "cell_type": "markdown",
   "metadata": {},
   "source": [
    "# RDKit"
   ]
  },
  {
   "cell_type": "markdown",
   "metadata": {},
   "source": [
    "## Branched (default)"
   ]
  },
  {
   "cell_type": "code",
   "execution_count": 30,
   "metadata": {},
   "outputs": [
    {
     "name": "stdout",
     "output_type": "stream",
     "text": [
      "0.7 0.21033210332103322\n",
      "0.8 0.2391304347826087\n",
      "0.9 0.28273809523809523\n",
      "0.95 0.3253731343283582\n",
      "0.99 0.425\n"
     ]
    },
    {
     "data": {
      "image/png": "[encoded data removed]",
      "text/plain": [
       "<Figure size 432x288 with 1 Axes>"
      ]
     },
     "metadata": {
      "needs_background": "light"
     },
     "output_type": "display_data"
    }
   ],
   "source": [
    "compareFPs(ms1,ms2,lambda x:Chem.RDKFingerprint(x,maxPath=4),\"RDKit 4\")\n"
   ]
  },
  {
   "cell_type": "code",
   "execution_count": 31,
   "metadata": {},
   "outputs": [
    {
     "name": "stdout",
     "output_type": "stream",
     "text": [
      "0.7 0.19696969696969696\n",
      "0.8 0.21888412017167383\n",
      "0.9 0.25473684210526315\n",
      "0.95 0.2865853658536585\n",
      "0.99 0.37020316027088035\n"
     ]
    },
    {
     "data": {
      "image/png": "[encoded data removed]",
      "text/plain": [
       "<Figure size 432x288 with 1 Axes>"
      ]
     },
     "metadata": {
      "needs_background": "light"
     },
     "output_type": "display_data"
    }
   ],
   "source": [
    "compareFPs(ms1,ms2,lambda x:Chem.RDKFingerprint(x,maxPath=5),\"RDKit 5\")\n"
   ]
  },
  {
   "cell_type": "code",
   "execution_count": 32,
   "metadata": {},
   "outputs": [
    {
     "name": "stdout",
     "output_type": "stream",
     "text": [
      "0.7 0.23023715415019763\n",
      "0.8 0.2510775862068966\n",
      "0.9 0.2815734989648033\n",
      "0.95 0.3074074074074074\n",
      "0.99 0.3669064748201439\n"
     ]
    },
    {
     "data": {
      "image/png": "[encoded data removed]",
      "text/plain": [
       "<Figure size 432x288 with 1 Axes>"
      ]
     },
     "metadata": {
      "needs_background": "light"
     },
     "output_type": "display_data"
    }
   ],
   "source": [
    "compareFPs(ms1,ms2,lambda x:Chem.RDKFingerprint(x,maxPath=6),\"RDKit 6\")\n"
   ]
  },
  {
   "cell_type": "code",
   "execution_count": 33,
   "metadata": {},
   "outputs": [
    {
     "name": "stdout",
     "output_type": "stream",
     "text": [
      "0.7 0.31443298969072164\n",
      "0.8 0.3459563543003851\n",
      "0.9 0.3905249679897567\n",
      "0.95 0.42900670322973794\n",
      "0.99 0.510148107515085\n"
     ]
    },
    {
     "data": {
      "image/png": "[encoded data removed]",
      "text/plain": [
       "<Figure size 432x288 with 1 Axes>"
      ]
     },
     "metadata": {
      "needs_background": "light"
     },
     "output_type": "display_data"
    }
   ],
   "source": [
    "compareFPs(ms1,ms2,lambda x:Chem.RDKFingerprint(x,maxPath=7),\"RDKit 7\")\n"
   ]
  },
  {
   "cell_type": "markdown",
   "metadata": {},
   "source": [
    "## linear"
   ]
  },
  {
   "cell_type": "code",
   "execution_count": 34,
   "metadata": {},
   "outputs": [
    {
     "name": "stdout",
     "output_type": "stream",
     "text": [
      "0.7 0.22580645161290322\n",
      "0.8 0.2585034013605442\n",
      "0.9 0.30714285714285716\n",
      "0.95 0.35403726708074534\n",
      "0.99 0.4625\n"
     ]
    },
    {
     "data": {
      "image/png": "[encoded data removed]",
      "text/plain": [
       "<Figure size 432x288 with 1 Axes>"
      ]
     },
     "metadata": {
      "needs_background": "light"
     },
     "output_type": "display_data"
    }
   ],
   "source": [
    "compareFPs(ms1,ms2,lambda x:Chem.RDKFingerprint(x,maxPath=4,branchedPaths=False),\"linear RDKit 4\")\n"
   ]
  },
  {
   "cell_type": "code",
   "execution_count": 35,
   "metadata": {},
   "outputs": [
    {
     "name": "stdout",
     "output_type": "stream",
     "text": [
      "0.7 0.1983640081799591\n",
      "0.8 0.22556390977443608\n",
      "0.9 0.26851851851851855\n",
      "0.95 0.30716723549488056\n",
      "0.99 0.40594059405940597\n"
     ]
    },
    {
     "data": {
      "image/png": "[encoded data removed]",
      "text/plain": [
       "<Figure size 432x288 with 1 Axes>"
      ]
     },
     "metadata": {
      "needs_background": "light"
     },
     "output_type": "display_data"
    }
   ],
   "source": [
    "compareFPs(ms1,ms2,lambda x:Chem.RDKFingerprint(x,maxPath=5,branchedPaths=False),\"linear RDKit 5\")\n"
   ]
  },
  {
   "cell_type": "code",
   "execution_count": 36,
   "metadata": {},
   "outputs": [
    {
     "name": "stdout",
     "output_type": "stream",
     "text": [
      "0.7 0.1870860927152318\n",
      "0.8 0.210016155088853\n",
      "0.9 0.24761904761904763\n",
      "0.95 0.28\n",
      "0.99 0.36585365853658536\n"
     ]
    },
    {
     "data": {
      "image/png": "[encoded data removed]",
      "text/plain": [
       "<Figure size 432x288 with 1 Axes>"
      ]
     },
     "metadata": {
      "needs_background": "light"
     },
     "output_type": "display_data"
    }
   ],
   "source": [
    "compareFPs(ms1,ms2,lambda x:Chem.RDKFingerprint(x,maxPath=6,branchedPaths=False),\"linear RDKit 6\")\n"
   ]
  },
  {
   "cell_type": "code",
   "execution_count": 37,
   "metadata": {},
   "outputs": [
    {
     "name": "stdout",
     "output_type": "stream",
     "text": [
      "0.7 0.1830601092896175\n",
      "0.8 0.203125\n",
      "0.9 0.23529411764705882\n",
      "0.95 0.2631578947368421\n",
      "0.99 0.33884297520661155\n"
     ]
    },
    {
     "data": {
      "image/png": "[encoded data removed]",
      "text/plain": [
       "<Figure size 432x288 with 1 Axes>"
      ]
     },
     "metadata": {
      "needs_background": "light"
     },
     "output_type": "display_data"
    }
   ],
   "source": [
    "compareFPs(ms1,ms2,lambda x:Chem.RDKFingerprint(x,maxPath=7,branchedPaths=False),\"linear RDKit 7\")\n"
   ]
  },
  {
   "cell_type": "markdown",
   "metadata": {},
   "source": [
    "# Atom pairs and torsions"
   ]
  },
  {
   "cell_type": "markdown",
   "metadata": {},
   "source": [
    "## count-based"
   ]
  },
  {
   "cell_type": "code",
   "execution_count": 38,
   "metadata": {},
   "outputs": [
    {
     "name": "stdout",
     "output_type": "stream",
     "text": [
      "0.7 0.18010291595197256\n",
      "0.8 0.20419847328244276\n",
      "0.9 0.23769730733519034\n",
      "0.95 0.26617179215270415\n",
      "0.99 0.3263888888888889\n"
     ]
    },
    {
     "data": {
      "image/png": "[encoded data removed]",
      "text/plain": [
       "<Figure size 432x288 with 1 Axes>"
      ]
     },
     "metadata": {
      "needs_background": "light"
     },
     "output_type": "display_data"
    }
   ],
   "source": [
    "compareFPs(ms1,ms2,lambda x:rdMolDescriptors.GetAtomPairFingerprint(x),\"Atom Pairs\")\n"
   ]
  },
  {
   "cell_type": "code",
   "execution_count": 39,
   "metadata": {},
   "outputs": [
    {
     "name": "stdout",
     "output_type": "stream",
     "text": [
      "0.7 0.10714285714285714\n",
      "0.8 0.1297709923664122\n",
      "0.9 0.16494845360824742\n",
      "0.95 0.19767441860465115\n",
      "0.99 0.26373626373626374\n"
     ]
    },
    {
     "data": {
      "image/png": "[encoded data removed]",
      "text/plain": [
       "<Figure size 432x288 with 1 Axes>"
      ]
     },
     "metadata": {
      "needs_background": "light"
     },
     "output_type": "display_data"
    }
   ],
   "source": [
    "compareFPs(ms1,ms2,lambda x:rdMolDescriptors.GetTopologicalTorsionFingerprint(x),\"Torsions\")\n"
   ]
  },
  {
   "cell_type": "markdown",
   "metadata": {},
   "source": [
    "## bit vectors"
   ]
  },
  {
   "cell_type": "code",
   "execution_count": 40,
   "metadata": {},
   "outputs": [
    {
     "name": "stdout",
     "output_type": "stream",
     "text": [
      "0.7 0.27593360995850624\n",
      "0.8 0.30151843817787416\n",
      "0.9 0.3365019011406844\n",
      "0.95 0.36395759717314485\n",
      "0.99 0.4153846153846154\n"
     ]
    },
    {
     "data": {
      "image/png": "[encoded data removed]",
      "text/plain": [
       "<Figure size 432x288 with 1 Axes>"
      ]
     },
     "metadata": {
      "needs_background": "light"
     },
     "output_type": "display_data"
    }
   ],
   "source": [
    "compareFPs(ms1,ms2,lambda x:rdMolDescriptors.GetHashedAtomPairFingerprintAsBitVect(x),\"Atom Pairs BV\")\n"
   ]
  },
  {
   "cell_type": "code",
   "execution_count": 41,
   "metadata": {},
   "outputs": [
    {
     "name": "stdout",
     "output_type": "stream",
     "text": [
      "0.7 0.1326530612244898\n",
      "0.8 0.15555555555555556\n",
      "0.9 0.1896551724137931\n",
      "0.95 0.22105263157894736\n",
      "0.99 0.2903225806451613\n"
     ]
    },
    {
     "data": {
      "image/png": "[encoded data removed]",
      "text/plain": [
       "<Figure size 432x288 with 1 Axes>"
      ]
     },
     "metadata": {
      "needs_background": "light"
     },
     "output_type": "display_data"
    }
   ],
   "source": [
    "compareFPs(ms1,ms2,lambda x:rdMolDescriptors.GetHashedTopologicalTorsionFingerprintAsBitVect(x),\"Torsions BV\")\n"
   ]
  },
  {
   "cell_type": "markdown",
   "metadata": {},
   "source": [
    "# Avalon"
   ]
  },
  {
   "cell_type": "code",
   "execution_count": 44,
   "metadata": {},
   "outputs": [
    {
     "name": "stdout",
     "output_type": "stream",
     "text": [
      "0.7 0.36890243902439024\n",
      "0.8 0.40773809523809523\n",
      "0.9 0.4624277456647399\n",
      "0.95 0.5042492917847026\n",
      "0.99 0.5788043478260869\n"
     ]
    },
    {
     "data": {
      "image/png": "[encoded data removed]",
      "text/plain": [
       "<Figure size 432x288 with 1 Axes>"
      ]
     },
     "metadata": {
      "needs_background": "light"
     },
     "output_type": "display_data"
    }
   ],
   "source": [
    "compareFPs(ms1,ms2,lambda x:pyAvalonTools.GetAvalonFP(x,512),\"Avalon 512\")\n"
   ]
  },
  {
   "cell_type": "code",
   "execution_count": 45,
   "metadata": {
    "scrolled": true
   },
   "outputs": [
    {
     "name": "stdout",
     "output_type": "stream",
     "text": [
      "0.7 0.26931106471816285\n",
      "0.8 0.29802955665024633\n",
      "0.9 0.3409090909090909\n",
      "0.95 0.3770491803278688\n",
      "0.99 0.45073375262054505\n"
     ]
    },
    {
     "data": {
      "image/png": "[encoded data removed]",
      "text/plain": [
       "<Figure size 432x288 with 1 Axes>"
      ]
     },
     "metadata": {
      "needs_background": "light"
     },
     "output_type": "display_data"
    }
   ],
   "source": [
    "compareFPs(ms1,ms2,lambda x:pyAvalonTools.GetAvalonFP(x,1024),\"Avalon 1024\")\n"
   ]
  },
  {
   "cell_type": "markdown",
   "metadata": {},
   "source": [
    "# Avalon Counts"
   ]
  },
  {
   "cell_type": "code",
   "execution_count": 46,
   "metadata": {
    "scrolled": true
   },
   "outputs": [
    {
     "name": "stdout",
     "output_type": "stream",
     "text": [
      "0.7 0.30017554125219426\n",
      "0.8 0.3343195266272189\n",
      "0.9 0.38112927191679047\n",
      "0.95 0.41715542521994137\n",
      "0.99 0.49660326086956524\n"
     ]
    },
    {
     "data": {
      "image/png": "[encoded data removed]",
      "text/plain": [
       "<Figure size 432x288 with 1 Axes>"
      ]
     },
     "metadata": {
      "needs_background": "light"
     },
     "output_type": "display_data"
    }
   ],
   "source": [
    "compareFPs(ms1,ms2,lambda x:pyAvalonTools.GetAvalonCountFP(x,512),\"Avalon 512\")\n"
   ]
  },
  {
   "cell_type": "code",
   "execution_count": 47,
   "metadata": {},
   "outputs": [
    {
     "name": "stdout",
     "output_type": "stream",
     "text": [
      "0.7 0.2671232876712329\n",
      "0.8 0.30026246719160105\n",
      "0.9 0.3462121212121212\n",
      "0.95 0.3845223700120919\n",
      "0.99 0.4689572031344183\n"
     ]
    },
    {
     "data": {
      "image/png": "[encoded data removed]",
      "text/plain": [
       "<Figure size 432x288 with 1 Axes>"
      ]
     },
     "metadata": {
      "needs_background": "light"
     },
     "output_type": "display_data"
    }
   ],
   "source": [
    "compareFPs(ms1,ms2,lambda x:pyAvalonTools.GetAvalonCountFP(x,1024),\"Avalon 1024\")\n"
   ]
  },
  {
   "cell_type": "code",
   "execution_count": null,
   "metadata": {},
   "outputs": [],
   "source": []
  }
 ],
 "metadata": {
  "kernelspec": {
   "display_name": "Python 3",
   "language": "python",
   "name": "python3"
  },
  "language_info": {
   "codemirror_mode": {
    "name": "ipython",
    "version": 3
   },
   "file_extension": ".py",
   "mimetype": "text/x-python",
   "name": "python",
   "nbconvert_exporter": "python",
   "pygments_lexer": "ipython3",
   "version": "3.7.2"
  }
 },
 "nbformat": 4,
 "nbformat_minor": 1
}

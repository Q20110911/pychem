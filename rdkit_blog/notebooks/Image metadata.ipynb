{
 "cells": [
  {
   "cell_type": "markdown",
   "metadata": {},
   "source": [
    "I really like the idea of having an image of a molecule that I can re-construct the molecule from. It's been possible to do this with SVGs from the RDKit for a while by adding chemical metadata. There's a desciption of that [here](https://github.com/rdkit/UGM_2018/blob/master/Notebooks/Landrum_Whats_New.ipynb) that shows both adding the metadata and constructing the molecule from it.\n",
    "\n",
    "An aside: Since you can now add SVGs to powerpoint documents, I was super excited about the idea of being able to have molecule images in my Powerpoint decks together with the metadata to reconstruct those molecules. Unforunately, as of this writing at least, Powerpoint strips out all the metadata that it doesn't recognize, so the chemistry information all ends up being removed. Sad...\n",
    "\n",
    "Anyway, back to the point of this blog post: I wanted to do the same thing with the PNGs that the RDKit can generate, but kept getting stuck on how to do this from the C++ side. Today I realized that it's quite easy to do it in Python and that this would possibly be useful to most RDKit users. Thus this post.\n",
    "\n",
    "If anyone knows of a decent C++ snippet or library with an BSD-compatible license (this rules out [exiv2](https://www.exiv2.org/), which otherwise looks like the perfect thing) that shows how to add metadata to a PNG, please do let me know."
   ]
  },
  {
   "cell_type": "code",
   "execution_count": 1,
   "metadata": {},
   "outputs": [
    {
     "name": "stdout",
     "output_type": "stream",
     "text": [
      "2020.03.4\n"
     ]
    }
   ],
   "source": [
    "from rdkit import Chem\n",
    "from rdkit.Chem import Draw\n",
    "Draw.rdDepictor.SetPreferCoordGen(True)\n",
    "from rdkit.Chem.Draw import IPythonConsole\n",
    "IPythonConsole.molSize = 350,300\n",
    "from PIL import Image\n",
    "from io import BytesIO\n",
    "import rdkit\n",
    "print(rdkit.__version__)"
   ]
  },
  {
   "cell_type": "code",
   "execution_count": 2,
   "metadata": {},
   "outputs": [
    {
     "data": {
      "image/png": "[encoded data removed]",
      "text/plain": [
       "<rdkit.Chem.rdchem.Mol at 0x7f7bdd1983f0>"
      ]
     },
     "execution_count": 2,
     "metadata": {},
     "output_type": "execute_result"
    }
   ],
   "source": [
    "colchicine = Chem.MolFromSmiles('COc1cc2c(c(OC)c1OC)-c1ccc(OC)c(=O)cc1[C@@H](NC(C)=O)CC2')\n",
    "colchicine"
   ]
  },
  {
   "cell_type": "markdown",
   "metadata": {},
   "source": [
    "A quick reminder on what the metadata in the SVG looks like:"
   ]
  },
  {
   "cell_type": "code",
   "execution_count": 3,
   "metadata": {},
   "outputs": [],
   "source": [
    "dm = Draw.PrepareMolForDrawing(colchicine)\n",
    "d2d = Draw.MolDraw2DSVG(450,400)\n",
    "d2d.DrawMolecule(dm)\n",
    "d2d.AddMoleculeMetadata(dm)\n",
    "d2d.FinishDrawing()\n",
    "svg = d2d.GetDrawingText()\n",
    "with open('/tmp/blah.svg','w+') as outf:\n",
    "    outf.write(svg)"
   ]
  },
  {
   "cell_type": "code",
   "execution_count": 4,
   "metadata": {},
   "outputs": [
    {
     "name": "stdout",
     "output_type": "stream",
     "text": [
      "                      xmlns:rdkit='http://www.rdkit.org/xml'\r\n",
      "<rdkit:mol xmlns:rdkit = \"http://www.rdkit.org/xml\" version=\"0.9\">\r\n",
      "<rdkit:atom idx=\"1\" atom-smiles=\"[CH3]\" drawing-x=\"20.4545\" drawing-y=\"222.9\" x=\"-4.30669\" y=\"0.156621\" z=\"0\" />\r\n",
      "<rdkit:atom idx=\"2\" atom-smiles=\"[O]\" drawing-x=\"51.1285\" drawing-y=\"261.166\" x=\"-3.68129\" y=\"-0.623579\" z=\"0\" />\r\n",
      "<rdkit:atom idx=\"3\" atom-smiles=\"[c]\" drawing-x=\"100.087\" drawing-y=\"253.643\" x=\"-2.68309\" y=\"-0.470179\" z=\"0\" />\r\n",
      "<rdkit:atom idx=\"4\" atom-smiles=\"[cH]\" drawing-x=\"116.734\" drawing-y=\"208.951\" x=\"-2.34369\" y=\"0.441021\" z=\"0\" />\r\n",
      "<rdkit:atom idx=\"5\" atom-smiles=\"[c]\" drawing-x=\"166.507\" drawing-y=\"202.29\" x=\"-1.32889\" y=\"0.576821\" z=\"0\" />\r\n",
      "<rdkit:atom idx=\"6\" atom-smiles=\"[c]\" drawing-x=\"198.132\" drawing-y=\"239.802\" x=\"-0.68409\" y=\"-0.187979\" z=\"0\" />\r\n",
      "<rdkit:atom idx=\"7\" atom-smiles=\"[c]\" drawing-x=\"179.828\" drawing-y=\"284.052\" x=\"-1.05729\" y=\"-1.09018\" z=\"0\" />\r\n",
      "<rdkit:atom idx=\"8\" atom-smiles=\"[O]\" drawing-x=\"210.668\" drawing-y=\"322.809\" x=\"-0.42849\" y=\"-1.88038\" z=\"0\" />\r\n",
      "<rdkit:atom idx=\"9\" atom-smiles=\"[CH3]\" drawing-x=\"192.668\" drawing-y=\"368.432\" x=\"-0.79549\" y=\"-2.81058\" z=\"0\" />\r\n",
      "<rdkit:atom idx=\"10\" atom-smiles=\"[c]\" drawing-x=\"130.261\" drawing-y=\"292.37\" x=\"-2.06789\" y=\"-1.25978\" z=\"0\" />\r\n",
      "<rdkit:atom idx=\"11\" atom-smiles=\"[O]\" drawing-x=\"112.663\" drawing-y=\"337.621\" x=\"-2.42669\" y=\"-2.18238\" z=\"0\" />\r\n",
      "<rdkit:atom idx=\"12\" atom-smiles=\"[CH3]\" drawing-x=\"64.1848\" drawing-y=\"345.096\" x=\"-3.41509\" y=\"-2.33478\" z=\"0\" />\r\n",
      "<rdkit:atom idx=\"13\" atom-smiles=\"[c]\" drawing-x=\"245.011\" drawing-y=\"239.713\" x=\"0.27171\" y=\"-0.186179\" z=\"0\" />\r\n",
      "<rdkit:atom idx=\"14\" atom-smiles=\"[cH]\" drawing-x=\"257.459\" drawing-y=\"287.554\" x=\"0.52551\" y=\"-1.16158\" z=\"0\" />\r\n",
      "<rdkit:atom idx=\"15\" atom-smiles=\"[cH]\" drawing-x=\"300.395\" drawing-y=\"308.203\" x=\"1.40091\" y=\"-1.58258\" z=\"0\" />\r\n",
      "<rdkit:atom idx=\"16\" atom-smiles=\"[c]\" drawing-x=\"345.95\" drawing-y=\"288.044\" x=\"2.32971\" y=\"-1.17158\" z=\"0\" />\r\n",
      "<rdkit:atom idx=\"17\" atom-smiles=\"[O]\" drawing-x=\"383.893\" drawing-y=\"318.336\" x=\"3.10331\" y=\"-1.78918\" z=\"0\" />\r\n",
      "<rdkit:atom idx=\"18\" atom-smiles=\"[CH3]\" drawing-x=\"429.545\" drawing-y=\"300.394\" x=\"4.03411\" y=\"-1.42338\" z=\"0\" />\r\n",
      "<rdkit:atom idx=\"19\" atom-smiles=\"[c]\" drawing-x=\"355.396\" drawing-y=\"239.547\" x=\"2.52231\" y=\"-0.182779\" z=\"0\" />\r\n",
      "<rdkit:atom idx=\"20\" atom-smiles=\"[O]\" drawing-x=\"403.698\" drawing-y=\"228.521\" x=\"3.50711\" y=\"0.0420207\" z=\"0\" />\r\n",
      "<rdkit:atom idx=\"21\" atom-smiles=\"[cH]\" drawing-x=\"326.017\" drawing-y=\"200.181\" x=\"1.92331\" y=\"0.619821\" z=\"0\" />\r\n",
      "<rdkit:atom idx=\"22\" atom-smiles=\"[c]\" drawing-x=\"277.402\" drawing-y=\"201.604\" x=\"0.93211\" y=\"0.590821\" z=\"0\" />\r\n",
      "<rdkit:atom idx=\"23\" atom-smiles=\"[C@@H]\" drawing-x=\"265.032\" drawing-y=\"153.793\" x=\"0.67991\" y=\"1.56562\" z=\"0\" />\r\n",
      "<rdkit:atom idx=\"24\" atom-smiles=\"[NH]\" drawing-x=\"303.779\" drawing-y=\"122.864\" x=\"1.46991\" y=\"2.19622\" z=\"0\" />\r\n",
      "<rdkit:atom idx=\"25\" atom-smiles=\"[C]\" drawing-x=\"296.53\" drawing-y=\"74.3564\" x=\"1.32211\" y=\"3.18522\" z=\"0\" />\r\n",
      "<rdkit:atom idx=\"26\" atom-smiles=\"[CH3]\" drawing-x=\"250.907\" drawing-y=\"56.3562\" x=\"0.39191\" y=\"3.55222\" z=\"0\" />\r\n",
      "<rdkit:atom idx=\"27\" atom-smiles=\"[O]\" drawing-x=\"334.934\" drawing-y=\"43.8296\" x=\"2.10511\" y=\"3.80762\" z=\"0\" />\r\n",
      "<rdkit:atom idx=\"28\" atom-smiles=\"[CH2]\" drawing-x=\"221.125\" drawing-y=\"131.084\" x=\"-0.21529\" y=\"2.02862\" z=\"0\" />\r\n",
      "<rdkit:atom idx=\"29\" atom-smiles=\"[CH2]\" drawing-x=\"178.464\" drawing-y=\"153.361\" x=\"-1.08509\" y=\"1.57442\" z=\"0\" />\r\n",
      "<rdkit:bond idx=\"1\" begin-atom-idx=\"1\" end-atom-idx=\"2\" bond-smiles=\"-\" />\r\n",
      "<rdkit:bond idx=\"2\" begin-atom-idx=\"2\" end-atom-idx=\"3\" bond-smiles=\"-\" />\r\n",
      "<rdkit:bond idx=\"3\" begin-atom-idx=\"3\" end-atom-idx=\"4\" bond-smiles=\"=\" />\r\n",
      "<rdkit:bond idx=\"4\" begin-atom-idx=\"4\" end-atom-idx=\"5\" bond-smiles=\"-\" />\r\n",
      "<rdkit:bond idx=\"5\" begin-atom-idx=\"5\" end-atom-idx=\"6\" bond-smiles=\"=\" />\r\n",
      "<rdkit:bond idx=\"6\" begin-atom-idx=\"6\" end-atom-idx=\"7\" bond-smiles=\"-\" />\r\n",
      "<rdkit:bond idx=\"7\" begin-atom-idx=\"7\" end-atom-idx=\"8\" bond-smiles=\"-\" />\r\n",
      "<rdkit:bond idx=\"8\" begin-atom-idx=\"8\" end-atom-idx=\"9\" bond-smiles=\"-\" />\r\n",
      "<rdkit:bond idx=\"9\" begin-atom-idx=\"7\" end-atom-idx=\"10\" bond-smiles=\"=\" />\r\n",
      "<rdkit:bond idx=\"10\" begin-atom-idx=\"10\" end-atom-idx=\"11\" bond-smiles=\"-\" />\r\n",
      "<rdkit:bond idx=\"11\" begin-atom-idx=\"11\" end-atom-idx=\"12\" bond-smiles=\"-\" />\r\n",
      "<rdkit:bond idx=\"12\" begin-atom-idx=\"6\" end-atom-idx=\"13\" bond-smiles=\"-\" />\r\n",
      "<rdkit:bond idx=\"13\" begin-atom-idx=\"13\" end-atom-idx=\"14\" bond-smiles=\"=\" />\r\n",
      "<rdkit:bond idx=\"14\" begin-atom-idx=\"14\" end-atom-idx=\"15\" bond-smiles=\"-\" />\r\n",
      "<rdkit:bond idx=\"15\" begin-atom-idx=\"15\" end-atom-idx=\"16\" bond-smiles=\"=\" />\r\n",
      "<rdkit:bond idx=\"16\" begin-atom-idx=\"16\" end-atom-idx=\"17\" bond-smiles=\"-\" />\r\n",
      "<rdkit:bond idx=\"17\" begin-atom-idx=\"17\" end-atom-idx=\"18\" bond-smiles=\"-\" />\r\n",
      "<rdkit:bond idx=\"18\" begin-atom-idx=\"16\" end-atom-idx=\"19\" bond-smiles=\"-\" />\r\n",
      "<rdkit:bond idx=\"19\" begin-atom-idx=\"19\" end-atom-idx=\"20\" bond-smiles=\"=\" />\r\n",
      "<rdkit:bond idx=\"20\" begin-atom-idx=\"19\" end-atom-idx=\"21\" bond-smiles=\"-\" />\r\n",
      "<rdkit:bond idx=\"21\" begin-atom-idx=\"21\" end-atom-idx=\"22\" bond-smiles=\"=\" />\r\n",
      "<rdkit:bond idx=\"22\" begin-atom-idx=\"22\" end-atom-idx=\"23\" bond-smiles=\"-\" />\r\n",
      "<rdkit:bond idx=\"23\" begin-atom-idx=\"23\" end-atom-idx=\"24\" bond-smiles=\"-\" />\r\n",
      "<rdkit:bond idx=\"24\" begin-atom-idx=\"24\" end-atom-idx=\"25\" bond-smiles=\"-\" />\r\n",
      "<rdkit:bond idx=\"25\" begin-atom-idx=\"25\" end-atom-idx=\"26\" bond-smiles=\"-\" />\r\n",
      "<rdkit:bond idx=\"26\" begin-atom-idx=\"25\" end-atom-idx=\"27\" bond-smiles=\"=\" />\r\n",
      "<rdkit:bond idx=\"27\" begin-atom-idx=\"23\" end-atom-idx=\"28\" bond-smiles=\"-\" />\r\n",
      "<rdkit:bond idx=\"28\" begin-atom-idx=\"28\" end-atom-idx=\"29\" bond-smiles=\"-\" />\r\n",
      "<rdkit:bond idx=\"29\" begin-atom-idx=\"10\" end-atom-idx=\"3\" bond-smiles=\"-\" />\r\n",
      "<rdkit:bond idx=\"30\" begin-atom-idx=\"22\" end-atom-idx=\"13\" bond-smiles=\"-\" />\r\n",
      "<rdkit:bond idx=\"31\" begin-atom-idx=\"29\" end-atom-idx=\"5\" bond-smiles=\"-\" />\r\n",
      "</rdkit:mol></metadata>\r\n"
     ]
    }
   ],
   "source": [
    "!grep rdkit /tmp/blah.svg"
   ]
  },
  {
   "cell_type": "markdown",
   "metadata": {},
   "source": [
    "Ok, let's move onto PNGs.\n",
    "Start by getting a PIL Image object with the molecule drawing. There's a convenience function for this:"
   ]
  },
  {
   "cell_type": "code",
   "execution_count": 5,
   "metadata": {},
   "outputs": [
    {
     "data": {
      "image/png": "[encoded data removed]",
      "text/plain": [
       "<PIL.PngImagePlugin.PngImageFile image mode=RGB size=450x400 at 0x7F7BDD189190>"
      ]
     },
     "execution_count": 5,
     "metadata": {},
     "output_type": "execute_result"
    }
   ],
   "source": [
    "img = Draw.MolToImage(dm,size=(450,400))\n",
    "img"
   ]
  },
  {
   "cell_type": "markdown",
   "metadata": {},
   "source": [
    "Now use the PngImagePlugin which is part of pillow to add CXSMILES as the metadata and write the PNG out to a file:"
   ]
  },
  {
   "cell_type": "code",
   "execution_count": 6,
   "metadata": {},
   "outputs": [],
   "source": [
    "from PIL.PngImagePlugin import PngInfo\n",
    "metadata = PngInfo()\n",
    "metadata.add_text(\"RDKit_SMILES\",Chem.MolToCXSmiles(dm))\n",
    "img.save(\"/tmp/blah.png\",format=\"PNG\",pnginfo=metadata)"
   ]
  },
  {
   "cell_type": "markdown",
   "metadata": {},
   "source": [
    "Confirm that we can access the metadata when we read the file back in:"
   ]
  },
  {
   "cell_type": "code",
   "execution_count": 7,
   "metadata": {},
   "outputs": [
    {
     "data": {
      "text/plain": [
       "{'RDKit_SMILES': 'COc1cc2c(-c3ccc(OC)c(=O)cc3[C@@H](NC(C)=O)CC2)c(OC)c1OC |(-4.30669,0.156621,;-3.68129,-0.623579,;-2.68309,-0.470179,;-2.34369,0.441021,;-1.32889,0.576821,;-0.68409,-0.187979,;0.27171,-0.186179,;0.52551,-1.16158,;1.40091,-1.58258,;2.32971,-1.17158,;3.10331,-1.78918,;4.03411,-1.42338,;2.52231,-0.182779,;3.50711,0.0420207,;1.92331,0.619821,;0.93211,0.590821,;0.67991,1.56562,;1.46991,2.19622,;1.32211,3.18522,;0.39191,3.55222,;2.10511,3.80762,;-0.21529,2.02862,;-1.08509,1.57442,;-1.05729,-1.09018,;-0.42849,-1.88038,;-0.79549,-2.81058,;-2.06789,-1.25978,;-2.42669,-2.18238,;-3.41509,-2.33478,)|'}"
      ]
     },
     "execution_count": 7,
     "metadata": {},
     "output_type": "execute_result"
    }
   ],
   "source": [
    "nimg = Image.open('/tmp/blah.png')\n",
    "nimg.text"
   ]
  },
  {
   "cell_type": "code",
   "execution_count": 8,
   "metadata": {},
   "outputs": [
    {
     "name": "stdout",
     "output_type": "stream",
     "text": [
      "1\n"
     ]
    },
    {
     "data": {
      "image/png": "[encoded data removed]",
      "text/plain": [
       "<rdkit.Chem.rdchem.Mol at 0x7f7bdd060a80>"
      ]
     },
     "execution_count": 8,
     "metadata": {},
     "output_type": "execute_result"
    }
   ],
   "source": [
    "tmol = Chem.MolFromSmiles(nimg.text['RDKit_SMILES'])\n",
    "print(tmol.GetNumConformers())\n",
    "tmol"
   ]
  },
  {
   "cell_type": "markdown",
   "metadata": {},
   "source": [
    "And demonstrate that this isn't just something the PIL tools can read... show the metadata using imagemagick:"
   ]
  },
  {
   "cell_type": "code",
   "execution_count": 9,
   "metadata": {},
   "outputs": [
    {
     "name": "stdout",
     "output_type": "stream",
     "text": [
      "    RDKit_SMILES: COc1cc2c(-c3ccc(OC)c(=O)cc3[C@@H](NC(C)=O)CC2)c(OC)c1OC |(-4.30669,0.156621,;-3.68129,-0.623579,;-2.68309,-0.470179,;-2.34369,0.441021,;-1.32889,0.576821,;-0.68409,-0.187979,;0.27171,-0.186179,;0.52551,-1.16158,;1.40091,-1.58258,;2.32971,-1.17158,;3.10331,-1.78918,;4.03411,-1.42338,;2.52231,-0.182779,;3.50711,0.0420207,;1.92331,0.619821,;0.93211,0.590821,;0.67991,1.56562,;1.46991,2.19622,;1.32211,3.18522,;0.39191,3.55222,;2.10511,3.80762,;-0.21529,2.02862,;-1.08509,1.57442,;-1.05729,-1.09018,;-0.42849,-1.88038,;-0.79549,-2.81058,;-2.06789,-1.25978,;-2.42669,-2.18238,;-3.41509,-2.33478,)|\r\n"
     ]
    }
   ],
   "source": [
    "!identify -verbose /tmp/blah.png | grep RDK"
   ]
  },
  {
   "cell_type": "markdown",
   "metadata": {},
   "source": [
    "Since people inevitably want to put structures into Powerpoint, make sure that we can safely add these and not lose the metadata. I will use the [python-pptx library](https://python-pptx.readthedocs.io/en/latest/index.html) to demo this."
   ]
  },
  {
   "cell_type": "code",
   "execution_count": 10,
   "metadata": {},
   "outputs": [],
   "source": [
    "from pptx import Presentation\n",
    "from pptx.util import Mm\n",
    "\n",
    "bio = BytesIO()\n",
    "img.save(bio,format=\"PNG\",pnginfo=metadata)\n",
    "\n",
    "prs = Presentation()\n",
    "blank_slide_layout = prs.slide_layouts[6]\n",
    "slide = prs.slides.add_slide(blank_slide_layout)\n",
    "\n",
    "left = top = Mm(50)\n",
    "pic = slide.shapes.add_picture(bio, left, top, height=Mm(60))\n",
    "\n",
    "prs.save('/tmp/test.pptx')"
   ]
  },
  {
   "cell_type": "markdown",
   "metadata": {},
   "source": [
    "Make sure we don't lose the metadata:"
   ]
  },
  {
   "cell_type": "code",
   "execution_count": 11,
   "metadata": {},
   "outputs": [
    {
     "data": {
      "text/plain": [
       "{'RDKit_SMILES': 'COc1cc2c(-c3ccc(OC)c(=O)cc3[C@@H](NC(C)=O)CC2)c(OC)c1OC |(-4.30669,0.156621,;-3.68129,-0.623579,;-2.68309,-0.470179,;-2.34369,0.441021,;-1.32889,0.576821,;-0.68409,-0.187979,;0.27171,-0.186179,;0.52551,-1.16158,;1.40091,-1.58258,;2.32971,-1.17158,;3.10331,-1.78918,;4.03411,-1.42338,;2.52231,-0.182779,;3.50711,0.0420207,;1.92331,0.619821,;0.93211,0.590821,;0.67991,1.56562,;1.46991,2.19622,;1.32211,3.18522,;0.39191,3.55222,;2.10511,3.80762,;-0.21529,2.02862,;-1.08509,1.57442,;-1.05729,-1.09018,;-0.42849,-1.88038,;-0.79549,-2.81058,;-2.06789,-1.25978,;-2.42669,-2.18238,;-3.41509,-2.33478,)|'}"
      ]
     },
     "execution_count": 11,
     "metadata": {},
     "output_type": "execute_result"
    }
   ],
   "source": [
    "nprs = Presentation('/tmp/test.pptx')\n",
    "slide = nprs.slides[0]\n",
    "pic = slide.shapes[0]\n",
    "bio = BytesIO(pic.image.blob)\n",
    "nimg = Image.open(bio)\n",
    "nimg.text"
   ]
  },
  {
   "cell_type": "markdown",
   "metadata": {},
   "source": [
    "And to be super sure, I opened the file in PPT in Office365, added some text, and then re-downloaded it"
   ]
  },
  {
   "cell_type": "code",
   "execution_count": 12,
   "metadata": {},
   "outputs": [
    {
     "data": {
      "text/plain": [
       "{'RDKit_SMILES': 'COc1cc2c(-c3ccc(OC)c(=O)cc3[C@@H](NC(C)=O)CC2)c(OC)c1OC |(-4.30669,0.156621,;-3.68129,-0.623579,;-2.68309,-0.470179,;-2.34369,0.441021,;-1.32889,0.576821,;-0.68409,-0.187979,;0.27171,-0.186179,;0.52551,-1.16158,;1.40091,-1.58258,;2.32971,-1.17158,;3.10331,-1.78918,;4.03411,-1.42338,;2.52231,-0.182779,;3.50711,0.0420207,;1.92331,0.619821,;0.93211,0.590821,;0.67991,1.56562,;1.46991,2.19622,;1.32211,3.18522,;0.39191,3.55222,;2.10511,3.80762,;-0.21529,2.02862,;-1.08509,1.57442,;-1.05729,-1.09018,;-0.42849,-1.88038,;-0.79549,-2.81058,;-2.06789,-1.25978,;-2.42669,-2.18238,;-3.41509,-2.33478,)|'}"
      ]
     },
     "execution_count": 12,
     "metadata": {},
     "output_type": "execute_result"
    }
   ],
   "source": [
    "nprs = Presentation('/home/glandrum/Downloads/test.pptx')\n",
    "slide = nprs.slides[0]\n",
    "pic = slide.shapes[0]\n",
    "bio = BytesIO(pic.image.blob)\n",
    "nimg = Image.open(bio)\n",
    "nimg.text"
   ]
  },
  {
   "cell_type": "markdown",
   "metadata": {},
   "source": [
    "Looks good!"
   ]
  }
 ],
 "metadata": {
  "kernelspec": {
   "display_name": "Python 3",
   "language": "python",
   "name": "python3"
  },
  "language_info": {
   "codemirror_mode": {
    "name": "ipython",
    "version": 3
   },
   "file_extension": ".py",
   "mimetype": "text/x-python",
   "name": "python",
   "nbconvert_exporter": "python",
   "pygments_lexer": "ipython3",
   "version": "3.7.6"
  }
 },
 "nbformat": 4,
 "nbformat_minor": 4
}

{
 "cells": [
  {
   "cell_type": "markdown",
   "metadata": {},
   "source": [
    "A [question](http://www.mail-archive.com/rdkit-discuss@lists.sourceforge.net/msg06764.html) recently came up on the mailing list about how to use custom fingerprints with the RDKit PostgreSQL cartridge without having to edit the cartridge code itself. Since the answer isn't trivial but may be useful to others, I'm doing a blog post with the answer.\n",
    "\n",
    "We'll start the usual way, with a bunch of imports. In the interests of being maximally explicit and having this whole notebook be normal Python code, I'm handling the database connection with the usual psycopg2 connector to PostgreSQL."
   ]
  },
  {
   "cell_type": "code",
   "execution_count": 1,
   "metadata": {},
   "outputs": [
    {
     "name": "stdout",
     "output_type": "stream",
     "text": [
      "Wed Apr 26 13:22:19 2017 rdkit= 2017.03.1\n"
     ]
    }
   ],
   "source": [
    "from rdkit import Chem\n",
    "from rdkit import DataStructs\n",
    "from rdkit import rdBase\n",
    "from rdkit.Chem.Draw import IPythonConsole\n",
    "from rdkit.Chem import Draw\n",
    "import psycopg2,time\n",
    "print(time.asctime(),\"rdkit=\",rdBase.rdkitVersion)"
   ]
  },
  {
   "cell_type": "markdown",
   "metadata": {},
   "source": [
    "Read in a set of molecule data that we've used before:"
   ]
  },
  {
   "cell_type": "code",
   "execution_count": 2,
   "metadata": {},
   "outputs": [
    {
     "data": {
      "text/plain": [
       "234681"
      ]
     },
     "execution_count": 2,
     "metadata": {},
     "output_type": "execute_result"
    }
   ],
   "source": [
    "with open('../data/chembl16_2010-2012.smi') as inf:\n",
    "    data = [x.strip().split() for x in inf]\n",
    "len(data)"
   ]
  },
  {
   "cell_type": "markdown",
   "metadata": {},
   "source": [
    "Establish a connection to the database we'll use and insert that data:"
   ]
  },
  {
   "cell_type": "code",
   "execution_count": 3,
   "metadata": {
    "collapsed": true
   },
   "outputs": [],
   "source": [
    "conn = psycopg2.connect(database='rdkit_blog_demo')\n",
    "curs = conn.cursor()\n",
    "curs.execute('create extension if not exists rdkit')\n",
    "curs.execute('drop table if exists raw_data')\n",
    "curs.execute('create table raw_data (smiles text,molregno int)')\n",
    "curs.executemany('insert into raw_data values (%s,%s)',data)\n",
    "conn.commit()"
   ]
  },
  {
   "cell_type": "markdown",
   "metadata": {},
   "source": [
    "Create a molecule table with the first 10K rows (we don't need all the data for the purposes of this post):"
   ]
  },
  {
   "cell_type": "code",
   "execution_count": 4,
   "metadata": {
    "collapsed": true
   },
   "outputs": [],
   "source": [
    "curs.execute('drop table if exists mols')\n",
    "curs.execute('select molregno,mol_from_smiles(smiles::cstring) as m into mols from raw_data limit 10000')\n",
    "conn.commit()"
   ]
  },
  {
   "cell_type": "markdown",
   "metadata": {},
   "source": [
    "Now generate our custom fingerprints for those molecules. We're using one of the Atom Pair/Topological Torsion variants that the RDKit provides here:"
   ]
  },
  {
   "cell_type": "code",
   "execution_count": 5,
   "metadata": {
    "collapsed": true
   },
   "outputs": [],
   "source": [
    "from rdkit.Chem.AtomPairs import Sheridan\n",
    "from rdkit.Chem import rdMolDescriptors\n",
    "fps = []\n",
    "# grab the molecules, we're pulling them out in their pickled form:\n",
    "curs.execute('select molregno,mol_send(m) from mols limit 10000')\n",
    "for molregno,pkl in curs.fetchall():\n",
    "    if pkl is None: continue\n",
    "    # construct a molecule\n",
    "    m = Chem.Mol(pkl.tobytes())\n",
    "    # now do our fingerprint. We're using Topological Torsions with Sheridan's binding properties\n",
    "    # to define atom types\n",
    "    fp = Sheridan.GetBTFingerprint(m,fpfn=rdMolDescriptors.GetHashedTopologicalTorsionFingerprintAsBitVect)\n",
    "    fps.append((molregno,fp))"
   ]
  },
  {
   "cell_type": "markdown",
   "metadata": {},
   "source": [
    "Now insert the fingerprints into the database, we do this by sending a byte string to the database using `DataStructs.BitVectToBinaryText()` on the python side and then converting that into a bit vector in the database using the function `bfp_from_binary_text()`:"
   ]
  },
  {
   "cell_type": "code",
   "execution_count": 7,
   "metadata": {
    "collapsed": true
   },
   "outputs": [],
   "source": [
    "curs.execute('drop table if exists fps')\n",
    "curs.execute('create table fps (molregno int, btfp bfp)')\n",
    "curs.executemany('insert into fps values (%s,bfp_from_binary_text(%s))',\n",
    "                 [(x,DataStructs.BitVectToBinaryText(y)) for x,y in fps])\n",
    "conn.commit()"
   ]
  },
  {
   "cell_type": "markdown",
   "metadata": {},
   "source": [
    "If this were a larger database I'd also create an index on the fingerprint column in order to speed similarity searches up a bit, but since this one's small we'll skip that."
   ]
  },
  {
   "cell_type": "markdown",
   "metadata": {},
   "source": [
    "And here's how you do a query:"
   ]
  },
  {
   "cell_type": "code",
   "execution_count": 8,
   "metadata": {},
   "outputs": [
    {
     "data": {
      "text/plain": [
       "3"
      ]
     },
     "execution_count": 8,
     "metadata": {},
     "output_type": "execute_result"
    }
   ],
   "source": [
    "fp = fps[-1][-1]\n",
    "curs.execute('set rdkit.tanimoto_threshold=0.6')\n",
    "curs.execute('select molregno,m from mols join fps using (molregno) where btfp%%bfp_from_binary_text(%s)',\n",
    "             (DataStructs.BitVectToBinaryText(fp),))\n",
    "res = curs.fetchall()\n",
    "len(res)"
   ]
  },
  {
   "cell_type": "markdown",
   "metadata": {},
   "source": [
    "It's always good to test that we're getting the right answers, so let's verify that by repeating the same process in Python (just to be sure we did everything right!):"
   ]
  },
  {
   "cell_type": "code",
   "execution_count": 9,
   "metadata": {},
   "outputs": [
    {
     "data": {
      "text/plain": [
       "3"
      ]
     },
     "execution_count": 9,
     "metadata": {},
     "output_type": "execute_result"
    }
   ],
   "source": [
    "len([x for (x,y) in fps if DataStructs.TanimotoSimilarity(y,fp)>=0.6])"
   ]
  },
  {
   "cell_type": "markdown",
   "metadata": {},
   "source": [
    "Pull back some similarity values:"
   ]
  },
  {
   "cell_type": "code",
   "execution_count": 10,
   "metadata": {},
   "outputs": [
    {
     "data": {
      "text/plain": [
       "[(23, 0.159090909090909),\n",
       " (97, 0.223880597014925),\n",
       " (115, 0.256410256410256),\n",
       " (146, 0.228571428571429),\n",
       " (147, 0.160714285714286),\n",
       " (148, 0.102941176470588),\n",
       " (173, 0.226415094339623),\n",
       " (194, 0.160714285714286),\n",
       " (213, 0.333333333333333),\n",
       " (205, 0.203125)]"
      ]
     },
     "execution_count": 10,
     "metadata": {},
     "output_type": "execute_result"
    }
   ],
   "source": [
    "curs.execute('select molregno,tanimoto_sml(btfp,bfp_from_binary_text(%s)) from fps limit 10',\n",
    "             (DataStructs.BitVectToBinaryText(fp),))\n",
    "curs.fetchall()\n"
   ]
  },
  {
   "cell_type": "markdown",
   "metadata": {},
   "source": [
    "And again, just a test, ensure that we're getting the same thing we'd see in Python:"
   ]
  },
  {
   "cell_type": "code",
   "execution_count": 11,
   "metadata": {},
   "outputs": [
    {
     "data": {
      "text/plain": [
       "[(23, 0.1590909090909091),\n",
       " (97, 0.22388059701492538),\n",
       " (115, 0.2564102564102564),\n",
       " (146, 0.22857142857142856),\n",
       " (147, 0.16071428571428573),\n",
       " (148, 0.10294117647058823),\n",
       " (173, 0.22641509433962265),\n",
       " (194, 0.16071428571428573),\n",
       " (213, 0.3333333333333333),\n",
       " (205, 0.203125)]"
      ]
     },
     "execution_count": 11,
     "metadata": {},
     "output_type": "execute_result"
    }
   ],
   "source": [
    "[(x,DataStructs.TanimotoSimilarity(y,fp)) for (x,y) in fps][:10]"
   ]
  },
  {
   "cell_type": "markdown",
   "metadata": {},
   "source": [
    "That's it. Not particularly complicated, but still a useful thing to know how to do.\n",
    "Following this approach, any bit vector fingerprint (even one's generated outside of the RDKit) can be inserted into PostgreSQL tables and then searched using the RDKit cartridge."
   ]
  }
 ],
 "metadata": {
  "kernelspec": {
   "display_name": "Python 3",
   "language": "python",
   "name": "python3"
  },
  "language_info": {
   "codemirror_mode": {
    "name": "ipython",
    "version": 3
   },
   "file_extension": ".py",
   "mimetype": "text/x-python",
   "name": "python",
   "nbconvert_exporter": "python",
   "pygments_lexer": "ipython3",
   "version": "3.6.1"
  }
 },
 "nbformat": 4,
 "nbformat_minor": 2
}

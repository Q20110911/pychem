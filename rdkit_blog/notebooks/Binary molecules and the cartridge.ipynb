{
 "cells": [
  {
   "cell_type": "markdown",
   "metadata": {},
   "source": [
    "I had a couple of online conversations this week about working with the PostgreSQL cartridge from Python and sending molecules back and forth between Python and the database. Here's a quick blogpost on that topic."
   ]
  },
  {
   "cell_type": "code",
   "execution_count": 1,
   "metadata": {},
   "outputs": [],
   "source": [
    "from rdkit import Chem\n",
    "import gzip\n",
    "import time\n",
    "import psycopg2\n",
    "import json"
   ]
  },
  {
   "cell_type": "markdown",
   "metadata": {},
   "source": [
    "The dataset we'll use here is a set of molecules+activity data from ChEMBL26. We take all the measured Ki values that are less than 1nM."
   ]
  },
  {
   "cell_type": "raw",
   "metadata": {},
   "source": [
    "# here's how I constructed the dataset\n",
    "conn2 = psycopg2.connect(\"dbname=chembl_26 host=localhost\")\n",
    "curs2 = conn2.cursor()\n",
    "curs2.execute('''select cid1.chembl_id as compound_chembl_id,cid2.chembl_id as assay_chembl_id,\n",
    "    target_dictionary.chembl_id as target_chembl_id,target_dictionary.pref_name as pref_name,\n",
    "    standard_relation,standard_value,standard_units,standard_type,molfile \n",
    "from activities acts \n",
    "  join assays using (assay_id) \n",
    "  join compound_structures using (molregno) \n",
    "  join chembl_id_lookup cid1 on (molregno=entity_id and entity_type='COMPOUND') \n",
    "  join chembl_id_lookup cid2 on (assay_id=cid2.entity_id and cid2.entity_type='ASSAY')\n",
    "  join target_dictionary using (tid) \n",
    "where standard_type='Ki' and standard_units='nM' and standard_value is not null and \n",
    "  standard_relation='=' and standard_value<1''')\n",
    "data = curs2.fetchall()\n",
    "import gzip\n",
    "cnames = [x.name for x in curs2.description]\n",
    "w = Chem.SDWriter(gzip.open('/home/glandrum/RDKit_blog/data/chembl26_very_active.sdf.gz','wt+'))\n",
    "for row in data:\n",
    "    m = Chem.MolFromMolBlock(row[-1])\n",
    "    for i in range(len(cnames)-1):\n",
    "        m.SetProp(cnames[i],str(row[i]))\n",
    "    w.write(m)\n",
    "w=None\n"
   ]
  },
  {
   "cell_type": "markdown",
   "metadata": {},
   "source": [
    "Let's start by assembling a benchmarking set of 30K molblocks:"
   ]
  },
  {
   "cell_type": "code",
   "execution_count": 2,
   "metadata": {},
   "outputs": [],
   "source": [
    "molblocks = []\n",
    "nms = []\n",
    "with gzip.open('../data/chembl26_very_active.sdf.gz','r') as inf:\n",
    "    suppl = Chem.ForwardSDMolSupplier(inf)\n",
    "    while len(molblocks)<30000:\n",
    "        m = next(suppl)\n",
    "        if not m:\n",
    "            continue\n",
    "        nms.append(m.GetProp('compound_chembl_id'))\n",
    "        molblocks.append(Chem.MolToMolBlock(m))"
   ]
  },
  {
   "cell_type": "markdown",
   "metadata": {},
   "source": [
    "How long does it take to parse all the molblocks on the python side?"
   ]
  },
  {
   "cell_type": "code",
   "execution_count": 3,
   "metadata": {},
   "outputs": [
    {
     "name": "stdout",
     "output_type": "stream",
     "text": [
      " that took 6.88 seconds\n"
     ]
    }
   ],
   "source": [
    "t1 = time.time()\n",
    "ms = [Chem.MolFromMolBlock(mb) for mb in molblocks]\n",
    "t2 = time.time()\n",
    "print(f\" that took {t2-t1 :.2f} seconds\")"
   ]
  },
  {
   "cell_type": "markdown",
   "metadata": {},
   "source": [
    "What about to do the same work in the database?"
   ]
  },
  {
   "cell_type": "code",
   "execution_count": 4,
   "metadata": {},
   "outputs": [
    {
     "name": "stdout",
     "output_type": "stream",
     "text": [
      " that took 7.83 seconds\n"
     ]
    }
   ],
   "source": [
    "conn = psycopg2.connect(\"dbname=demodb host=localhost\")\n",
    "curs = conn.cursor()\n",
    "curs.execute('drop table if exists molbs')\n",
    "curs.execute('drop table if exists mols')\n",
    "curs.execute('create table molbs (chembl_id text,molb text)')\n",
    "curs.executemany('insert into molbs values (%s,%s)',[(x,y) for x,y in zip(nms,molblocks)])\n",
    "t1 = time.time()\n",
    "curs.execute('select chembl_id,mol_from_ctab(molb::cstring) m into mols from molbs')\n",
    "conn.commit()\n",
    "t2 = time.time()\n",
    "print(f\" that took {t2-t1 :.2f} seconds\")\n"
   ]
  },
  {
   "cell_type": "markdown",
   "metadata": {},
   "source": [
    "Notice that we also had to transfer the mol blocks to the database. I didn't include that in the timing results because we're just looking at processing time."
   ]
  },
  {
   "cell_type": "markdown",
   "metadata": {},
   "source": [
    "## Sending binary molecules to the database \n",
    "\n",
    "It seems silly to do the work of processing the mol blocks in the database a second time. Fortunately, we can add the molecules to the database in RDKit's binary form:"
   ]
  },
  {
   "cell_type": "code",
   "execution_count": 5,
   "metadata": {},
   "outputs": [
    {
     "name": "stdout",
     "output_type": "stream",
     "text": [
      " that took 4.47 seconds\n"
     ]
    }
   ],
   "source": [
    "conn = psycopg2.connect(\"dbname=demodb host=localhost\")\n",
    "curs = conn.cursor()\n",
    "curs.execute('drop table if exists mols')\n",
    "curs.execute('create table mols (chembl_id text,m mol)')\n",
    "t1 = time.time()\n",
    "curs.executemany('insert into mols values (%s,mol_from_pkl(%s))',[(x,y.ToBinary(),) for x,y in zip(nms,ms)])\n",
    "conn.commit()\n",
    "t2 = time.time()\n",
    "print(f\" that took {t2-t1 :.2f} seconds\")"
   ]
  },
  {
   "cell_type": "markdown",
   "metadata": {},
   "source": [
    "## Retrieving binary molecules from the database\n",
    "\n",
    "What about going the other way: we have binary molecules in the database and want to pull them back into Python to work with them?"
   ]
  },
  {
   "cell_type": "code",
   "execution_count": 6,
   "metadata": {},
   "outputs": [
    {
     "name": "stdout",
     "output_type": "stream",
     "text": [
      " that took 2.24 seconds\n"
     ]
    }
   ],
   "source": [
    "conn = psycopg2.connect(\"dbname=demodb host=localhost\")\n",
    "curs = conn.cursor()\n",
    "t1 = time.time()\n",
    "curs.execute('select chembl_id,mol_to_pkl(m) from mols')\n",
    "tms = [Chem.Mol(x[1].tobytes()) for x in curs.fetchall()]\n",
    "t2 = time.time()\n",
    "print(f\" that took {t2-t1 :.2f} seconds\")"
   ]
  },
  {
   "cell_type": "markdown",
   "metadata": {},
   "source": [
    "We can, of course, do searches in the database and then pull just the molecules from the search results into Python:"
   ]
  },
  {
   "cell_type": "code",
   "execution_count": 7,
   "metadata": {},
   "outputs": [
    {
     "name": "stdout",
     "output_type": "stream",
     "text": [
      " that took 0.55 seconds and returned 993 results\n"
     ]
    }
   ],
   "source": [
    "conn = psycopg2.connect(\"dbname=demodb host=localhost\")\n",
    "curs = conn.cursor()\n",
    "t1 = time.time()\n",
    "curs.execute('select chembl_id,mol_to_pkl(m) from mols where m@>mol_from_smarts(%s)',('c1ncn[o,n]1',))\n",
    "tms = [Chem.Mol(x[1].tobytes()) for x in curs.fetchall()]\n",
    "t2 = time.time()\n",
    "print(f\" that took {t2-t1 :.2f} seconds and returned {len(tms)} results\")"
   ]
  },
  {
   "cell_type": "markdown",
   "metadata": {},
   "source": [
    "## Example 1: adding descriptors to the database\n",
    "\n",
    "The cartridge can calculate a [number of molecular descriptors](https://rdkit.org/docs/Cartridge.html#descriptors) directly, but there are more available in Python. Let's calculate some of those and add them to the database.\n",
    "\n",
    "We'll pull the binary molecules from the database, calculate BCUT2D descriptors for them, and then add the descriptors to a new database table."
   ]
  },
  {
   "cell_type": "code",
   "execution_count": 8,
   "metadata": {},
   "outputs": [],
   "source": [
    "from rdkit.Chem import Descriptors\n",
    "from rdkit.Chem import rdMolDescriptors\n",
    "nBCuts = len(rdMolDescriptors.BCUT2D(Chem.MolFromSmiles('c1ccccc1')))\n",
    "descrdefn = ','.join(f'bcut_{i+1} float' for i in range(nBCuts))\n",
    "descrholder = ','.join(['%s']*nBCuts)"
   ]
  },
  {
   "cell_type": "code",
   "execution_count": 9,
   "metadata": {},
   "outputs": [],
   "source": [
    "conn = psycopg2.connect(\"dbname=demodb host=localhost\")\n",
    "curs = conn.cursor()\n",
    "curs.execute('drop table if exists bcuts')\n",
    "curs.execute(f'create table bcuts (chembl_id text,{descrdefn})')\n",
    "curs.execute('select chembl_id,mol_to_pkl(m) from mols')\n",
    "bcut_data = []\n",
    "for row in curs.fetchall():\n",
    "    trow = [row[0]]\n",
    "    mol = Chem.Mol(row[1].tobytes())\n",
    "    try:\n",
    "        descrs = rdMolDescriptors.BCUT2D(mol)\n",
    "    except ValueError:\n",
    "        continue\n",
    "    trow.extend(descrs)\n",
    "    bcut_data.append(trow)\n",
    "cmd = f'insert into bcuts values (%s,{descrholder})'\n",
    "curs.executemany(cmd,bcut_data)\n",
    "conn.commit()    \n"
   ]
  },
  {
   "cell_type": "markdown",
   "metadata": {},
   "source": [
    "Since the bcuts descriptors use partial charges and we don't have parameters for all atom types, some molecules don't have values:"
   ]
  },
  {
   "cell_type": "code",
   "execution_count": 10,
   "metadata": {},
   "outputs": [
    {
     "data": {
      "text/plain": [
       "(29937,)"
      ]
     },
     "execution_count": 10,
     "metadata": {},
     "output_type": "execute_result"
    }
   ],
   "source": [
    "curs.execute('select count(*) from bcuts')\n",
    "curs.fetchone()"
   ]
  },
  {
   "cell_type": "code",
   "execution_count": 11,
   "metadata": {},
   "outputs": [
    {
     "data": {
      "text/plain": [
       "(30000,)"
      ]
     },
     "execution_count": 11,
     "metadata": {},
     "output_type": "execute_result"
    }
   ],
   "source": [
    "curs.execute('select count(*) from mols')\n",
    "curs.fetchone()"
   ]
  },
  {
   "cell_type": "markdown",
   "metadata": {},
   "source": [
    "## Example 2: Loading SDF data into the database\n",
    "\n",
    "We loaded the molecules from an SDF, but ignored the data fields in that SDF. Now let's load those into the database too.\n",
    "\n",
    "We'll take advantage of PostgreSQL's jsonb type to store the properties on each molecule in a dictionary-like object.\n",
    "\n",
    "Let's start by loading the data:"
   ]
  },
  {
   "cell_type": "code",
   "execution_count": 12,
   "metadata": {},
   "outputs": [],
   "source": [
    "conn = psycopg2.connect(\"dbname=demodb host=localhost\")\n",
    "curs = conn.cursor()\n",
    "curs.execute('drop table if exists mols')\n",
    "curs.execute('create table mols (chembl_id text,m mol,sdf_data jsonb)')\n",
    "rows = []\n",
    "with gzip.open('../data/chembl26_very_active.sdf.gz','r') as inf:\n",
    "    suppl = Chem.ForwardSDMolSupplier(inf)\n",
    "    while len(rows)<30000:\n",
    "        m = next(suppl)\n",
    "        if not m:\n",
    "            continue\n",
    "        nm = m.GetProp('compound_chembl_id')\n",
    "        props = m.GetPropsAsDict()\n",
    "        rows.append((nm,m.ToBinary(),json.dumps(props)))\n",
    "curs.executemany('insert into mols values (%s,mol_from_pkl(%s),%s)',rows)\n",
    "conn.commit()"
   ]
  },
  {
   "cell_type": "markdown",
   "metadata": {},
   "source": [
    "Demonstrate how to do a string query:"
   ]
  },
  {
   "cell_type": "code",
   "execution_count": 13,
   "metadata": {},
   "outputs": [
    {
     "data": {
      "text/plain": [
       "(892,)"
      ]
     },
     "execution_count": 13,
     "metadata": {},
     "output_type": "execute_result"
    }
   ],
   "source": [
    "curs.execute(\"select count(*) from mols where sdf_data->>'pref_name' = 'Human immunodeficiency virus type 1 protease'\")\n",
    "curs.fetchone()"
   ]
  },
  {
   "cell_type": "markdown",
   "metadata": {},
   "source": [
    "And a query on a floating point value, here we're counting the number of rows where the Ki value is less than 10 picomolar."
   ]
  },
  {
   "cell_type": "code",
   "execution_count": 14,
   "metadata": {},
   "outputs": [
    {
     "data": {
      "text/plain": [
       "(788,)"
      ]
     },
     "execution_count": 14,
     "metadata": {},
     "output_type": "execute_result"
    }
   ],
   "source": [
    "curs.execute(\"select count(*) from mols where (sdf_data->>'standard_value')::float < 0.01\")\n",
    "curs.fetchone()"
   ]
  },
  {
   "cell_type": "markdown",
   "metadata": {},
   "source": [
    "Get all the rows with measurements aginst HIV protease where Ki < 1 picomolar"
   ]
  },
  {
   "cell_type": "code",
   "execution_count": 15,
   "metadata": {},
   "outputs": [
    {
     "data": {
      "text/plain": [
       "[('CHEMBL443030',\n",
       "  'COc1cc(CN2C(=O)N(Cc3ccc(O)c(OC)c3)N(Cc3ccccc3)C[C@@H](O)[C@H]2Cc2ccccc2)ccc1O |(3.8692,2.234,;3.0465,2.2956,;2.5817,1.614,;1.759,1.6756,;1.2943,0.994,;0.4716,1.0556,;0.0069,0.374,;-0.8089,0.4969,;-1.0521,1.2853,;-1.4137,-0.0642,;-2.1817,0.2372,;-2.3046,1.053,;-3.0726,1.3544,;-3.1955,2.1702,;-2.5505,2.6846,;-2.6735,3.5004,;-1.7826,2.3832,;-1.1376,2.8975,;-0.3696,2.5961,;-1.6596,1.5674,;-1.352,-0.8869,;-2.0665,-1.2994,;-2.0665,-2.1244,;-2.781,-2.5369,;-2.781,-3.3619,;-2.0665,-3.7744,;-1.352,-3.3619,;-1.352,-2.5369,;-0.6704,-1.3516,;0.118,-1.1085,;0.6791,-1.7132,;0.4194,-0.3405,;1.2421,-0.2788,;1.7068,-0.9605,;2.5295,-0.8988,;2.9942,-1.5805,;2.6363,-2.3238,;1.8136,-2.3854,;1.3488,-1.7038,;1.6523,0.2507,;2.4749,0.189,;2.9397,0.8707,;3.7624,0.809,)|'),\n",
       " ('CHEMBL177470',\n",
       "  'CC(C)(CCCN)CN(C[C@@H](O)[C@H](Cc1ccccc1)NC(=O)O[C@H]1CO[C@H]2OCC[C@@H]12)S(=O)(=O)c1ccc2c(c1)OCO2 |(8.05,-8.8625,;8.0542,-8.0375,;7.4667,-8.6167,;8.775,-7.6292,;9.4875,-8.0417,;10.2,-7.6292,;10.9125,-8.0417,;7.35,-7.6167,;7.3542,-6.7917,;6.6375,-6.3875,;5.9292,-6.8042,;5.9292,-7.6292,;5.2125,-6.3917,;5.2042,-5.5667,;5.9167,-5.1542,;5.9167,-4.3292,;6.625,-3.9167,;7.3417,-4.3167,;7.35,-5.15,;6.6375,-5.5667,;4.5,-6.8125,;3.7792,-6.4042,;3.775,-5.5792,;3.0667,-6.8167,;2.3542,-6.4042,;2.3625,-5.6875,;1.1167,-5.6792,;1.1167,-6.4,;0.4792,-7.475,;1.1042,-7.8417,;1.7375,-7.4875,;1.7417,-6.7667,;8.0667,-6.3792,;8.7792,-6.7792,;8.0542,-5.5542,;8.8625,-6.1625,;9.4417,-6.7417,;10.2417,-6.5292,;10.4542,-5.7292,;9.8625,-5.1417,;9.0667,-5.3667,;10.2292,-4.4042,;11.0542,-4.5292,;11.1917,-5.35,)|')]"
      ]
     },
     "execution_count": 15,
     "metadata": {},
     "output_type": "execute_result"
    }
   ],
   "source": [
    "curs.execute(\"select chembl_id,m from mols where sdf_data->>'pref_name' = 'Human immunodeficiency virus type 1 protease'\\\n",
    "and (sdf_data->>'standard_value')::float < 0.01\")\n",
    "d = curs.fetchall()\n",
    "d[:2]"
   ]
  },
  {
   "cell_type": "markdown",
   "metadata": {},
   "source": [
    "Notice that we get CXSMILES with coordinates back from the database. We loaded the compounds from the SDF with coordinates and the CXSMILES coming back from the database includes those coordinates.\n"
   ]
  },
  {
   "cell_type": "markdown",
   "metadata": {},
   "source": [
    "Let's do one last query there to look at the composition of the dataset:"
   ]
  },
  {
   "cell_type": "code",
   "execution_count": 16,
   "metadata": {},
   "outputs": [
    {
     "data": {
      "text/plain": [
       "[('Unchecked', 1398),\n",
       " ('Mu opioid receptor', 1112),\n",
       " ('Kappa opioid receptor', 712),\n",
       " ('Delta opioid receptor', 605),\n",
       " ('Human immunodeficiency virus type 1 protease', 588),\n",
       " ('Coagulation factor X', 558),\n",
       " ('Serotonin 1a (5-HT1a) receptor', 528),\n",
       " ('Histamine H3 receptor', 519),\n",
       " ('Neuronal acetylcholine receptor; alpha4/beta2', 460),\n",
       " ('Dopamine D3 receptor', 428),\n",
       " ('Thrombin', 386),\n",
       " ('Serotonin transporter', 366),\n",
       " ('Alpha-1a adrenergic receptor', 357),\n",
       " ('Serotonin 2a (5-HT2a) receptor', 348),\n",
       " ('Dopamine D2 receptor', 326),\n",
       " ('Apoptosis regulator Bcl-2', 259),\n",
       " ('Protease', 254),\n",
       " ('Serine/threonine-protein kinase PIM1', 252),\n",
       " ('TNF-alpha', 245),\n",
       " ('Serotonin 6 (5-HT6) receptor', 243)]"
      ]
     },
     "execution_count": 16,
     "metadata": {},
     "output_type": "execute_result"
    }
   ],
   "source": [
    "curs.execute(\"select sdf_data->>'pref_name',count(distinct(chembl_id)) cnt \\\n",
    "from mols group by (sdf_data->>'pref_name') order by cnt desc limit 20\")\n",
    "curs.fetchall()"
   ]
  },
  {
   "cell_type": "markdown",
   "metadata": {},
   "source": [
    "I think using JSONB this way, which basically lets us combine a relational database with a document store, opens up a bunch of interesting possibilties. I'll try and do another blog post on that in the near(ish) future."
   ]
  },
  {
   "cell_type": "code",
   "execution_count": null,
   "metadata": {},
   "outputs": [],
   "source": []
  }
 ],
 "metadata": {
  "_draft": {
   "nbviewer_url": "https://gist.github.com/e450350d0edd1000586000bcc3fdd14b"
  },
  "gist": {
   "data": {
    "description": "Untitled1.ipynb",
    "public": false
   },
   "id": "e450350d0edd1000586000bcc3fdd14b"
  },
  "kernelspec": {
   "display_name": "Python 3",
   "language": "python",
   "name": "python3"
  },
  "language_info": {
   "codemirror_mode": {
    "name": "ipython",
    "version": 3
   },
   "file_extension": ".py",
   "mimetype": "text/x-python",
   "name": "python",
   "nbconvert_exporter": "python",
   "pygments_lexer": "ipython3",
   "version": "3.7.6"
  }
 },
 "nbformat": 4,
 "nbformat_minor": 4
}

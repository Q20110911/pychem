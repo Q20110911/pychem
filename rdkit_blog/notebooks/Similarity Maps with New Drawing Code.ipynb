{
 "cells": [
  {
   "cell_type": "markdown",
   "metadata": {},
   "source": [
    "As part of the 2019.09 release we added a C++ implementation of the RDKit's similarity map functionality (https://jcheminf.biomedcentral.com/articles/10.1186/1758-2946-5-43). I forgot to mention this during the \"What's New\" bit of my presentation at the UGM, but I think it's worth calling attention to. So here's a quick blog post. "
   ]
  },
  {
   "cell_type": "code",
   "execution_count": 1,
   "metadata": {},
   "outputs": [
    {
     "name": "stdout",
     "output_type": "stream",
     "text": [
      "2020.03.1\n"
     ]
    }
   ],
   "source": [
    "from rdkit import Chem\n",
    "from rdkit.Chem import Draw\n",
    "from rdkit.Chem.Draw import SimilarityMaps\n",
    "from IPython.display import SVG\n",
    "import numpy as np\n",
    "import rdkit\n",
    "print(rdkit.__version__)"
   ]
  },
  {
   "cell_type": "code",
   "execution_count": 2,
   "metadata": {},
   "outputs": [
    {
     "data": {
      "image/png": "[encoded data removed]",
      "text/plain": [
       "<PIL.PngImagePlugin.PngImageFile image mode=RGB size=600x200 at 0x197CF416C88>"
      ]
     },
     "execution_count": 2,
     "metadata": {},
     "output_type": "execute_result"
    }
   ],
   "source": [
    "atorvastatin = Chem.MolFromSmiles('O=C(O)C[C@H](O)C[C@H](O)CCn2c(c(c(c2c1ccc(F)cc1)c3ccccc3)C(=O)Nc4ccccc4)C(C)C')\n",
    "rosuvastatin = Chem.MolFromSmiles('OC(=O)C[C@H](O)C[C@H](O)\\C=C\\c1c(C(C)C)nc(N(C)S(=O)(=O)C)nc1c2ccc(F)cc2')\n",
    "Draw.MolsToGridImage((atorvastatin,rosuvastatin))"
   ]
  },
  {
   "cell_type": "markdown",
   "metadata": {},
   "source": [
    "I start by using \"classic\" similarity map functionality to show why atorvastatin (Lipitor) and rosuvastatin (Crestor) are similar to each other when using the Morgan fingerprint.\n",
    "Here are the two molecules:"
   ]
  },
  {
   "cell_type": "markdown",
   "metadata": {},
   "source": [
    "To use the new drawing code, we create a Draw2D object and pass that to SimilarityMaps.GetSimilarityMapForFingerprint: "
   ]
  },
  {
   "cell_type": "markdown",
   "metadata": {},
   "source": [
    "We can do the same thing with count-based fingerprints:"
   ]
  },
  {
   "cell_type": "code",
   "execution_count": null,
   "metadata": {},
   "outputs": [],
   "source": [
    "d = Draw.MolDraw2DSVG(100, 100)\n",
    "_, maxWeight = SimilarityMaps.GetSimilarityMapForFingerprint(atorvastatin, rosuvastatin, \n",
    "                                        lambda m, i: SimilarityMaps.GetMorganFingerprint(m, i, radius=2, fpType='bv'), \n",
    "                                        draw2d=d)\n",
    "d.FinishDrawing()\n",
    "SVG(d.GetDrawingText())"
   ]
  },
  {
   "cell_type": "code",
   "execution_count": null,
   "metadata": {},
   "outputs": [],
   "source": [
    "d = Draw.MolDraw2DSVG(100, 100)\n",
    "_, maxWeight = SimilarityMaps.GetSimilarityMapForFingerprint(atorvastatin, rosuvastatin, \n",
    "                                        lambda m, i: SimilarityMaps.GetMorganFingerprint(m, i, radius=2, fpType='count'), \n",
    "                                        draw2d=d)\n",
    "d.FinishDrawing()\n",
    "SVG(d.GetDrawingText())"
   ]
  },
  {
   "cell_type": "markdown",
   "metadata": {},
   "source": [
    "The other GetSimilarityMapFrom... functions also accept the optional draw2d argument. Here's a visualization of the contributions made by the atoms in atorvastatin to its calculatied logp value: "
   ]
  },
  {
   "cell_type": "code",
   "execution_count": null,
   "metadata": {},
   "outputs": [],
   "source": [
    "from rdkit.Chem import rdMolDescriptors\n",
    "ator_contribs = rdMolDescriptors._CalcCrippenContribs(atorvastatin)\n",
    "d = Draw.MolDraw2DSVG(100, 100)\n",
    "SimilarityMaps.GetSimilarityMapFromWeights(atorvastatin,[x[0] for x in ator_contribs],draw2d=d)\n",
    "d.FinishDrawing()\n",
    "SVG(d.GetDrawingText())"
   ]
  },
  {
   "cell_type": "markdown",
   "metadata": {},
   "source": [
    "And a couple more visualizations of various partial charge schemes.\n",
    "Starting with Gasteiger-Marsilli charges:"
   ]
  },
  {
   "cell_type": "code",
   "execution_count": null,
   "metadata": {},
   "outputs": [],
   "source": [
    "from rdkit.Chem import rdPartialCharges\n",
    "rdPartialCharges.ComputeGasteigerCharges(atorvastatin)\n",
    "chgs = [x.GetDoubleProp(\"_GasteigerCharge\") for x in atorvastatin.GetAtoms()]\n",
    "d = Draw.MolDraw2DSVG(100, 100)\n",
    "SimilarityMaps.GetSimilarityMapFromWeights(atorvastatin,chgs,draw2d=d)\n",
    "d.FinishDrawing()\n",
    "SVG(d.GetDrawingText())"
   ]
  },
  {
   "cell_type": "markdown",
   "metadata": {},
   "source": [
    "And also the partial charges calculated with extended Hueckel theory (eHT) using Mulliken analysis:"
   ]
  },
  {
   "cell_type": "code",
   "execution_count": null,
   "metadata": {},
   "outputs": [],
   "source": [
    "from rdkit.Chem import rdEHTTools\n",
    "from rdkit.Chem import rdDistGeom\n",
    "mh = Chem.AddHs(atorvastatin)\n",
    "rdDistGeom.EmbedMolecule(mh)\n",
    "_,res = rdEHTTools.RunMol(mh)\n",
    "static_chgs = res.GetAtomicCharges()[:atorvastatin.GetNumAtoms()]\n",
    "d = Draw.MolDraw2DSVG(100, 100)\n",
    "SimilarityMaps.GetSimilarityMapFromWeights(atorvastatin,list(static_chgs),draw2d=d)\n",
    "d.FinishDrawing()\n",
    "SVG(d.GetDrawingText())"
   ]
  },
  {
   "cell_type": "markdown",
   "metadata": {},
   "source": [
    "As one final demo, I'll use the method to visualize the variability of the eHT charges with conformation for atorvastatin.\n",
    "Start by generating 10 diverse conformers, calculating the charges for each, and plotting the average:"
   ]
  },
  {
   "cell_type": "code",
   "execution_count": null,
   "metadata": {},
   "outputs": [],
   "source": [
    "mh = Chem.AddHs(atorvastatin)\n",
    "ps = rdDistGeom.ETKDGv2()\n",
    "ps.pruneRmsThresh = 0.5\n",
    "ps.randomSeed = 0xf00d\n",
    "rdDistGeom.EmbedMultipleConfs(mh,10,ps)\n",
    "print(f'Found {mh.GetNumConformers()} conformers')\n",
    "chgs = []\n",
    "for conf in mh.GetConformers():\n",
    "    _,res = rdEHTTools.RunMol(mh,confId=conf.GetId())\n",
    "    chgs.append(res.GetAtomicCharges()[:atorvastatin.GetNumAtoms()])\n",
    "chgs = np.array(chgs)\n",
    "mean_chgs = np.mean(chgs,axis=0)\n",
    "std_chgs = np.std(chgs,axis=0)\n",
    "d = Draw.MolDraw2DSVG(100, 100)\n",
    "SimilarityMaps.GetSimilarityMapFromWeights(atorvastatin,list(mean_chgs),draw2d=d)\n",
    "d.FinishDrawing()\n",
    "SVG(d.GetDrawingText())"
   ]
  },
  {
   "cell_type": "markdown",
   "metadata": {},
   "source": [
    "That doesn't look hugely different from what we saw above.\n",
    "To show the variability, plot the standard deviation of the charges across the 10 conformers:"
   ]
  },
  {
   "cell_type": "code",
   "execution_count": null,
   "metadata": {},
   "outputs": [],
   "source": [
    "print(std_chgs)\n",
    "print(max(std_chgs),min(std_chgs))\n",
    "d = Draw.MolDraw2DSVG(100, 100)\n",
    "SimilarityMaps.GetSimilarityMapFromWeights(atorvastatin,list(std_chgs),draw2d=d)\n",
    "d.FinishDrawing()\n",
    "SVG(d.GetDrawingText())"
   ]
  },
  {
   "cell_type": "markdown",
   "metadata": {},
   "source": [
    "The deviations aren't huge (the printed array shows that), but the largest value is clearly the amide N. "
   ]
  },
  {
   "cell_type": "markdown",
   "metadata": {},
   "source": [
    "There's definitely a ToDo here to improve the way the negative contours are drawn so that the fact that they are being drawn with dashed lines is visible."
   ]
  },
  {
   "cell_type": "code",
   "execution_count": null,
   "metadata": {},
   "outputs": [],
   "source": []
  }
 ],
 "metadata": {
  "kernelspec": {
   "display_name": "Python 3",
   "language": "python",
   "name": "python3"
  },
  "language_info": {
   "codemirror_mode": {
    "name": "ipython",
    "version": 3
   },
   "file_extension": ".py",
   "mimetype": "text/x-python",
   "name": "python",
   "nbconvert_exporter": "python",
   "pygments_lexer": "ipython3",
   "version": "3.7.7"
  }
 },
 "nbformat": 4,
 "nbformat_minor": 4
}

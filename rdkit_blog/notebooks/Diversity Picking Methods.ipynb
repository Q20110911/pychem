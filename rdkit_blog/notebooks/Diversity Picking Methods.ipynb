{
 "metadata": {
  "name": "",
  "signature": "sha256:c63c3b2706d38a3e1d5a0bb77680f3d4ca3580445b1b97230830a6cb9bd31359"
 },
 "nbformat": 3,
 "nbformat_minor": 0,
 "worksheets": [
  {
   "cells": [
    {
     "cell_type": "markdown",
     "metadata": {},
     "source": [
      "# Picking diverse compounds from large sets with the RDKit\n",
      "\n",
      "This post explores two different approaches for picking diverse small subsets of compounds from large sets: random selection and the MaxMin algorithm (Ashton, M. et. al., Quant. Struct.-Act. Relat., 21 (2002), 598-604)."
     ]
    },
    {
     "cell_type": "code",
     "collapsed": false,
     "input": [
      "import numpy as np\n",
      "from __future__ import print_function\n",
      "\n",
      "from rdkit import Chem\n",
      "from rdkit.Chem import Draw,rdMolDescriptors,AllChem\n",
      "from rdkit.Chem.Draw import IPythonConsole\n",
      "from rdkit import SimDivFilters,DataStructs\n",
      "\n",
      "import gzip\n",
      "%pylab inline\n",
      "\n",
      "from rdkit import rdBase\n",
      "print(rdBase.rdkitVersion)\n",
      "import time\n",
      "print(time.asctime())"
     ],
     "language": "python",
     "metadata": {},
     "outputs": [
      {
       "output_type": "stream",
       "stream": "stdout",
       "text": [
        "Populating the interactive namespace from numpy and matplotlib\n",
        "2014.09.1pre\n",
        "Mon Aug 11 07:46:10 2014\n"
       ]
      }
     ],
     "prompt_number": 1
    },
    {
     "cell_type": "markdown",
     "metadata": {},
     "source": [
      "Start by reading in a set of molecules from the Zinc Biogenic Compounds (formerly known as \"Zinc Natural Products\") subset and generating Morgan2 fingerprints for the diversity calculation. The compound structures are available here:\n",
      "http://zinc.docking.org/subsets/zbc\n"
     ]
    },
    {
     "cell_type": "code",
     "collapsed": false,
     "input": [
      "fps = []\n",
      "inf = gzip.open('../data/znp.sdf.gz')\n",
      "suppl = Chem.ForwardSDMolSupplier(inf)\n",
      "for m in suppl:\n",
      "    if m is None:\n",
      "        continue\n",
      "    fp=rdMolDescriptors.GetMorganFingerprintAsBitVect(m,2)\n",
      "    fps.append(fp)\n",
      "    if not len(fps)%5000: print(\"Done: %d\"%len(fps))\n",
      "\n",
      "print(\"Got %d fingerprints\"%len(fps))        \n",
      "        "
     ],
     "language": "python",
     "metadata": {},
     "outputs": [
      {
       "output_type": "stream",
       "stream": "stdout",
       "text": [
        "Done: 5000\n",
        "Done: 10000"
       ]
      },
      {
       "output_type": "stream",
       "stream": "stdout",
       "text": [
        "\n",
        "Done: 15000"
       ]
      },
      {
       "output_type": "stream",
       "stream": "stdout",
       "text": [
        "\n",
        "Done: 20000"
       ]
      },
      {
       "output_type": "stream",
       "stream": "stdout",
       "text": [
        "\n",
        "Done: 25000"
       ]
      },
      {
       "output_type": "stream",
       "stream": "stdout",
       "text": [
        "\n",
        "Done: 30000"
       ]
      },
      {
       "output_type": "stream",
       "stream": "stdout",
       "text": [
        "\n",
        "Done: 35000"
       ]
      },
      {
       "output_type": "stream",
       "stream": "stdout",
       "text": [
        "\n",
        "Done: 40000"
       ]
      },
      {
       "output_type": "stream",
       "stream": "stdout",
       "text": [
        "\n",
        "Done: 45000"
       ]
      },
      {
       "output_type": "stream",
       "stream": "stdout",
       "text": [
        "\n",
        "Done: 50000"
       ]
      },
      {
       "output_type": "stream",
       "stream": "stdout",
       "text": [
        "\n",
        "Done: 55000"
       ]
      },
      {
       "output_type": "stream",
       "stream": "stdout",
       "text": [
        "\n",
        "Done: 60000"
       ]
      },
      {
       "output_type": "stream",
       "stream": "stdout",
       "text": [
        "\n",
        "Done: 65000"
       ]
      },
      {
       "output_type": "stream",
       "stream": "stdout",
       "text": [
        "\n",
        "Done: 70000"
       ]
      },
      {
       "output_type": "stream",
       "stream": "stdout",
       "text": [
        "\n",
        "Done: 75000"
       ]
      },
      {
       "output_type": "stream",
       "stream": "stdout",
       "text": [
        "\n",
        "Done: 80000"
       ]
      },
      {
       "output_type": "stream",
       "stream": "stdout",
       "text": [
        "\n",
        "Done: 85000"
       ]
      },
      {
       "output_type": "stream",
       "stream": "stdout",
       "text": [
        "\n",
        "Done: 90000"
       ]
      },
      {
       "output_type": "stream",
       "stream": "stdout",
       "text": [
        "\n",
        "Done: 95000"
       ]
      },
      {
       "output_type": "stream",
       "stream": "stdout",
       "text": [
        "\n",
        "Done: 100000"
       ]
      },
      {
       "output_type": "stream",
       "stream": "stdout",
       "text": [
        "\n",
        "Done: 105000"
       ]
      },
      {
       "output_type": "stream",
       "stream": "stdout",
       "text": [
        "\n",
        "Done: 110000"
       ]
      },
      {
       "output_type": "stream",
       "stream": "stdout",
       "text": [
        "\n",
        "Done: 115000"
       ]
      },
      {
       "output_type": "stream",
       "stream": "stdout",
       "text": [
        "\n",
        "Done: 120000"
       ]
      },
      {
       "output_type": "stream",
       "stream": "stdout",
       "text": [
        "\n",
        "Done: 125000"
       ]
      },
      {
       "output_type": "stream",
       "stream": "stdout",
       "text": [
        "\n",
        "Done: 130000"
       ]
      },
      {
       "output_type": "stream",
       "stream": "stdout",
       "text": [
        "\n",
        "Done: 135000"
       ]
      },
      {
       "output_type": "stream",
       "stream": "stdout",
       "text": [
        "\n",
        "Done: 140000"
       ]
      },
      {
       "output_type": "stream",
       "stream": "stdout",
       "text": [
        "\n",
        "Got 144069 fingerprints"
       ]
      },
      {
       "output_type": "stream",
       "stream": "stdout",
       "text": [
        "\n"
       ]
      }
     ],
     "prompt_number": 2
    },
    {
     "cell_type": "markdown",
     "metadata": {},
     "source": [
      "Now do a standard diversity pick of 50 compounds using the RDKit's MaxMinPicker and the new lazy bit vector code:"
     ]
    },
    {
     "cell_type": "code",
     "collapsed": false,
     "input": [
      "import time\n",
      "mmp =SimDivFilters.MaxMinPicker()\n",
      "t1=time.time()\n",
      "bv_ids = mmp.LazyBitVectorPick(fps,len(fps),50)\n",
      "t2=time.time()\n",
      "print(\"That took %.2f seconds\"%(t2-t1))"
     ],
     "language": "python",
     "metadata": {},
     "outputs": [
      {
       "output_type": "stream",
       "stream": "stdout",
       "text": [
        "That took 43.99 seconds\n"
       ]
      }
     ],
     "prompt_number": 5
    },
    {
     "cell_type": "markdown",
     "metadata": {},
     "source": [
      "Assess the diversity by looking at a histogram of similarities between the picked compounds:"
     ]
    },
    {
     "cell_type": "code",
     "collapsed": false,
     "input": [
      "dist_hist=[]\n",
      "for i in range(len(bv_ids)):\n",
      "    for j in range(i+1,len(bv_ids)):\n",
      "        dist_hist.append(DataStructs.TanimotoSimilarity(fps[bv_ids[i]],fps[bv_ids[j]]))\n",
      "_=hist(dist_hist,bins=20)\n",
      "_=title(\"MaxMin Picks\")\n",
      "_=xlabel(\"Similarity\")"
     ],
     "language": "python",
     "metadata": {},
     "outputs": [
      {
       "metadata": {},
       "output_type": "display_data",
       "png": "[encoded data removed]",
       "text": [
        "<matplotlib.figure.Figure at 0x110b96bd0>"
       ]
      }
     ],
     "prompt_number": 10
    },
    {
     "cell_type": "markdown",
     "metadata": {},
     "source": [
      "That definitely yields compounds that have a low similarity to each other.\n",
      "\n",
      "An alternative, and much faster, method for picking small diverse subsets from a large set is to simply randomly pick. Let's see how that does here:"
     ]
    },
    {
     "cell_type": "code",
     "collapsed": false,
     "input": [
      "import random\n",
      "random.seed(0xF00D)\n",
      "rr = list(range(len(fps)))\n",
      "random.shuffle(rr)\n",
      "r_ids = rr[:50]\n",
      "dist_hist2=[]\n",
      "for i in range(len(r_ids)):\n",
      "    for j in range(i+1,len(r_ids)):\n",
      "        dist_hist2.append(DataStructs.TanimotoSimilarity(fps[r_ids[i]],fps[r_ids[j]]))\n",
      "_=hist(dist_hist2,bins=20)\n",
      "_=title(\"Random Picks\")\n",
      "_=xlabel(\"Similarity\")"
     ],
     "language": "python",
     "metadata": {},
     "outputs": [
      {
       "metadata": {},
       "output_type": "display_data",
       "png": "[encoded data removed]",
       "text": [
        "<matplotlib.figure.Figure at 0x110b8eb90>"
       ]
      }
     ],
     "prompt_number": 11
    },
    {
     "cell_type": "markdown",
     "metadata": {},
     "source": [
      "At first glance, it looks like the random picks are much less diverse than the picks with the MaxMin algorithm: the peak in the first histogram is significantly shifted to higher similarity.\n",
      "\n",
      "However: there is an important detail to keep in mind: the \"noise level\" of the fingerprint. In an earlier post (http://rdkit.blogspot.ch/2013/10/fingerprint-thresholds.html), I looked at similarities between random pairs of \"drug-like\" compounds from ChEMBL in order to identify thresholds for when a similarity value is at the noise level (defined by finding the value which 99% of random pairs have a lower similarity). For the fingerprint used here, Morgan2, this value is 0.321.\n",
      "\n",
      "Using that cutoff, we can easily figure out what fraction of the pairs in the set above are \"noise\":"
     ]
    },
    {
     "cell_type": "code",
     "collapsed": false,
     "input": [
      "noise=0.321\n",
      "count = sum([1 for x in dist_hist2 if x<noise])\n",
      "print(\"Count: %d, fraction: %.3f\"%(count,1.*count/len(dist_hist2)))\n",
      "\n"
     ],
     "language": "python",
     "metadata": {},
     "outputs": [
      {
       "output_type": "stream",
       "stream": "stdout",
       "text": [
        "Count: 1210, fraction: 0.988\n"
       ]
      }
     ],
     "prompt_number": 12
    },
    {
     "cell_type": "markdown",
     "metadata": {},
     "source": [
      "So almost 99% of the pairs are below the noise level.\n",
      "\n",
      "Verify that this wasn't just lucky by doing some stats:"
     ]
    },
    {
     "cell_type": "code",
     "collapsed": false,
     "input": [
      "noise=0.321\n",
      "counts=[]\n",
      "for rep in range(100):\n",
      "    random.seed(0xF00D+rep)\n",
      "    rr = list(range(len(fps)))\n",
      "    random.shuffle(rr)\n",
      "    r_ids = rr[:50]\n",
      "    count=0\n",
      "    nTot=0\n",
      "    for i in range(len(r_ids)):\n",
      "        for j in range(i+1,len(r_ids)):\n",
      "            d=DataStructs.TanimotoSimilarity(fps[r_ids[i]],fps[r_ids[j]])\n",
      "            nTot+=1\n",
      "            if d<noise:\n",
      "                count+=1\n",
      "    counts.append(count)\n",
      "counts = numpy.array(counts,numpy.double)\n",
      "counts /= nTot\n",
      "mean = numpy.mean(counts)\n",
      "dev = numpy.std(counts)\n",
      "print(\"Mean: %.3f, std dev: %.3f\"%(mean,dev))\n"
     ],
     "language": "python",
     "metadata": {},
     "outputs": [
      {
       "output_type": "stream",
       "stream": "stdout",
       "text": [
        "Mean: 0.991, std dev: 0.004\n"
       ]
      }
     ],
     "prompt_number": 15
    },
    {
     "cell_type": "markdown",
     "metadata": {},
     "source": [
      "**Fazit:** randomly picking small numbers of compounds from the large set gives subsets that are quite diverse. It's also a lot quicker than using the diversity picker: not only can we skip the diversity picking algorithm, but the molecules and fingerprints don't even need to be constructed.\n",
      "\n",
      "Clearly this is not going to work as well when picking from compounds that are reasonably closely related to each other, but for small subsets of large diverse sets, it's a solid approach."
     ]
    }
   ],
   "metadata": {}
  }
 ]
}
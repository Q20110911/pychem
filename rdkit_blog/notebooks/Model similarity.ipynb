{
 "cells": [
  {
   "cell_type": "code",
   "execution_count": 36,
   "metadata": {},
   "outputs": [
    {
     "name": "stdout",
     "output_type": "stream",
     "text": [
      "2017.03.3\n",
      "Sat Aug 12 07:54:26 2017\n"
     ]
    }
   ],
   "source": [
    "import numpy as np\n",
    "from rdkit import Chem\n",
    "from rdkit import DataStructs\n",
    "import pickle\n",
    "from rdkit.Chem.Draw import IPythonConsole\n",
    "from rdkit import rdBase\n",
    "print(rdBase.rdkitVersion)\n",
    "\n",
    "import time\n",
    "print(time.asctime())\n",
    "%pylab inline"
   ]
  },
  {
   "cell_type": "code",
   "execution_count": 2,
   "metadata": {},
   "outputs": [
    {
     "name": "stderr",
     "output_type": "stream",
     "text": [
      "/home/glandrum/anaconda3/envs/py36/lib/python3.6/site-packages/IPython/config.py:13: ShimWarning: The `IPython.config` package has been deprecated since IPython 4.0. You should import from traitlets.config instead.\n",
      "  \"You should import from traitlets.config instead.\", ShimWarning)\n",
      "/home/glandrum/anaconda3/envs/py36/lib/python3.6/site-packages/sql/magic.py:4: UserWarning: IPython.utils.traitlets has moved to a top-level traitlets package.\n",
      "  from IPython.utils.traitlets import Bool, Int, Unicode\n"
     ]
    }
   ],
   "source": [
    "%load_ext sql\n",
    "%config SqlMagic.feedback = False"
   ]
  },
  {
   "cell_type": "code",
   "execution_count": 3,
   "metadata": {},
   "outputs": [
    {
     "name": "stdout",
     "output_type": "stream",
     "text": [
      "37\n"
     ]
    }
   ],
   "source": [
    "import glob\n",
    "pkls = glob.glob('/home/glandrum/Code/benchmarking_platform/compounds/ChEMBL_II/*.pkl')\n",
    "print(len(pkls))"
   ]
  },
  {
   "cell_type": "code",
   "execution_count": 4,
   "metadata": {
    "collapsed": true
   },
   "outputs": [],
   "source": [
    "import os\n",
    "tgts={}\n",
    "for pkl in pkls:\n",
    "    fn = os.path.split(pkl)[-1]\n",
    "    basen = os.path.splitext(fn)[0]\n",
    "    tgtn=int(basen.split('_')[-1])\n",
    "    data = %sql postgresql://localhost/chembl_23 \\\n",
    "          select tid,pref_name,organism from target_dictionary where tid=:tgtn ;\n",
    "    tgts[data[0][0]]=(pkl,data[0][1],data[0][2])"
   ]
  },
  {
   "cell_type": "code",
   "execution_count": 13,
   "metadata": {},
   "outputs": [
    {
     "name": "stdout",
     "output_type": "stream",
     "text": [
      "15 33 Carbonic anhydrase II Homo sapiens\n",
      "25 6 Glucocorticoid receptor Homo sapiens\n",
      "43 14 Beta-2 adrenergic receptor Homo sapiens\n",
      "51 24 Serotonin 1a (5-HT1a) receptor Homo sapiens\n",
      "61 7 Muscarinic acetylcholine receptor M1 Homo sapiens\n",
      "65 6 Cytochrome P450 19A1 Homo sapiens\n",
      "72 21 Dopamine D2 receptor Homo sapiens\n",
      "87 32 Cannabinoid CB1 receptor Homo sapiens\n",
      "90 4 Dopamine D4 receptor Homo sapiens\n",
      "93 8 Acetylcholinesterase Homo sapiens\n",
      "100 22 Norepinephrine transporter Homo sapiens\n",
      "107 20 Serotonin 2a (5-HT2a) receptor Homo sapiens\n",
      "108 15 Serotonin 2c (5-HT2c) receptor Homo sapiens\n",
      "114 33 Adenosine A1 receptor Homo sapiens\n",
      "121 37 Serotonin transporter Homo sapiens\n",
      "126 8 Cyclooxygenase-2 Homo sapiens\n",
      "130 25 Dopamine D3 receptor Homo sapiens\n",
      "165 32 HERG Homo sapiens\n",
      "259 33 Cannabinoid CB2 receptor Homo sapiens\n",
      "10188 18 MAP kinase p38 alpha Homo sapiens\n",
      "10193 33 Carbonic anhydrase I Homo sapiens\n",
      "10260 4 Vanilloid receptor Homo sapiens\n",
      "10280 23 Histamine H3 receptor Homo sapiens\n",
      "10434 8 Tyrosine-protein kinase SRC Homo sapiens\n",
      "10980 24 Vascular endothelial growth factor receptor 2 Homo sapiens\n",
      "11140 23 Dipeptidyl peptidase IV Homo sapiens\n",
      "11365 5 Cytochrome P450 2D6 Homo sapiens\n",
      "11489 15 11-beta-hydroxysteroid dehydrogenase 1 Homo sapiens\n",
      "11534 11 Cathepsin S Homo sapiens\n",
      "11575 8 C-C chemokine receptor type 2 Homo sapiens\n",
      "11631 7 Sphingosine 1-phosphate receptor Edg-1 Homo sapiens\n",
      "12209 8 Carbonic anhydrase XII Homo sapiens\n",
      "12252 6 Beta-secretase 1 Homo sapiens\n",
      "12952 24 Carbonic anhydrase IX Homo sapiens\n",
      "13001 10 Matrix metalloproteinase-2 Homo sapiens\n",
      "17045 8 Cytochrome P450 3A4 Homo sapiens\n",
      "19905 33 Melanin-concentrating hormone receptor 1 Homo sapiens\n"
     ]
    }
   ],
   "source": [
    "for idx in sorted(tgts):\n",
    "    pkl,tgt,species = tgts[idx]\n",
    "    print(idx,len(pickle.load(open(pkl,'rb'))),tgt,species)"
   ]
  },
  {
   "cell_type": "code",
   "execution_count": 14,
   "metadata": {},
   "outputs": [],
   "source": [
    "sets = pickle.load(open(tgts[72][0],'rb'))\n",
    "cmpds = {}\n",
    "for docid,data in sets.items():\n",
    "    ids,smis= zip(*data)\n",
    "    cmpds[int(docid)] = (ids,[Chem.MolFromSmiles(x) for x in smis])"
   ]
  },
  {
   "cell_type": "code",
   "execution_count": 15,
   "metadata": {},
   "outputs": [
    {
     "name": "stdout",
     "output_type": "stream",
     "text": [
      "51800 29\n",
      "58470 16\n",
      "31339 21\n",
      "45210 25\n",
      "37020 39\n",
      "57508 27\n",
      "20155 19\n",
      "36047 32\n",
      "5330 10\n",
      "36568 54\n",
      "38128 15\n",
      "30988 24\n",
      "47889 17\n",
      "36636 23\n",
      "31527 31\n",
      "51064 14\n",
      "31631 51\n",
      "30616 20\n",
      "43952 16\n",
      "30653 15\n",
      "60894 20\n"
     ]
    }
   ],
   "source": [
    "for k in cmpds:\n",
    "    print(k,len(cmpds[k][0]))"
   ]
  },
  {
   "cell_type": "code",
   "execution_count": 24,
   "metadata": {},
   "outputs": [
    {
     "name": "stderr",
     "output_type": "stream",
     "text": [
      "RDKit ERROR: [07:37:57] SMILES Parse Error: syntax error for input: 'SMILES'\n"
     ]
    },
    {
     "data": {
      "text/plain": [
       "10000"
      ]
     },
     "execution_count": 24,
     "metadata": {},
     "output_type": "execute_result"
    }
   ],
   "source": [
    "import gzip\n",
    "decoys = [Chem.MolFromSmiles(x.split()[-1]) for x in \\\n",
    "          gzip.open('/home/glandrum/Code/benchmarking_platform/compounds/ChEMBL/cmp_list_ChEMBL_zinc_decoys.dat.gz').readlines()]\n",
    "decoys = [x for x in decoys if x is not None]\n",
    "len(decoys)"
   ]
  },
  {
   "cell_type": "code",
   "execution_count": 89,
   "metadata": {
    "collapsed": true
   },
   "outputs": [],
   "source": [
    "from sklearn.utils import check_array\n",
    "from sklearn.tree._tree import DTYPE, DOUBLE\n",
    "from sklearn.ensemble import RandomForestClassifier\n",
    "\n",
    "def get_predfp(self, X):\n",
    "    X = check_array(X, dtype=DTYPE, accept_sparse='csr')\n",
    "\n",
    "    n_classes_ = self.n_classes_\n",
    "    n_estimators = len(self.estimators_)\n",
    "    n_samples = X.shape[0]\n",
    "\n",
    "    predictions = []\n",
    "\n",
    "    for k in range(n_samples):\n",
    "        predictions.append(np.zeros((n_estimators,),np.int8))\n",
    "\n",
    "    for i,estimator in enumerate(self.estimators_):\n",
    "        p_estimator = estimator.predict(X,\n",
    "                                        check_input=False)\n",
    "        for j,p in enumerate(p_estimator):\n",
    "            predictions[j][i] = p\n",
    "    return predictions\n",
    "RandomForestClassifier.get_predfp = get_predfp\n",
    "def get_probafp(self, X, tgt_class=1):\n",
    "    \"\"\"Compute out-of-bag score\"\"\"\n",
    "    X = check_array(X, dtype=DTYPE, accept_sparse='csr')\n",
    "\n",
    "    n_classes_ = self.n_classes_\n",
    "    n_estimators = len(self.estimators_)\n",
    "    n_samples = X.shape[0]\n",
    "\n",
    "    predictions = []\n",
    "\n",
    "    for k in range(n_samples):\n",
    "        predictions.append(np.zeros((n_estimators,),np.float32))\n",
    "\n",
    "    for i,estimator in enumerate(self.estimators_):\n",
    "        p_estimator = estimator.predict_proba(X,\n",
    "                                        check_input=False)\n",
    "        for j,p in enumerate(p_estimator):\n",
    "            predictions[j][i] = p[tgt_class]\n",
    "    return predictions\n",
    "RandomForestClassifier.get_probafp = get_probafp\n",
    "\n",
    "# not currently doing anything with this, but it has the logic for how OOB is done\n",
    "def _set_oob_score(self, X, y):\n",
    "    \"\"\"Compute out-of-bag score\"\"\"\n",
    "    X = check_array(X, dtype=DTYPE, accept_sparse='csr')\n",
    "\n",
    "    n_classes_ = self.n_classes_\n",
    "    n_samples = y.shape[0]\n",
    "\n",
    "    oob_decision_function = []\n",
    "    oob_score = 0.0\n",
    "    predictions = []\n",
    "\n",
    "    for k in range(self.n_outputs_):\n",
    "        predictions.append(np.zeros((n_samples, n_classes_[k])))\n",
    "\n",
    "    for estimator in self.estimators_:\n",
    "        unsampled_indices = _generate_unsampled_indices(\n",
    "            estimator.random_state, n_samples)\n",
    "        p_estimator = estimator.predict_proba(X[unsampled_indices, :],\n",
    "                                              check_input=False)\n",
    "\n",
    "        if self.n_outputs_ == 1:\n",
    "            p_estimator = [p_estimator]\n",
    "\n",
    "        for k in range(self.n_outputs_):\n",
    "            predictions[k][unsampled_indices, :] += p_estimator[k]\n",
    "\n",
    "    for k in range(self.n_outputs_):\n",
    "        if (predictions[k].sum(axis=1) == 0).any():\n",
    "            warn(\"Some inputs do not have OOB scores. \"\n",
    "                 \"This probably means too few trees were used \"\n",
    "                 \"to compute any reliable oob estimates.\")\n",
    "\n",
    "        decision = (predictions[k] /\n",
    "                    predictions[k].sum(axis=1)[:, np.newaxis])\n",
    "        oob_decision_function.append(decision)\n",
    "        oob_score += np.mean(y[:, k] ==\n",
    "                             np.argmax(predictions[k], axis=1), axis=0)\n",
    "\n",
    "    if self.n_outputs_ == 1:\n",
    "        self.oob_decision_function_ = oob_decision_function[0]\n",
    "    else:\n",
    "        self.oob_decision_function_ = oob_decision_function\n",
    "\n",
    "    self.oob_score_ = oob_score / self.n_outputs_"
   ]
  },
  {
   "cell_type": "code",
   "execution_count": 39,
   "metadata": {},
   "outputs": [],
   "source": [
    "from rdkit.Chem import rdMolDescriptors\n",
    "def fpfunc(x):\n",
    "    fp = rdMolDescriptors.GetMorganFingerprintAsBitVect(x,2,2048)\n",
    "    res = np.zeros(len(fp),np.int8)\n",
    "    DataStructs.ConvertToNumpyArray(fp,res)\n",
    "    return res\n",
    "fps = {}\n",
    "for docid in cmpds:\n",
    "    ids,ms = cmpds[docid]\n",
    "    fps[docid] = (ids,[fpfunc(x) for x in ms])\n",
    "decoy_fps = [fpfunc(x) for x in decoys]"
   ]
  },
  {
   "cell_type": "code",
   "execution_count": 158,
   "metadata": {},
   "outputs": [],
   "source": [
    "import random\n",
    "from collections import namedtuple\n",
    "from sklearn.ensemble import RandomForestClassifier\n",
    "\n",
    "model_res = namedtuple('ModelResult',('model','train_docs','test_docs','confusion','auc','enrichment'))\n",
    "def build_model(cmpds,fps,decoy_fps,random_state=0xf00d):\n",
    "    mdl = RandomForestClassifier(n_estimators = 500,max_depth=25,n_jobs=-1, \n",
    "                                 random_state = random_state, oob_score=True)\n",
    "    to_use = list(cmpds.keys())\n",
    "    random.seed(random_state)\n",
    "    random.shuffle(to_use)\n",
    "    train = to_use[:-5]\n",
    "    test = to_use[-5:]\n",
    "    train_fps = []\n",
    "    for docid in train:\n",
    "        train_fps.extend(fps[docid][-1])\n",
    "    train_acts = [1 for x in train_fps]\n",
    "\n",
    "    decoy_order = list(range(len(decoy_fps)))\n",
    "    random.shuffle(decoy_order)\n",
    "    nDecoy = int(0.8  * len(decoy_order))\n",
    "    train_fps.extend(decoy_fps[x] for x in decoy_order[:nDecoy])\n",
    "    train_acts.extend(0 for x in range(nDecoy))\n",
    "\n",
    "    train_order = list(range(len(train_fps)))\n",
    "    random.shuffle(train_order)\n",
    "    train_fps = [train_fps[x] for x in train_order]\n",
    "    train_acts = [train_acts[x] for x in train_order]\n",
    "\n",
    "    mdl.fit(np.array(train_fps),train_acts)\n",
    "    \n",
    "    \n",
    "    test_fps = []\n",
    "    for docid in test:\n",
    "        test_fps.extend(fps[docid][-1])\n",
    "    test_acts = [1 for x in test_fps]\n",
    "    test_fps.extend(decoy_fps[x] for x in decoy_order[nDecoy:])\n",
    "    test_acts.extend(0 for x in decoy_order[nDecoy:])\n",
    "\n",
    "    nGood=0\n",
    "    nBad=0\n",
    "    confusion = np.zeros((2,2),np.integer)\n",
    "    preds = mdl.predict(test_fps)\n",
    "    for pred,act in zip(preds,test_acts):\n",
    "        confusion[act,pred] += 1\n",
    "    print(confusion)\n",
    "    probs = [x[1] for x in mdl.predict_proba(test_fps)]\n",
    "\n",
    "    from rdkit.ML.Scoring import Scoring\n",
    "    sm = [[x,y] for x,y in zip(probs,test_acts)]\n",
    "    auc = Scoring.CalcAUC(sm,1)\n",
    "    print('auc:', auc)\n",
    "    enrich=Scoring.CalcEnrichment(sm,1,(0.01,0.050,0.1))\n",
    "    print('enrich: ',enrich)\n",
    "    #'model','train_docs','test_docs','confusion','auc','enrichment'\n",
    "    res = model_res(mdl,train,test,confusion,auc,enrich)\n",
    "    return res"
   ]
  },
  {
   "cell_type": "code",
   "execution_count": 159,
   "metadata": {},
   "outputs": [
    {
     "name": "stdout",
     "output_type": "stream",
     "text": [
      "[[2000    0]\n",
      " [  93   55]]\n",
      "auc: 1.0\n",
      "enrich:  [14.513513513513514, 14.513513513513514, 9.990697674418604]\n",
      "[[2000    0]\n",
      " [ 111   29]]\n",
      "auc: 1.0\n",
      "enrich:  [15.285714285714286, 15.285714285714286, 10.0]\n",
      "[[2000    0]\n",
      " [  69   52]]\n",
      "auc: 1.0\n",
      "enrich:  [17.52892561983471, 17.52892561983471, 9.95774647887324]\n",
      "[[2000    0]\n",
      " [  74   43]]\n",
      "auc: 1.0\n",
      "enrich:  [18.094017094017094, 18.094017094017094, 9.985849056603772]\n",
      "[[2000    0]\n",
      " [  72   57]]\n",
      "auc: 1.0\n",
      "enrich:  [16.503875968992247, 16.503875968992247, 9.995305164319248]\n",
      "[[2000    0]\n",
      " [ 120   35]]\n",
      "auc: 1.0\n",
      "enrich:  [13.903225806451612, 13.903225806451612, 9.976851851851851]\n",
      "[[2000    0]\n",
      " [ 108   47]]\n",
      "auc: 1.0\n",
      "enrich:  [13.903225806451612, 13.903225806451612, 9.976851851851851]\n",
      "[[2000    0]\n",
      " [ 138   17]]\n",
      "auc: 1.0\n",
      "enrich:  [13.903225806451612, 13.903225806451612, 9.976851851851851]\n",
      "[[2000    0]\n",
      " [ 104   17]]\n",
      "auc: 1.0\n",
      "enrich:  [17.52892561983471, 17.52892561983471, 9.95774647887324]\n",
      "[[2000    0]\n",
      " [  76   40]]\n",
      "auc: 1.0\n",
      "enrich:  [18.24137931034483, 18.24137931034483, 9.981132075471697]\n"
     ]
    }
   ],
   "source": [
    "seeds = (random.randint(0,1000000) for x in range(10))\n",
    "results = [build_model(cmpds,fps,decoy_fps,x) for x in seeds]"
   ]
  },
  {
   "cell_type": "code",
   "execution_count": 124,
   "metadata": {},
   "outputs": [],
   "source": [
    "from scipy import stats\n",
    "def sim_score(v1,v2):\n",
    "    \" this is the similarity score used for HTS FPs in http://pubs.acs.org/doi/abs/10.1021/cb3001028 \"\n",
    "    v1t = [1 if x>-1e-4 else 0 for x in v1]\n",
    "    v2t = [1 if x>-1e-4 else 0 for x in v2]\n",
    "    nv1 = sum(v1t)\n",
    "    common = [x for x,(y1,y2) in enumerate(zip(v1t,v2t)) if (y1 and y2)]\n",
    "    coverage = len(common) / nv1\n",
    "    v1common = [v1[x] for x in common]\n",
    "    v2common = [v2[x] for x in common] \n",
    "    pearson = stats.pearsonr(v1common,v2common)[0]\n",
    "    return (coverage/2+0.5)*pearson"
   ]
  },
  {
   "cell_type": "code",
   "execution_count": 132,
   "metadata": {},
   "outputs": [
    {
     "data": {
      "text/plain": [
       "ModelResult(model=RandomForestClassifier(bootstrap=True, class_weight=None, criterion='gini',\n",
       "            max_depth=25, max_features='auto', max_leaf_nodes=None,\n",
       "            min_impurity_split=1e-07, min_samples_leaf=1,\n",
       "            min_samples_split=2, min_weight_fraction_leaf=0.0,\n",
       "            n_estimators=500, n_jobs=-1, oob_score=True,\n",
       "            random_state=633822, verbose=0, warm_start=False), train_docs=[60894, 31527, 30616, 51800, 36047, 20155, 58470, 36636, 57508, 31339, 30653, 37020, 36568, 5330, 47889, 30988], test_docs=[31631, 45210, 38128, 43952, 51064], confusion=array([[2000,    0],\n",
       "       [  95,   26]]), auc=1.0, enrichment=[17.52892561983471, 17.52892561983471, 9.95774647887324])"
      ]
     },
     "execution_count": 132,
     "metadata": {},
     "output_type": "execute_result"
    }
   ],
   "source": [
    "r = results[0]\n",
    "r"
   ]
  },
  {
   "cell_type": "code",
   "execution_count": 150,
   "metadata": {},
   "outputs": [],
   "source": [
    "def getpredfps(mdl,fps,docs):\n",
    "    tfps = {}\n",
    "    for docid in docs:\n",
    "        doc_fps = fps[docid][1]\n",
    "        doc_fps = mdl.get_probafp(doc_fps)\n",
    "        tfps[docid]=doc_fps\n",
    "    sims = {}\n",
    "    for docid in tfps:\n",
    "        tsims = []\n",
    "        docfps = tfps[docid]\n",
    "        for i in range(len(docfps)):\n",
    "            for j in range(i+1,len(docfps)):\n",
    "                tsims.append(sim_score(docfps[i],docfps[j]))\n",
    "        sims[docid] = tsims\n",
    "    return sims\n",
    "#for docid in r.test_docs:\n",
    "#    tfps = "
   ]
  },
  {
   "cell_type": "code",
   "execution_count": 152,
   "metadata": {},
   "outputs": [
    {
     "name": "stderr",
     "output_type": "stream",
     "text": [
      "/home/glandrum/anaconda3/envs/py36/lib/python3.6/site-packages/scipy/stats/stats.py:3021: RuntimeWarning: invalid value encountered in float_scalars\n",
      "  r = r_num / r_den\n"
     ]
    },
    {
     "data": {
      "image/png": "[encoded data removed]",
      "text/plain": [
       "<matplotlib.figure.Figure at 0x7f9b7559a550>"
      ]
     },
     "metadata": {},
     "output_type": "display_data"
    }
   ],
   "source": [
    "trainsims = getpredfps(r.model,fps,r.train_docs)\n",
    "data = trainsims.values()\n",
    "hist(data,normed=True,);\n",
    "legend(trainsims.keys());"
   ]
  },
  {
   "cell_type": "code",
   "execution_count": 155,
   "metadata": {
    "collapsed": true
   },
   "outputs": [],
   "source": [
    "testsims = getpredfps(r.model,fps,r.test_docs)"
   ]
  },
  {
   "cell_type": "code",
   "execution_count": 157,
   "metadata": {},
   "outputs": [
    {
     "data": {
      "image/png": "[encoded data removed]",
      "text/plain": [
       "<matplotlib.figure.Figure at 0x7f9b7578d908>"
      ]
     },
     "metadata": {},
     "output_type": "display_data"
    }
   ],
   "source": [
    "data = testsims.values()\n",
    "hist(data,normed=True,);\n",
    "legend(testsims.keys());"
   ]
  },
  {
   "cell_type": "code",
   "execution_count": null,
   "metadata": {
    "collapsed": true
   },
   "outputs": [],
   "source": []
  }
 ],
 "metadata": {
  "kernelspec": {
   "display_name": "Python 3",
   "language": "python",
   "name": "python3"
  },
  "language_info": {
   "codemirror_mode": {
    "name": "ipython",
    "version": 3
   },
   "file_extension": ".py",
   "mimetype": "text/x-python",
   "name": "python",
   "nbconvert_exporter": "python",
   "pygments_lexer": "ipython3",
   "version": "3.6.1"
  }
 },
 "nbformat": 4,
 "nbformat_minor": 2
}

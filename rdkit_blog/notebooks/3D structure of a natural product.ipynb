{
 "cells": [
  {
   "cell_type": "markdown",
   "metadata": {},
   "source": [
    "A [recent post on](http://blogs.sciencemag.org/pipeline/archives/2016/07/27/maoecrystal-v-you-poor-people) In the Pipeline talked about a recent JACS communication on the total synthesis of the natural product maoecrystal V. The article is open access:\n",
    "http://pubs.acs.org/doi/abs/10.1021/jacs.6b06623\n",
    "\n",
    "Here's the ToC figure, which shows a sketch of the final product on the left:\n",
    "![ToC Figure](http://pubs.acs.org/appl/literatum/publisher/achs/journals/content/jacsat/0/jacsat.ahead-of-print/jacs.6b06623/20160725/images/medium/ja-2016-066232_0004.gif)\n",
    "\n",
    "Since I've been looking at how well the RDKit does at conformation generation for highly constrained systems, I thought this would be a nice example molecule to try out. I was also quite curious about the shape of that beast.\n",
    "\n",
    "The first problem was getting the structure in. I wasn't completely confident in my ability to reproduce that sketch and JACS, of course, doesn't have a way to provide structures in electronic form. Fortunately the authors had solved x-ray structures of their final product and a bunch of intermediates and the CIF files were in the supplementary material. So I converted the CIF to a mol file with OpenBabel (hopefully using the correct CIF file... they aren't particularly well labelled as far as I can tell) and got started from there.\n"
   ]
  },
  {
   "cell_type": "code",
   "execution_count": 1,
   "metadata": {
    "collapsed": false
   },
   "outputs": [
    {
     "name": "stdout",
     "output_type": "stream",
     "text": [
      "2016.09.1.dev1\n",
      "Wed Jul 27 18:48:35 2016\n"
     ]
    }
   ],
   "source": [
    "from rdkit import Chem\n",
    "from rdkit.Chem import AllChem\n",
    "from rdkit.Chem import Draw\n",
    "from rdkit.Chem.Draw import IPythonConsole\n",
    "from rdkit import rdBase\n",
    "print(rdBase.rdkitVersion)\n",
    "import os,time\n",
    "print( time.asctime())"
   ]
  },
  {
   "cell_type": "markdown",
   "metadata": {},
   "source": [
    "We'll use py3Dmol to show structures in the notebook"
   ]
  },
  {
   "cell_type": "code",
   "execution_count": 5,
   "metadata": {
    "collapsed": false
   },
   "outputs": [],
   "source": [
    "import py3Dmol\n",
    "def drawit(m,p=None,confId=-1):\n",
    "        mb = Chem.MolToMolBlock(m,confId=confId)\n",
    "        if p is None:\n",
    "            p = py3Dmol.view(width=400,height=400)\n",
    "        p.removeAllModels()\n",
    "        p.addModel(mb,'sdf')\n",
    "        p.setStyle({'stick':{}})\n",
    "        p.setBackgroundColor('0xeeeeee')\n",
    "        p.zoomTo()\n",
    "        return p.show()"
   ]
  },
  {
   "cell_type": "markdown",
   "metadata": {},
   "source": [
    "Start by reading in the mol file and displaying that:"
   ]
  },
  {
   "cell_type": "code",
   "execution_count": 8,
   "metadata": {
    "collapsed": false
   },
   "outputs": [
    {
     "data": {
      "text/html": [
       "<div id=\"3dmolviewer_14696384761568232\"  style=\"position: relative; width: 400px; height: 400px\">\n",
       "<script>\n",
       "if(typeof $3Dmolpromise === 'undefined') $3Dmolpromise = $.when($.getScript('http://3dmol.csb.pitt.edu/build/3Dmol.js'))\n",
       "$3Dmolpromise.done(function() {\n",
       "var viewer = $3Dmol.createViewer($(\"#3dmolviewer_14696384761568232\"),{backgroundColor:\"white\"});\n",
       "\tviewer.removeAllModels();\n",
       "\tviewer.addModel(\"?\\n     RDKit          3D\\n\\n 46 50  0  0  1  0  0  0  0  0999 V2000\\n    2.3140   11.5885    3.7586 O   0  0  0  0  0  0  0  0  0  0  0  0\\n    3.3676   11.6106    1.1323 O   0  0  0  0  0  0  0  0  0  0  0  0\\n    1.7299   10.1636    0.8819 O   0  0  0  0  0  0  0  0  0  0  0  0\\n    7.0018   11.3895    3.5441 O   0  0  0  0  0  0  0  0  0  0  0  0\\n    5.1009    9.9967    5.6539 O   0  0  0  0  0  0  0  0  0  0  0  0\\n    2.6890   10.3405    3.1133 C   0  0  2  0  0  0  0  0  0  0  0  0\\n    1.8661    9.1475    3.5533 C   0  0  0  0  0  0  0  0  0  0  0  0\\n    1.1742    8.9442    2.8747 H   0  0  0  0  0  0  0  0  0  0  0  0\\n    1.4135    9.3454    4.4104 H   0  0  0  0  0  0  0  0  0  0  0  0\\n    2.8094    7.9359    3.7246 C   0  0  2  0  0  0  0  0  0  0  0  0\\n    2.2760    7.0965    3.8259 H   0  0  0  0  0  0  0  0  0  0  0  0\\n    3.6346    8.1959    4.9962 C   0  0  2  0  0  0  0  0  0  0  0  0\\n    2.9923    8.3186    5.7506 H   0  0  0  0  0  0  0  0  0  0  0  0\\n    4.3722    9.5051    4.8099 C   0  0  0  0  0  0  0  0  0  0  0  0\\n    4.1856   10.1241    3.4238 C   0  0  2  0  0  0  0  0  0  0  0  0\\n    4.6298   11.5851    3.3114 C   0  0  1  0  0  0  0  0  0  0  0  0\\n    3.5455   12.2305    4.1803 C   0  0  1  0  0  0  0  0  0  0  0  0\\n    3.7154   11.9098    5.1119 H   0  0  0  0  0  0  0  0  0  0  0  0\\n    3.5196   13.7482    4.2620 C   0  0  0  0  0  0  0  0  0  0  0  0\\n    4.9430   14.1415    4.5712 C   0  0  0  0  0  0  0  0  0  0  0  0\\n    5.0855   15.0218    4.9014 H   0  0  0  0  0  0  0  0  0  0  0  0\\n    6.0280   13.3602    4.4228 C   0  0  0  0  0  0  0  0  0  0  0  0\\n    6.8609   13.6836    4.7445 H   0  0  0  0  0  0  0  0  0  0  0  0\\n    5.9991   12.0299    3.7900 C   0  0  0  0  0  0  0  0  0  0  0  0\\n    2.5549   10.6652    1.6214 C   0  0  0  0  0  0  0  0  0  0  0  0\\n    3.7383    7.8263    2.5118 C   0  0  0  0  0  0  0  0  0  0  0  0\\n    3.1988    7.8131    1.6815 H   0  0  0  0  0  0  0  0  0  0  0  0\\n    4.2496    6.9804    2.5609 H   0  0  0  0  0  0  0  0  0  0  0  0\\n    4.7235    9.0260    2.4706 C   0  0  0  0  0  0  0  0  0  0  0  0\\n    5.6242    8.7357    2.7603 H   0  0  0  0  0  0  0  0  0  0  0  0\\n    4.7906    9.3797    1.5482 H   0  0  0  0  0  0  0  0  0  0  0  0\\n    4.6008    7.0767    5.3956 C   0  0  0  0  0  0  0  0  0  0  0  0\\n    4.0995    6.2452    5.5284 H   0  0  0  0  0  0  0  0  0  0  0  0\\n    5.0557    7.3209    6.2286 H   0  0  0  0  0  0  0  0  0  0  0  0\\n    5.2645    6.9487    4.6856 H   0  0  0  0  0  0  0  0  0  0  0  0\\n    4.6024   11.9573    1.8195 C   0  0  0  0  0  0  0  0  0  0  0  0\\n    4.7456   12.9339    1.7345 H   0  0  0  0  0  0  0  0  0  0  0  0\\n    5.3537   11.5033    1.3657 H   0  0  0  0  0  0  0  0  0  0  0  0\\n    3.0083   14.4886    3.0093 C   0  0  0  0  0  0  0  0  0  0  0  0\\n    3.6621   14.3936    2.2850 H   0  0  0  0  0  0  0  0  0  0  0  0\\n    2.8879   15.4389    3.2179 H   0  0  0  0  0  0  0  0  0  0  0  0\\n    2.1526   14.1046    2.7289 H   0  0  0  0  0  0  0  0  0  0  0  0\\n    2.6372   14.1653    5.4499 C   0  0  0  0  0  0  0  0  0  0  0  0\\n    1.7045   13.9356    5.2603 H   0  0  0  0  0  0  0  0  0  0  0  0\\n    2.7149   15.1314    5.5911 H   0  0  0  0  0  0  0  0  0  0  0  0\\n    2.9313   13.6928    6.2567 H   0  0  0  0  0  0  0  0  0  0  0  0\\n  1 17  1  0\\n  2 25  1  0\\n  2 36  1  0\\n  3 25  2  0\\n  4 24  2  0\\n  6 25  1  0\\n  6 15  1  0\\n  6  7  1  0\\n  6  1  1  1\\n  7 10  1  0\\n  7  9  1  0\\n  8  7  1  0\\n 10 11  1  1\\n 10 12  1  0\\n 12 32  1  0\\n 12 13  1  1\\n 14 12  1  0\\n 14  5  2  0\\n 15 29  1  0\\n 15 14  1  1\\n 16 36  1  0\\n 16 15  1  0\\n 16 24  1  1\\n 16 17  1  0\\n 17 19  1  0\\n 17 18  1  1\\n 19 20  1  0\\n 19 43  1  0\\n 20 21  1  0\\n 22 20  2  0\\n 22 23  1  0\\n 24 22  1  0\\n 26 28  1  0\\n 26 10  1  0\\n 27 26  1  0\\n 29 26  1  0\\n 29 30  1  0\\n 31 29  1  0\\n 32 33  1  0\\n 32 34  1  0\\n 35 32  1  0\\n 37 36  1  0\\n 38 36  1  0\\n 39 41  1  0\\n 39 19  1  0\\n 40 39  1  0\\n 42 39  1  0\\n 43 45  1  0\\n 43 46  1  0\\n 44 43  1  0\\nM  END\\n\",\"sdf\");\n",
       "\tviewer.setStyle({\"stick\": {}});\n",
       "\tviewer.setBackgroundColor(\"0xeeeeee\");\n",
       "\tviewer.zoomTo();\n",
       "viewer.render();\n",
       "});\n",
       "</script>"
      ],
      "text/plain": [
       "<IPython.core.display.HTML object>"
      ]
     },
     "execution_count": 8,
     "metadata": {},
     "output_type": "execute_result"
    }
   ],
   "source": [
    "mExpt = Chem.MolFromMolFile(\"/home/glandrum/Downloads/paper/ja6b06623_si_010.cif.mol\",removeHs=False)\n",
    "drawit(mExpt)"
   ]
  },
  {
   "cell_type": "markdown",
   "metadata": {},
   "source": [
    "Now generate a conformer for the molecule:"
   ]
  },
  {
   "cell_type": "code",
   "execution_count": 14,
   "metadata": {
    "collapsed": false
   },
   "outputs": [
    {
     "data": {
      "text/html": [
       "<div id=\"3dmolviewer_14696783580500274\"  style=\"position: relative; width: 400px; height: 400px\">\n",
       "<script>\n",
       "if(typeof $3Dmolpromise === 'undefined') $3Dmolpromise = $.when($.getScript('http://3dmol.csb.pitt.edu/build/3Dmol.js'))\n",
       "$3Dmolpromise.done(function() {\n",
       "var viewer = $3Dmol.createViewer($(\"#3dmolviewer_14696783580500274\"),{backgroundColor:\"white\"});\n",
       "\tviewer.removeAllModels();\n",
       "\tviewer.addModel(\"?\\n     RDKit          3D\\n\\n 46 50  0  0  1  0  0  0  0  0999 V2000\\n    0.8216    1.0460   -0.7954 O   0  0  0  0  0  0  0  0  0  0  0  0\\n    1.1357   -1.4513   -2.0103 O   0  0  0  0  0  0  0  0  0  0  0  0\\n   -0.1985   -0.3630   -3.5174 O   0  0  0  0  0  0  0  0  0  0  0  0\\n   -0.0232   -2.2635    2.1713 O   0  0  0  0  0  0  0  0  0  0  0  0\\n   -1.4311    0.1669    2.0623 O   0  0  0  0  0  0  0  0  0  0  0  0\\n   -0.2944    0.3554   -1.2657 C   0  0  2  0  0  0  0  0  0  0  0  0\\n   -1.4063    1.1733   -1.7708 C   0  0  0  0  0  0  0  0  0  0  0  0\\n   -1.3941    2.2322   -1.5029 H   0  0  0  0  0  0  0  0  0  0  0  0\\n   -1.5350    1.0908   -2.8882 H   0  0  0  0  0  0  0  0  0  0  0  0\\n   -2.6979    0.5746   -1.1929 C   0  0  2  0  0  0  0  0  0  0  0  0\\n   -3.5745    0.9894   -1.6854 H   0  0  0  0  0  0  0  0  0  0  0  0\\n   -2.6429    1.0115    0.2760 C   0  0  2  0  0  0  0  0  0  0  0  0\\n   -2.2970    2.0485    0.3225 H   0  0  0  0  0  0  0  0  0  0  0  0\\n   -1.5364    0.1666    0.8712 C   0  0  0  0  0  0  0  0  0  0  0  0\\n   -0.7104   -0.5662   -0.0931 C   0  0  2  0  0  0  0  0  0  0  0  0\\n    0.6503   -0.9530    0.3405 C   0  0  1  0  0  0  0  0  0  0  0  0\\n    1.2408    0.4425    0.3645 C   0  0  1  0  0  0  0  0  0  0  0  0\\n    0.6250    0.9696    1.1715 H   0  0  0  0  0  0  0  0  0  0  0  0\\n    2.6341    0.5783    0.7666 C   0  0  1  0  0  0  0  0  0  0  0  0\\n    2.8765   -0.2734    1.9826 C   0  0  0  0  0  0  0  0  0  0  0  0\\n    3.8065   -0.0440    2.5235 H   0  0  0  0  0  0  0  0  0  0  0  0\\n    2.0522   -1.2214    2.3817 C   0  0  0  0  0  0  0  0  0  0  0  0\\n    2.3353   -1.7793    3.2880 H   0  0  0  0  0  0  0  0  0  0  0  0\\n    0.8264   -1.5310    1.6618 C   0  0  0  0  0  0  0  0  0  0  0  0\\n    0.2097   -0.5068   -2.3589 C   0  0  0  0  0  0  0  0  0  0  0  0\\n   -2.7439   -0.9176   -1.3431 C   0  0  0  0  0  0  0  0  0  0  0  0\\n   -2.8112   -1.1345   -2.4191 H   0  0  0  0  0  0  0  0  0  0  0  0\\n   -3.6718   -1.2676   -0.8781 H   0  0  0  0  0  0  0  0  0  0  0  0\\n   -1.5538   -1.6282   -0.7035 C   0  0  0  0  0  0  0  0  0  0  0  0\\n   -1.1008   -2.2613   -1.4560 H   0  0  0  0  0  0  0  0  0  0  0  0\\n   -1.9335   -2.3106    0.1071 H   0  0  0  0  0  0  0  0  0  0  0  0\\n   -3.9358    0.8304    0.9788 C   0  0  0  0  0  0  0  0  0  0  0  0\\n   -3.9606    1.5581    1.8400 H   0  0  0  0  0  0  0  0  0  0  0  0\\n   -4.1213   -0.1847    1.3589 H   0  0  0  0  0  0  0  0  0  0  0  0\\n   -4.7523    1.1636    0.2917 H   0  0  0  0  0  0  0  0  0  0  0  0\\n    1.2728   -1.8705   -0.6770 C   0  0  0  0  0  0  0  0  0  0  0  0\\n    0.6653   -2.8229   -0.6036 H   0  0  0  0  0  0  0  0  0  0  0  0\\n    2.2970   -2.1673   -0.4964 H   0  0  0  0  0  0  0  0  0  0  0  0\\n    3.6939    0.4752   -0.2643 C   0  0  0  0  0  0  0  0  0  0  0  0\\n    3.5748   -0.2530   -1.0552 H   0  0  0  0  0  0  0  0  0  0  0  0\\n    4.6867    0.3584    0.2211 H   0  0  0  0  0  0  0  0  0  0  0  0\\n    3.7639    1.4754   -0.7904 H   0  0  0  0  0  0  0  0  0  0  0  0\\n    2.7915    2.0125    1.3372 C   0  0  0  0  0  0  0  0  0  0  0  0\\n    2.3813    2.0527    2.3673 H   0  0  0  0  0  0  0  0  0  0  0  0\\n    2.1441    2.6846    0.7264 H   0  0  0  0  0  0  0  0  0  0  0  0\\n    3.8414    2.3150    1.3537 H   0  0  0  0  0  0  0  0  0  0  0  0\\n  1 17  1  0\\n  2 25  1  0\\n  2 36  1  0\\n  3 25  2  0\\n  4 24  2  0\\n  6 25  1  0\\n  6 15  1  0\\n  6  7  1  0\\n  6  1  1  1\\n  7 10  1  0\\n  7  9  1  0\\n  8  7  1  0\\n 10 11  1  6\\n 10 12  1  0\\n 12 32  1  0\\n 12 13  1  6\\n 14 12  1  0\\n 14  5  2  0\\n 15 29  1  0\\n 15 14  1  1\\n 16 36  1  0\\n 16 15  1  0\\n 16 24  1  1\\n 16 17  1  0\\n 17 19  1  0\\n 17 18  1  1\\n 19 20  1  0\\n 19 43  1  1\\n 20 21  1  0\\n 22 20  2  0\\n 22 23  1  0\\n 24 22  1  0\\n 26 28  1  0\\n 26 10  1  0\\n 27 26  1  0\\n 29 26  1  0\\n 29 30  1  0\\n 31 29  1  0\\n 32 33  1  0\\n 32 34  1  0\\n 35 32  1  0\\n 37 36  1  0\\n 38 36  1  0\\n 39 41  1  0\\n 39 19  1  0\\n 40 39  1  0\\n 42 39  1  0\\n 43 45  1  0\\n 43 46  1  0\\n 44 43  1  0\\nM  END\\n\",\"sdf\");\n",
       "\tviewer.setStyle({\"stick\": {}});\n",
       "\tviewer.setBackgroundColor(\"0xeeeeee\");\n",
       "\tviewer.zoomTo();\n",
       "viewer.render();\n",
       "});\n",
       "</script>"
      ],
      "text/plain": [
       "<IPython.core.display.HTML object>"
      ]
     },
     "execution_count": 14,
     "metadata": {},
     "output_type": "execute_result"
    }
   ],
   "source": [
    "m = Chem.MolFromMolFile(\"/home/glandrum/Downloads/paper/ja6b06623_si_010.cif.mol\",removeHs=False)\n",
    "Chem.AssignAtomChiralTagsFromStructure(m)\n",
    "AllChem.EmbedMolecule(m,useExpTorsionAnglePrefs=True,useBasicKnowledge=True)\n",
    "drawit(m)"
   ]
  },
  {
   "cell_type": "markdown",
   "metadata": {},
   "source": [
    "At least by eye that looks very close, let's check the RMS:"
   ]
  },
  {
   "cell_type": "code",
   "execution_count": 20,
   "metadata": {
    "collapsed": false
   },
   "outputs": [
    {
     "name": "stdout",
     "output_type": "stream",
     "text": [
      "RMS:  0.6165388593927497 Heavy Atom RMS: 0.18186257676731582\n"
     ]
    }
   ],
   "source": [
    "print(\"RMS: \",AllChem.GetBestRMS(m,mExpt),\n",
    "      \"Heavy Atom RMS:\",\n",
    "      AllChem.GetBestRMS(Chem.RemoveHs(m),Chem.RemoveHs(mExpt)))"
   ]
  },
  {
   "cell_type": "markdown",
   "metadata": {},
   "source": [
    "Not bad! But then, this is a highly constrained structure.\n",
    "\n",
    "Because we can, let's look at the two structures superimposed:"
   ]
  },
  {
   "cell_type": "code",
   "execution_count": 21,
   "metadata": {
    "collapsed": false
   },
   "outputs": [
    {
     "data": {
      "text/html": [
       "<div id=\"3dmolviewer_14696784613056126\"  style=\"position: relative; width: 400px; height: 400px\">\n",
       "<script>\n",
       "if(typeof $3Dmolpromise === 'undefined') $3Dmolpromise = $.when($.getScript('http://3dmol.csb.pitt.edu/build/3Dmol.js'))\n",
       "$3Dmolpromise.done(function() {\n",
       "var viewer = $3Dmol.createViewer($(\"#3dmolviewer_14696784613056126\"),{backgroundColor:\"white\"});\n",
       "\tviewer.removeAllModels();\n",
       "\tviewer.addModel(\"?\\n     RDKit          3D\\n\\n 46 50  0  0  1  0  0  0  0  0999 V2000\\n    0.8226    1.0197   -0.8270 O   0  0  0  0  0  0  0  0  0  0  0  0\\n    1.1501   -1.5170   -1.9535 O   0  0  0  0  0  0  0  0  0  0  0  0\\n   -0.1798   -0.4855   -3.5037 O   0  0  0  0  0  0  0  0  0  0  0  0\\n   -0.0271   -2.1881    2.2480 O   0  0  0  0  0  0  0  0  0  0  0  0\\n   -1.4417    0.2327    2.0483 O   0  0  0  0  0  0  0  0  0  0  0  0\\n   -0.2890    0.3099   -1.2786 C   0  0  2  0  0  0  0  0  0  0  0  0\\n   -1.4009    1.1063   -1.8170 C   0  0  0  0  0  0  0  0  0  0  0  0\\n   -1.3932    2.1739   -1.5858 H   0  0  0  0  0  0  0  0  0  0  0  0\\n   -1.5237    0.9849   -2.9316 H   0  0  0  0  0  0  0  0  0  0  0  0\\n   -2.6936    0.5238   -1.2251 C   0  0  2  0  0  0  0  0  0  0  0  0\\n   -3.5689    0.9186   -1.7359 H   0  0  0  0  0  0  0  0  0  0  0  0\\n   -2.6472    1.0113    0.2281 C   0  0  2  0  0  0  0  0  0  0  0  0\\n   -2.3045    2.0504    0.2404 H   0  0  0  0  0  0  0  0  0  0  0  0\\n   -1.5411    0.1909    0.8575 C   0  0  0  0  0  0  0  0  0  0  0  0\\n   -0.7082   -0.5721   -0.0770 C   0  0  2  0  0  0  0  0  0  0  0  0\\n    0.6515   -0.9394    0.3764 C   0  0  1  0  0  0  0  0  0  0  0  0\\n    1.2377    0.4580    0.3550 C   0  0  1  0  0  0  0  0  0  0  0  0\\n    0.6163    1.0106    1.1404 H   0  0  0  0  0  0  0  0  0  0  0  0\\n    2.6286    0.6120    0.7590 C   0  0  1  0  0  0  0  0  0  0  0  0\\n    2.8675   -0.1965    2.0048 C   0  0  0  0  0  0  0  0  0  0  0  0\\n    3.7941    0.0543    2.5420 H   0  0  0  0  0  0  0  0  0  0  0  0\\n    2.0441   -1.1328    2.4324 C   0  0  0  0  0  0  0  0  0  0  0  0\\n    2.3244   -1.6582    3.3588 H   0  0  0  0  0  0  0  0  0  0  0  0\\n    0.8228   -1.4709    1.7177 C   0  0  0  0  0  0  0  0  0  0  0  0\\n    0.2230   -0.5880   -2.3389 C   0  0  0  0  0  0  0  0  0  0  0  0\\n   -2.7343   -0.9728   -1.3240 C   0  0  0  0  0  0  0  0  0  0  0  0\\n   -2.7956   -1.2269   -2.3922 H   0  0  0  0  0  0  0  0  0  0  0  0\\n   -3.6635   -1.3095   -0.8517 H   0  0  0  0  0  0  0  0  0  0  0  0\\n   -1.5453   -1.6572   -0.6544 C   0  0  0  0  0  0  0  0  0  0  0  0\\n   -1.0867   -2.3144   -1.3824 H   0  0  0  0  0  0  0  0  0  0  0  0\\n   -1.9270   -2.3124    0.1774 H   0  0  0  0  0  0  0  0  0  0  0  0\\n   -3.9429    0.8505    0.9305 C   0  0  0  0  0  0  0  0  0  0  0  0\\n   -3.9742    1.6074    1.7658 H   0  0  0  0  0  0  0  0  0  0  0  0\\n   -4.1274   -0.1515    1.3444 H   0  0  0  0  0  0  0  0  0  0  0  0\\n   -4.7570    1.1572    0.2283 H   0  0  0  0  0  0  0  0  0  0  0  0\\n    1.2819   -1.8894   -0.6058 C   0  0  0  0  0  0  0  0  0  0  0  0\\n    0.6768   -2.8407   -0.5026 H   0  0  0  0  0  0  0  0  0  0  0  0\\n    2.3061   -2.1766   -0.4102 H   0  0  0  0  0  0  0  0  0  0  0  0\\n    3.6938    0.4767   -0.2626 C   0  0  0  0  0  0  0  0  0  0  0  0\\n    3.5808   -0.2788   -1.0284 H   0  0  0  0  0  0  0  0  0  0  0  0\\n    4.6846    0.3798    0.2314 H   0  0  0  0  0  0  0  0  0  0  0  0\\n    3.7634    1.4584   -0.8226 H   0  0  0  0  0  0  0  0  0  0  0  0\\n    2.7789    2.0655    1.2806 C   0  0  0  0  0  0  0  0  0  0  0  0\\n    2.3635    2.1399    2.3066 H   0  0  0  0  0  0  0  0  0  0  0  0\\n    2.1325    2.7141    0.6438 H   0  0  0  0  0  0  0  0  0  0  0  0\\n    3.8278    2.3716    1.2917 H   0  0  0  0  0  0  0  0  0  0  0  0\\n  1 17  1  0\\n  2 25  1  0\\n  2 36  1  0\\n  3 25  2  0\\n  4 24  2  0\\n  6 25  1  0\\n  6 15  1  0\\n  6  7  1  0\\n  6  1  1  1\\n  7 10  1  0\\n  7  9  1  0\\n  8  7  1  0\\n 10 11  1  6\\n 10 12  1  0\\n 12 32  1  0\\n 12 13  1  6\\n 14 12  1  0\\n 14  5  2  0\\n 15 29  1  0\\n 15 14  1  1\\n 16 36  1  0\\n 16 15  1  0\\n 16 24  1  1\\n 16 17  1  0\\n 17 19  1  0\\n 17 18  1  1\\n 19 20  1  0\\n 19 43  1  1\\n 20 21  1  0\\n 22 20  2  0\\n 22 23  1  0\\n 24 22  1  0\\n 26 28  1  0\\n 26 10  1  0\\n 27 26  1  0\\n 29 26  1  0\\n 29 30  1  0\\n 31 29  1  0\\n 32 33  1  0\\n 32 34  1  0\\n 35 32  1  0\\n 37 36  1  0\\n 38 36  1  0\\n 39 41  1  0\\n 39 19  1  0\\n 40 39  1  0\\n 42 39  1  0\\n 43 45  1  0\\n 43 46  1  0\\n 44 43  1  0\\nM  END\\n\",\"sdf\");\n",
       "\tviewer.addModel(\"?\\n     RDKit          3D\\n\\n 46 50  0  0  1  0  0  0  0  0999 V2000\\n    0.8471    1.1557   -0.8075 O   0  0  0  0  0  0  0  0  0  0  0  0\\n    1.1827   -1.4020   -1.9711 O   0  0  0  0  0  0  0  0  0  0  0  0\\n    0.0012   -0.4128   -3.5409 O   0  0  0  0  0  0  0  0  0  0  0  0\\n    0.1351   -2.4294    2.1423 O   0  0  0  0  0  0  0  0  0  0  0  0\\n   -1.3561    0.3596    2.0916 O   0  0  0  0  0  0  0  0  0  0  0  0\\n   -0.3111    0.4075   -1.2693 C   0  0  2  0  0  0  0  0  0  0  0  0\\n   -1.4553    1.2765   -1.7486 C   0  0  0  0  0  0  0  0  0  0  0  0\\n   -1.4594    1.3160   -2.7380 H   0  0  0  0  0  0  0  0  0  0  0  0\\n   -1.3512    2.1965   -1.4002 H   0  0  0  0  0  0  0  0  0  0  0  0\\n   -2.7812    0.6685   -1.2391 C   0  0  2  0  0  0  0  0  0  0  0  0\\n   -3.5568    1.1049   -1.6944 H   0  0  0  0  0  0  0  0  0  0  0  0\\n   -2.8362    0.9363    0.2744 C   0  0  2  0  0  0  0  0  0  0  0  0\\n   -2.7662    1.9233    0.4070 H   0  0  0  0  0  0  0  0  0  0  0  0\\n   -1.6105    0.3056    0.9011 C   0  0  0  0  0  0  0  0  0  0  0  0\\n   -0.7513   -0.4835   -0.0880 C   0  0  2  0  0  0  0  0  0  0  0  0\\n    0.6452   -0.8449    0.4254 C   0  0  1  0  0  0  0  0  0  0  0  0\\n    1.2599    0.5583    0.4492 C   0  0  1  0  0  0  0  0  0  0  0  0\\n    0.7705    1.0587    1.1631 H   0  0  0  0  0  0  0  0  0  0  0  0\\n    2.7350    0.6748    0.7974 C   0  0  0  0  0  0  0  0  0  0  0  0\\n    2.9005   -0.1465    2.0521 C   0  0  0  0  0  0  0  0  0  0  0  0\\n    3.6904   -0.0019    2.5616 H   0  0  0  0  0  0  0  0  0  0  0  0\\n    2.0325   -1.0638    2.5155 C   0  0  0  0  0  0  0  0  0  0  0  0\\n    2.1971   -1.4461    3.3691 H   0  0  0  0  0  0  0  0  0  0  0  0\\n    0.8393   -1.5099    1.7752 C   0  0  0  0  0  0  0  0  0  0  0  0\\n    0.2715   -0.5002   -2.3583 C   0  0  0  0  0  0  0  0  0  0  0  0\\n   -2.7957   -0.8399   -1.5041 C   0  0  0  0  0  0  0  0  0  0  0  0\\n   -2.6064   -1.0099   -2.4611 H   0  0  0  0  0  0  0  0  0  0  0  0\\n   -3.6922   -1.2044   -1.2975 H   0  0  0  0  0  0  0  0  0  0  0  0\\n   -1.7306   -1.5563   -0.6300 C   0  0  0  0  0  0  0  0  0  0  0  0\\n   -2.1694   -2.0270    0.1219 H   0  0  0  0  0  0  0  0  0  0  0  0\\n   -1.2384   -2.2231   -1.1718 H   0  0  0  0  0  0  0  0  0  0  0  0\\n   -4.1124    0.4693    0.9807 C   0  0  0  0  0  0  0  0  0  0  0  0\\n   -4.8894    0.9038    0.5710 H   0  0  0  0  0  0  0  0  0  0  0  0\\n   -4.0660    0.7095    1.9297 H   0  0  0  0  0  0  0  0  0  0  0  0\\n   -4.1975   -0.5033    0.8931 H   0  0  0  0  0  0  0  0  0  0  0  0\\n    1.2618   -1.8294   -0.5825 C   0  0  0  0  0  0  0  0  0  0  0  0\\n    2.2150   -1.9650   -0.3494 H   0  0  0  0  0  0  0  0  0  0  0  0\\n    0.8044   -2.7009   -0.4945 H   0  0  0  0  0  0  0  0  0  0  0  0\\n    3.7292    0.2177   -0.2896 C   0  0  0  0  0  0  0  0  0  0  0  0\\n    3.6799   -0.7565   -0.3874 H   0  0  0  0  0  0  0  0  0  0  0  0\\n    4.6388    0.4741   -0.0291 H   0  0  0  0  0  0  0  0  0  0  0  0\\n    3.5010    0.6431   -1.1413 H   0  0  0  0  0  0  0  0  0  0  0  0\\n    3.0492    2.1408    1.1380 C   0  0  0  0  0  0  0  0  0  0  0  0\\n    2.9660    2.6886    0.3308 H   0  0  0  0  0  0  0  0  0  0  0  0\\n    3.9622    2.2067    1.4865 H   0  0  0  0  0  0  0  0  0  0  0  0\\n    2.4174    2.4611    1.8154 H   0  0  0  0  0  0  0  0  0  0  0  0\\n  1 17  1  0\\n  2 25  1  0\\n  2 36  1  0\\n  3 25  2  0\\n  4 24  2  0\\n  6 25  1  0\\n  6 15  1  0\\n  6  7  1  0\\n  6  1  1  1\\n  7 10  1  0\\n  7  9  1  0\\n  8  7  1  0\\n 10 11  1  6\\n 10 12  1  0\\n 12 32  1  0\\n 12 13  1  6\\n 14 12  1  0\\n 14  5  2  0\\n 15 29  1  0\\n 15 14  1  1\\n 16 36  1  0\\n 16 15  1  0\\n 16 24  1  1\\n 16 17  1  0\\n 17 19  1  0\\n 17 18  1  1\\n 19 20  1  0\\n 19 43  1  0\\n 20 21  1  0\\n 22 20  2  0\\n 22 23  1  0\\n 24 22  1  0\\n 26 28  1  0\\n 26 10  1  0\\n 27 26  1  0\\n 29 26  1  0\\n 29 30  1  0\\n 31 29  1  0\\n 32 33  1  0\\n 32 34  1  0\\n 35 32  1  0\\n 37 36  1  0\\n 38 36  1  0\\n 39 41  1  0\\n 39 19  1  0\\n 40 39  1  0\\n 42 39  1  0\\n 43 45  1  0\\n 43 46  1  0\\n 44 43  1  0\\nM  END\\n\",\"sdf\");\n",
       "\tviewer.setStyle({\"stick\": {}});\n",
       "\tviewer.setBackgroundColor(\"0xeeeeee\");\n",
       "\tviewer.zoomTo();\n",
       "viewer.render();\n",
       "});\n",
       "</script>"
      ],
      "text/plain": [
       "<IPython.core.display.HTML object>"
      ]
     },
     "execution_count": 21,
     "metadata": {},
     "output_type": "execute_result"
    }
   ],
   "source": [
    "AllChem.AlignMol(m,mExpt)\n",
    "mb = Chem.MolToMolBlock(m)\n",
    "mbExpt = Chem.MolToMolBlock(mExpt)\n",
    "p = py3Dmol.view(width=400,height=400)\n",
    "p.removeAllModels()\n",
    "p.addModel(mb,'sdf')\n",
    "p.addModel(mbExpt,'sdf')\n",
    "\n",
    "p.setStyle({'stick':{}})\n",
    "p.setBackgroundColor('0xeeeeee')\n",
    "p.zoomTo()\n",
    "p.show()"
   ]
  },
  {
   "cell_type": "markdown",
   "metadata": {},
   "source": [
    "Finally, a bit of 2D work. \n",
    "\n",
    "Just to have it, here's the SMILES for maoecrystal V "
   ]
  },
  {
   "cell_type": "code",
   "execution_count": 12,
   "metadata": {
    "collapsed": false
   },
   "outputs": [
    {
     "data": {
      "text/plain": [
       "'C[C@H]1C(=O)[C@@]23CC[C@@H]1C[C@@]21O[C@@H]2C(C)(C)C=CC(=O)[C@]23COC1=O'"
      ]
     },
     "execution_count": 12,
     "metadata": {},
     "output_type": "execute_result"
    }
   ],
   "source": [
    "Chem.MolToSmiles(Chem.RemoveHs(m),True)"
   ]
  },
  {
   "cell_type": "markdown",
   "metadata": {},
   "source": [
    "Let's see how well the RDKit's 2D coordinate generation works here:"
   ]
  },
  {
   "cell_type": "code",
   "execution_count": 13,
   "metadata": {
    "collapsed": false
   },
   "outputs": [
    {
     "data": {
      "image/png": "[encoded data removed]",
      "text/plain": [
       "<rdkit.Chem.rdchem.Mol at 0x7fcd5448ab70>"
      ]
     },
     "execution_count": 13,
     "metadata": {},
     "output_type": "execute_result"
    }
   ],
   "source": [
    "Chem.MolFromSmiles('C[C@H]1C(=O)[C@@]23CC[C@@H]1C[C@@]21O[C@@H]2C(C)(C)C=CC(=O)[C@]23COC1=O')"
   ]
  },
  {
   "cell_type": "markdown",
   "metadata": {},
   "source": [
    "Not great, but definitely not as bad as I had expected."
   ]
  },
  {
   "cell_type": "code",
   "execution_count": null,
   "metadata": {
    "collapsed": true
   },
   "outputs": [],
   "source": []
  }
 ],
 "metadata": {
  "hide_input": false,
  "kernelspec": {
   "display_name": "Python 3",
   "language": "python",
   "name": "python3"
  },
  "language_info": {
   "codemirror_mode": {
    "name": "ipython",
    "version": 3
   },
   "file_extension": ".py",
   "mimetype": "text/x-python",
   "name": "python",
   "nbconvert_exporter": "python",
   "pygments_lexer": "ipython3",
   "version": "3.5.1"
  }
 },
 "nbformat": 4,
 "nbformat_minor": 0
}

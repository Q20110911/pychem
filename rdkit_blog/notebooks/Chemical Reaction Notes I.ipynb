{
 "metadata": {
  "name": "",
  "signature": "sha256:a7232d431ce0acd341002b401a3a8ff41b40abbc10feb28e87ced2fab239b1bd"
 },
 "nbformat": 3,
 "nbformat_minor": 0,
 "worksheets": [
  {
   "cells": [
    {
     "cell_type": "markdown",
     "metadata": {},
     "source": [
      "A question came up on the mailing list about using the RDKit ChemicalReaction functionality to replace Hs on an aromatic ring with fluorines. Here's an expanded version of [my answer](http://www.mail-archive.com/rdkit-discuss@lists.sourceforge.net/msg04474.html), which may be generally useful.\n",
      "\n",
      "There's also a (very) brief introduction to recursive SMARTS at the bottom."
     ]
    },
    {
     "cell_type": "code",
     "collapsed": false,
     "input": [
      "from __future__ import print_function\n",
      "from rdkit import rdBase,Chem\n",
      "from rdkit.Chem import AllChem,Draw\n",
      "from rdkit.Chem.Draw import IPythonConsole\n",
      "import time\n",
      "print(rdBase.rdkitVersion)\n",
      "print(time.asctime())"
     ],
     "language": "python",
     "metadata": {},
     "outputs": [
      {
       "output_type": "stream",
       "stream": "stdout",
       "text": [
        "2015.03.1pre\n",
        "Sat Jan 31 10:46:36 2015\n"
       ]
      }
     ],
     "prompt_number": 1
    },
    {
     "cell_type": "markdown",
     "metadata": {},
     "source": [
      "Here's the reaction from the original question and an example of using it:"
     ]
    },
    {
     "cell_type": "code",
     "collapsed": false,
     "input": [
      "rxn = AllChem.ReactionFromSmarts('[c:1][c:2][c:3]>>[c:1][c:2]([F])[c:3]')"
     ],
     "language": "python",
     "metadata": {},
     "outputs": [],
     "prompt_number": 2
    },
    {
     "cell_type": "code",
     "collapsed": false,
     "input": [
      "m = Chem.MolFromSmiles('c1ccccc1')\n",
      "ps = rxn.RunReactants((m,))\n",
      "print(\"Num products:\",len(ps))"
     ],
     "language": "python",
     "metadata": {},
     "outputs": [
      {
       "output_type": "stream",
       "stream": "stdout",
       "text": [
        "Num products: 12\n"
       ]
      }
     ],
     "prompt_number": 3
    },
    {
     "cell_type": "markdown",
     "metadata": {},
     "source": [
      "We can get SMILES for the uniq products using a set:"
     ]
    },
    {
     "cell_type": "code",
     "collapsed": false,
     "input": [
      "uniq = set([Chem.MolToSmiles(x[0],isomericSmiles=True) for x in ps])\n",
      "print(\"Unique products:\",uniq)"
     ],
     "language": "python",
     "metadata": {},
     "outputs": [
      {
       "output_type": "stream",
       "stream": "stdout",
       "text": [
        "Unique products: {'Fc1ccccc1'}\n"
       ]
      }
     ],
     "prompt_number": 4
    },
    {
     "cell_type": "markdown",
     "metadata": {},
     "source": [
      "This reaction doesn't do exactly what we want though - it's just encoding addition of an F to an aromatic carbon. We can see the problem if we run the reaction on toluene:"
     ]
    },
    {
     "cell_type": "code",
     "collapsed": false,
     "input": [
      "m = Chem.MolFromSmiles('Cc1ccccc1')\n",
      "ps = rxn.RunReactants((m,))\n",
      "print(\"Num products:\",len(ps))\n",
      "uniq = set([Chem.MolToSmiles(x[0],isomericSmiles=True) for x in ps])\n",
      "print(\"Unique products:\",sorted(uniq))"
     ],
     "language": "python",
     "metadata": {},
     "outputs": [
      {
       "output_type": "stream",
       "stream": "stdout",
       "text": [
        "Num products: 12\n",
        "Unique products: ['Cc1(F)ccccc1', 'Cc1ccc(F)cc1', 'Cc1cccc(F)c1', 'Cc1ccccc1F']\n"
       ]
      }
     ],
     "prompt_number": 5
    },
    {
     "cell_type": "markdown",
     "metadata": {},
     "source": [
      "That first product is certainly not what we intended.\n",
      "\n",
      ">*Technical detail*: I've used `sorted(uniq)` above because the order of the contents of a set is not guaranteed to be consistent in Python3.\n",
      "\n",
      "We can fix the problem by specifying that the reacting atom needs to have an H on it:"
     ]
    },
    {
     "cell_type": "code",
     "collapsed": false,
     "input": [
      "rxn = AllChem.ReactionFromSmarts('[c:1][cH:2][c:3]>>[c:1][c:2]([F])[c:3]')\n",
      "\n",
      "m = Chem.MolFromSmiles('Cc1ccccc1')\n",
      "ps = rxn.RunReactants((m,))\n",
      "print(\"Num products:\",len(ps))\n",
      "uniq = set([Chem.MolToSmiles(x[0],isomericSmiles=True) for x in ps])\n",
      "print(\"Unique products:\",sorted(uniq))"
     ],
     "language": "python",
     "metadata": {},
     "outputs": [
      {
       "output_type": "stream",
       "stream": "stdout",
       "text": [
        "Num products: 10\n",
        "Unique products: ['Cc1ccc(F)cc1', 'Cc1cccc(F)c1', 'Cc1ccccc1F']\n"
       ]
      }
     ],
     "prompt_number": 6
    },
    {
     "cell_type": "markdown",
     "metadata": {},
     "source": [
      "That's much better, but why are we getting so many products?\n",
      "\n",
      "The answer to this is the symmetry of the query defining the reactant. Let's demonstrate this with a somewhat simpler example:"
     ]
    },
    {
     "cell_type": "code",
     "collapsed": false,
     "input": [
      "m = Chem.MolFromSmiles('c1c(C)c(C)c(C)c(C)c1C')\n",
      "ps = rxn.RunReactants((m,))\n",
      "print(\"Num products:\",len(ps))\n",
      "uniq = set([Chem.MolToSmiles(x[0],isomericSmiles=True) for x in ps])\n",
      "print(\"Unique products:\",sorted(uniq))"
     ],
     "language": "python",
     "metadata": {},
     "outputs": [
      {
       "output_type": "stream",
       "stream": "stdout",
       "text": [
        "Num products: 2\n",
        "Unique products: ['Cc1c(C)c(C)c(F)c(C)c1C']\n"
       ]
      }
     ],
     "prompt_number": 7
    },
    {
     "cell_type": "markdown",
     "metadata": {},
     "source": [
      "Now there's only one carbon where the reaction can occur.\n",
      "\n",
      "The reacant query matches this carbon twice - once \"forward\" and once \"backward\":"
     ]
    },
    {
     "cell_type": "code",
     "collapsed": false,
     "input": [
      "list(m.GetSubstructMatches(rxn.GetReactantTemplate(0),uniquify=False))"
     ],
     "language": "python",
     "metadata": {},
     "outputs": [
      {
       "metadata": {},
       "output_type": "pyout",
       "prompt_number": 8,
       "text": [
        "[(1, 0, 9), (9, 0, 1)]"
       ]
      }
     ],
     "prompt_number": 8
    },
    {
     "cell_type": "markdown",
     "metadata": {},
     "source": [
      "Taking a second look at the reaction, we can see that atoms `[c:1]` and `[c:3]` don't actually participate in the reaction; they are just there to define the environment around `[c:2]`. Realizing this, we can rewrite the reaction to only include a single reactant atom whose environment is specified using a recursive SMARTS:"
     ]
    },
    {
     "cell_type": "code",
     "collapsed": false,
     "input": [
      "rxn = AllChem.ReactionFromSmarts('[cH&$(c(c)c):2]>>[c:2][F]')\n",
      "\n",
      "m = Chem.MolFromSmiles('c1c(C)c(C)c(C)c(C)c1C')\n",
      "ps = rxn.RunReactants((m,))\n",
      "print(\"Num products:\",len(ps))\n",
      "uniq = set([Chem.MolToSmiles(x[0],isomericSmiles=True) for x in ps])\n",
      "print(\"Unique products:\",sorted(uniq))"
     ],
     "language": "python",
     "metadata": {},
     "outputs": [
      {
       "output_type": "stream",
       "stream": "stdout",
       "text": [
        "Num products: 1\n",
        "Unique products: ['Cc1c(C)c(C)c(F)c(C)c1C']\n"
       ]
      }
     ],
     "prompt_number": 9
    },
    {
     "cell_type": "markdown",
     "metadata": {},
     "source": [
      "That's what we were looking for.\n",
      "\n",
      "At this point anyone not pretty familiar with SMARTS is probably scratching their head and thinking that `[cH&$(c(c)c):2]` looks more like line noise than a sensible query.\n",
      "\n",
      "Since recursive SMARTS are one of the most powerful, and useful, features of SMARTS, I'll close with a brief description of how it works."
     ]
    },
    {
     "cell_type": "markdown",
     "metadata": {},
     "source": [
      "## A (very) brief introduction to recursive SMARTS"
     ]
    },
    {
     "cell_type": "markdown",
     "metadata": {},
     "source": [
      "A normal SMARTS pattern is made up of a set of atoms, each of which must match an atom in the target molecule.\n",
      "\n",
      "So a three atom query like this one:"
     ]
    },
    {
     "cell_type": "code",
     "collapsed": false,
     "input": [
      "q3 = Chem.MolFromSmarts('OC=C')"
     ],
     "language": "python",
     "metadata": {},
     "outputs": [],
     "prompt_number": 10
    },
    {
     "cell_type": "markdown",
     "metadata": {},
     "source": [
      "Matches three atoms in a target molecule:"
     ]
    },
    {
     "cell_type": "code",
     "collapsed": false,
     "input": [
      "list(Chem.MolFromSmiles('OC=CCC(C=COC)CO').GetSubstructMatches(q3))"
     ],
     "language": "python",
     "metadata": {},
     "outputs": [
      {
       "metadata": {},
       "output_type": "pyout",
       "prompt_number": 11,
       "text": [
        "[(0, 1, 2), (7, 6, 5)]"
       ]
      }
     ],
     "prompt_number": 11
    },
    {
     "cell_type": "markdown",
     "metadata": {},
     "source": [
      "*Aside about the meaning of those results:* the query matches twice, each match has two atoms."
     ]
    },
    {
     "cell_type": "markdown",
     "metadata": {},
     "source": [
      "A single atom query matches one atom:"
     ]
    },
    {
     "cell_type": "code",
     "collapsed": false,
     "input": [
      "q1 = Chem.MolFromSmarts('O')\n",
      "list(Chem.MolFromSmiles('OC=CCC(C=COC)CO').GetSubstructMatches(q1))"
     ],
     "language": "python",
     "metadata": {},
     "outputs": [
      {
       "metadata": {},
       "output_type": "pyout",
       "prompt_number": 12,
       "text": [
        "[(0,), (7,), (10,)]"
       ]
      }
     ],
     "prompt_number": 12
    },
    {
     "cell_type": "markdown",
     "metadata": {},
     "source": [
      "A recursive SMARTS provides the ability to define an atom environment. So we can define a query that matches a single atom but that constrains the environment of that atom. This is done by including a full SMARTS pattern inside `$()`.\n",
      "\n",
      "Here's an example using the queries above, each of the matches contains a single atom:"
     ]
    },
    {
     "cell_type": "code",
     "collapsed": false,
     "input": [
      "qr = Chem.MolFromSmarts('[$(OC=C)]')\n",
      "list(Chem.MolFromSmiles('OC=CCC(C=COC)CO').GetSubstructMatches(qr))"
     ],
     "language": "python",
     "metadata": {},
     "outputs": [
      {
       "metadata": {},
       "output_type": "pyout",
       "prompt_number": 13,
       "text": [
        "[(0,), (7,)]"
       ]
      }
     ],
     "prompt_number": 13
    },
    {
     "cell_type": "markdown",
     "metadata": {},
     "source": [
      "The recursive query can be combined with other query features to further constrain the match: "
     ]
    },
    {
     "cell_type": "code",
     "collapsed": false,
     "input": [
      "qr = Chem.MolFromSmarts('[OH&$(OC=C)]')\n",
      "list(Chem.MolFromSmiles('OC=CCC(C=COC)CO').GetSubstructMatches(qr))"
     ],
     "language": "python",
     "metadata": {},
     "outputs": [
      {
       "metadata": {},
       "output_type": "pyout",
       "prompt_number": 14,
       "text": [
        "[(0,)]"
       ]
      }
     ],
     "prompt_number": 14
    },
    {
     "cell_type": "markdown",
     "metadata": {},
     "source": [
      "It is important to realize that the recursive SMARTS matches the **first** atom in the recursive query, so re-ordering it leads to different results:"
     ]
    },
    {
     "cell_type": "code",
     "collapsed": false,
     "input": [
      "qr = Chem.MolFromSmarts('[$(C=CO)]')\n",
      "list(Chem.MolFromSmiles('OC=CCC(C=COC)CO').GetSubstructMatches(qr))"
     ],
     "language": "python",
     "metadata": {},
     "outputs": [
      {
       "metadata": {},
       "output_type": "pyout",
       "prompt_number": 15,
       "text": [
        "[(2,), (5,)]"
       ]
      }
     ],
     "prompt_number": 15
    },
    {
     "cell_type": "markdown",
     "metadata": {},
     "source": [
      "That one matches the carbon atoms.\n",
      "\n",
      "Here we get no matches, because we ask for an atom that's both an `[OH]` and a `[$(C=CO)]`:"
     ]
    },
    {
     "cell_type": "code",
     "collapsed": false,
     "input": [
      "qr = Chem.MolFromSmarts('[OH&$(C=CO)]')\n",
      "list(Chem.MolFromSmiles('OC=CCC(C=COC)CO').GetSubstructMatches(qr))"
     ],
     "language": "python",
     "metadata": {},
     "outputs": [
      {
       "metadata": {},
       "output_type": "pyout",
       "prompt_number": 16,
       "text": [
        "[]"
       ]
      }
     ],
     "prompt_number": 16
    },
    {
     "cell_type": "markdown",
     "metadata": {},
     "source": [
      "Many thanks to Matthew Lardy for the question that inspired this."
     ]
    }
   ],
   "metadata": {}
  }
 ]
}
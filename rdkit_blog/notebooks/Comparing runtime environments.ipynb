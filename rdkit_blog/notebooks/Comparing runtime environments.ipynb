{
 "cells": [
  {
   "cell_type": "markdown",
   "metadata": {},
   "source": [
    "# Intro\n",
    "\n",
    "After reading [http://www.cybertec.at/2016/02/postgresql-on-hardware-vs-postgresql-on-virtualbox/](this post) from Hans-Jürgen Schönig about performance differences between PostgreSQL running natively and PostgreSQL running in a VM, I got curious about the impact of virtualization on the RDKit. This is a brief exploration of that topic.\n",
    "\n",
    "# Test setup\n",
    "\n",
    "Some technical details about the experiments first:\n",
    "\n",
    "- Code version: this is experiment was done using the 2015.09.2 version of the RDKit available from [https://anaconda.org/rdkit/rdkit](the anaconda cloud).\n",
    "- Testing code: I used the code `$RDBASE/Regress/Scripts/new_timings.py`. This is a more time consuming version of the standard RDKit benchmarking tests.\n",
    "- Python 3.5.1, from anaconda python\n",
    "- Test machine: a Dell XPS desktop with a 3.6GHz i7-4790 CPU and 16GB of RAM.\n",
    "- Test OS (physical machine): Ubuntu 15.10\n",
    "- Vagrant configuration: Ubuntu 14.04 (Trusty) running in a 4GB VirtualBox VM\n",
    "- Docker configuration: Debian Jessie using Docker 1.10 (the post about setting this up is coming, but see the bottom of the post for the very minimal Dockerfile I used)\n",
    "\n",
    "# Details of the tests:\n",
    "The test set is 50K molecules pulled from ZNP (a subset that no longer exists) a few years ago.\n",
    "\n",
    "1. Building the molecules from SMILES\n",
    "2. Generating canonical SMILES\n",
    "3. Reading 10K molecules from SDF\n",
    "4. Constructing 823 queries from SMARTS\n",
    "5. Running `HasSubstructMatch()` for the 50K molecules and 100 of the SMARTS (reproducibly randomly selected)\n",
    "6. Running `GetSubstructMatches()` for the 50K molecules and 100 of the SMARTS (reproducibly randomly selected)\n",
    "7. Reading the 428 SMARTS from `$RDBASE/Data/SmartsLib/RLewis_smarts.txt`\n",
    "8. Running `HasSubstructMatch()` for the 50K molecules and the 428 SMARTS\n",
    "9. Running `GetSubstructMatches()` for the 50K molecules and the 428 SMARTS\n",
    "10. Generating 50K mol blocks\n",
    "11. Calling `Chem.BRICS.BreakBRICSBonds()` on the 50K molecules\n",
    "12. Generating 2D coordinates for the 50K molecules\n",
    "13. Generating the RDKit fingerprint for the 50K molecules\n",
    "14. Generating Morgan fingerprints for the 50K molecules\n",
    "\n",
    "Note that none of these need to do much in the way of I/O.\n",
    "\n",
    "# Results\n",
    "\n",
    "| Env      | T1   | T2  | T3  | T4  | T5   | T6   | T7  | T8    | T9    | T10  | T11  | T12  | T13  | T14 |\n",
    "|----------|------|-----|-----|-----|------|------|-----|-------|-------|------|------|------|------|-----|\n",
    "| Physical | 12.6 | 6.1 | 5.0 | 0.0 | 56.3 | 60.7 | 0.0 | 163.6 | 168.7 | 18.5 | 44.6 | 15.8 | 64.8 | 5.0 |\n",
    "| Vagrant  | 12.9 | 6.5 | 5.0 | 0.1 | 56.0 | 61.4 | 0.0 | 164.2 | 168.5 | 19.3 | 45.5 | 16.1 | 68.5 | 5.1 |\n",
    "| Docker   | 12.6 | 6.2 | 4.9 | 0.0 | 54.5 | 59.8 | 0.0 | 161.5 | 162.6 | 18.4 | 43.8 | 15.4 | 67.9 | 5.0 |\n",
    "\n",
    "\n",
    "# Conclusions\n",
    "\n",
    "Comfortingly, running the code in a virtual environment doesn't have much, if any, impact on performance for this CPU-intensive test. "
   ]
  },
  {
   "cell_type": "markdown",
   "metadata": {},
   "source": [
    "# Technical details\n",
    "\n",
    "## Using Docker\n",
    "Since ContinuumIO makes Docker images with miniconda preconfigured available, this turns out to be really simple. Here's the Dockerfie I used:\n",
    "```\n",
    "FROM continuumio/miniconda3\n",
    "MAINTAINER Greg Landrum <greg.landrum@gmail.com>\n",
    "\n",
    "ENV PATH /opt/conda/bin:$PATH\n",
    "ENV LANG C\n",
    "\n",
    "# install the RDKit:\n",
    "RUN conda config --add channels  https://conda.anaconda.org/rdkit\n",
    "RUN conda install -y rdkit \n",
    "```\n",
    "\n",
    "You can put that in an empty directory and then build a local image with the RDKit installed by running:\n",
    "\n",
    "`docker build -t basic_conda .`\n",
    "\n",
    "I wanted to mirror my local RDKit checkout into the image when I ran it so that I had access to the `Regress` directory. This is easy to do:\n",
    "\n",
    "`docker run -i -t -v /scratch/RDKit_git:/opt/RDKit_git basic_conda /bin/bash`\n",
    "\n",
    "And then I ran the benchmark with:\n",
    "\n",
    "```\n",
    "cd /opt/RDKit_git/Regress/Scripts\n",
    "python new_timing.py\n",
    "```"
   ]
  },
  {
   "cell_type": "code",
   "execution_count": null,
   "metadata": {
    "collapsed": true
   },
   "outputs": [],
   "source": []
  }
 ],
 "metadata": {
  "hide_input": false,
  "kernelspec": {
   "display_name": "Python 3",
   "language": "python",
   "name": "python3"
  },
  "language_info": {
   "codemirror_mode": {
    "name": "ipython",
    "version": 3
   },
   "file_extension": ".py",
   "mimetype": "text/x-python",
   "name": "python",
   "nbconvert_exporter": "python",
   "pygments_lexer": "ipython3",
   "version": "3.5.1"
  }
 },
 "nbformat": 4,
 "nbformat_minor": 0
}

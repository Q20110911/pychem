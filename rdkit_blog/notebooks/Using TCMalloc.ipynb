{
 "metadata": {
  "name": "",
  "signature": "sha256:ca7081bc08664d0d521ee1219aabaf42945c0dd2d60aa6c674c53b9fec1871d2"
 },
 "nbformat": 3,
 "nbformat_minor": 0,
 "worksheets": [
  {
   "cells": [
    {
     "cell_type": "markdown",
     "metadata": {},
     "source": [
      "# Background\n",
      "\n",
      "One of the focus points for the 2015.03 RDKit release is improving performance. To this end we've made changes that mitigate or remove some of the performance bottlenecks. These include, among others, modifications to the way SMILES are generated, rearranging the way the molecular GetProp/SetProp interface is used internally, and making the RDKit molecule smaller so that less memory is required. There are a couple of other changes coming; I think there should be a nice increase in the speed of common operations when the new version is released.\n",
      "\n",
      "\n",
      "# Getting something for nothing\n",
      "\n",
      "Brian Kelley pointed out that using [tcmalloc](http://gperftools.googlecode.com/git/doc/tcmalloc.html) instead of the system-provided malloc implementation can lead to big speedups. It's *super-easy* to test (just add `LD_PRELOAD=/usr/local/lib/libtcmalloc.so` to the command line, so I gave it a try with the RDKit. Wow did it make a difference!\n",
      "\n",
      "Many of the tests in [the RDKit's basic python performance suite](https://github.com/rdkit/rdkit/blob/master/Regress/Scripts/timings.py) run too quickly to really be able to say much about performance, so I created a [second performance suite](https://github.com/rdkit/rdkit/blob/master/Regress/Scripts/new_timings.py) that runs larger tests where it makes sense. This isn't yet complete - I need to add some reasonably sized tests of the conformation generation and force fields - but it's a decent start.\n",
      "\n",
      "Here's a performance comparison for the current [trunk status](https://github.com/rdkit/rdkit/commit/f49f681abfbf1124c853b44a971745ac6719bdb7). The tests were run on my linux box (a three year old Dell Studio XPS) running Unbuntu 14.04.\n",
      "\n",
      "| test | default | with tcmalloc | fraction |\n",
      "|------|---------|---------------|----------|\n",
      "| 50K mols from SMILES  |  21.7  |  12.7  |  0.59 |\n",
      "| generate SMILES  |  12.7  |  6.5  |  0.51 |\n",
      "| 10x1K mols from SDF  |  8.2  |  5.6  |  0.68 |\n",
      "| 823 queries from SMILES  |  0.1  |  0.1  |  1.00 |\n",
      "| HasSubstructMatch  |  102.0  |  80.9  |  0.79 |\n",
      "| GetSubstructMatches  |  115.3  |  91.9  |  0.80 |\n",
      "| 428 queries from SMARTS  |  0.0  |  0.0  |  0.0 |\n",
      "| HasSubstructMatch  |  287.0  |  239.6  |  0.83 |\n",
      "| GetSubstructMatches  |  288.2  |  240.8  |  0.84 |\n",
      "| generate Mol blocks  |  37.8  |  24.5  |  0.65 |\n",
      "| BRICS decomposition  |  79.4  |  53.6  |  0.68 |\n",
      "| generate 2D coords  |  27.1  |  23.9  |  0.88 |\n",
      "| generate RDKit fingerprints  |  148.4  |  80.8  |  0.54 |\n",
      "| generate Morgan fingerprints  |  7.5  |  3.8  |  0.51 |\n",
      "\n",
      "That's a pretty dramatic speedup for no work at all!\n",
      "\n",
      "It is, unfortunatetly, not possible to make using tcmalloc the default at RDKit build time: this would require that other programs using the RDKit shared libraries (python, postgresql, etc.) also be re-compiled to use tcmalloc. It's probably also not safe to use the LD_PRELOAD trick in your .bashrc, but setting it before starting a long-running process seems like it definitely could be a win.\n",
      "\n"
     ]
    },
    {
     "cell_type": "code",
     "collapsed": false,
     "input": [],
     "language": "python",
     "metadata": {},
     "outputs": [],
     "prompt_number": 0
    },
    {
     "cell_type": "code",
     "collapsed": false,
     "input": [],
     "language": "python",
     "metadata": {},
     "outputs": []
    }
   ],
   "metadata": {}
  }
 ]
}
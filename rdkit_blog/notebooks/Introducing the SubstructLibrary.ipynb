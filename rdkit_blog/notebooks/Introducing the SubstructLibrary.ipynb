{
 "cells": [
  {
   "cell_type": "markdown",
   "metadata": {},
   "source": [
    "This introduces another of the new features in the 2017.09 release of the RDKit: the `SubstructLibrary` - a class to make it straightforward to do substructure searches across sets of compounds."
   ]
  },
  {
   "cell_type": "code",
   "execution_count": 1,
   "metadata": {},
   "outputs": [
    {
     "name": "stdout",
     "output_type": "stream",
     "text": [
      "2018.03.1.dev1\n",
      "Thu Feb 22 06:47:45 2018\n"
     ]
    }
   ],
   "source": [
    "from rdkit import Chem\n",
    "from rdkit.Chem import Draw\n",
    "from rdkit.Chem.Draw import IPythonConsole\n",
    "from rdkit import rdBase\n",
    "import time\n",
    "print(rdBase.rdkitVersion)\n",
    "print(time.asctime())"
   ]
  },
  {
   "cell_type": "code",
   "execution_count": 2,
   "metadata": {
    "collapsed": true
   },
   "outputs": [],
   "source": [
    "from rdkit.Chem import rdSubstructLibrary"
   ]
  },
  {
   "cell_type": "markdown",
   "metadata": {},
   "source": [
    "To improve the efficiency of searches, the `SubstructLibary` allows you to provide RDKit Pattern fingerprints for the compounds in the library. These can (and should) be precalculated. Here's one way to do so.\n",
    "\n",
    "The dataset here is the set of ~180K molecules in ChEMBL23 that have a measured activity of less than 100nM in any assay. If you're interested, the query I used to construct that set from my local ChEMBL install was:\n",
    "\n",
    "```select chembl_id,m rdk_smiles from rdk.mols \n",
    " join (select distinct(molregno) from activities where standard_units='nM' and standard_value<10) tmp \n",
    "   using (molregno) \n",
    " join (select chembl_id,entity_id molregno from chembl_id_lookup where entity_type='COMPOUND') tmp2 \n",
    "   using (molregno);```"
   ]
  },
  {
   "cell_type": "raw",
   "metadata": {},
   "source": [
    "import pickle\n",
    "# start by building the fingerprint cache\n",
    "with open('../data/chembl23_very_active.txt','r') as inf:\n",
    "    ls = [x.split() for x in inf]\n",
    "    ls.pop(0)\n",
    "    with open('../data/chembl23_very_active.fps.pkl','wb+') as pklf:\n",
    "        for i,(chemblid,smi) in enumerate(ls):\n",
    "            m = Chem.MolFromSmiles(smi,sanitize=False)\n",
    "            fp = Chem.PatternFingerprint(m)\n",
    "            pickle.dump(fp,pklf)\n",
    "            if not (i+1)%10000:\n",
    "                print(\"Done\",i+1)"
   ]
  },
  {
   "cell_type": "markdown",
   "metadata": {},
   "source": [
    "Build our first `SubstructLibrary`. There are a number of ways of doing this, here we'll build one that expects that the molecules are provided as \"trusted\" SMILES (i.e. SMILES where the aromaticity and stereochemistry has been set by the RDKit). We'll add the SMILES (without actually converting them into molecule) and the fingerprints we calculated above"
   ]
  },
  {
   "cell_type": "code",
   "execution_count": 3,
   "metadata": {},
   "outputs": [
    {
     "name": "stdout",
     "output_type": "stream",
     "text": [
      "That took 3.82 seconds. The library has 184383 molecules.\n"
     ]
    }
   ],
   "source": [
    "import pickle, time\n",
    "t1=time.time()\n",
    "mols = rdSubstructLibrary.CachedTrustedSmilesMolHolder()\n",
    "fps = rdSubstructLibrary.PatternHolder()\n",
    "with open('../data/chembl23_very_active.txt','r') as inf:\n",
    "    ls = [x.split() for x in inf]\n",
    "    ls.pop(0)\n",
    "    with open('../data/chembl23_very_active.fps.pkl','rb') as pklf:\n",
    "        for l in ls:\n",
    "            smi = l[1]\n",
    "            mols.AddSmiles(smi)           \n",
    "            fp = pickle.load(pklf)\n",
    "            fps.AddFingerprint(fp)\n",
    "library = rdSubstructLibrary.SubstructLibrary(mols,fps)\n",
    "t2=time.time()\n",
    "print(\"That took %.2f seconds. The library has %d molecules.\"%(t2-t1,len(library)))"
   ]
  },
  {
   "cell_type": "code",
   "execution_count": 4,
   "metadata": {},
   "outputs": [
    {
     "name": "stdout",
     "output_type": "stream",
     "text": [
      "1000\n"
     ]
    }
   ],
   "source": [
    "indices = library.GetMatches(Chem.MolFromSmiles('c1ccncn1'))\n",
    "print(len(indices))"
   ]
  },
  {
   "cell_type": "code",
   "execution_count": 5,
   "metadata": {},
   "outputs": [
    {
     "name": "stdout",
     "output_type": "stream",
     "text": [
      "28087\n"
     ]
    }
   ],
   "source": [
    "indices = library.GetMatches(Chem.MolFromSmiles('c1ccncn1'),maxResults=50000)\n",
    "print(len(indices))"
   ]
  },
  {
   "cell_type": "code",
   "execution_count": 6,
   "metadata": {},
   "outputs": [
    {
     "name": "stdout",
     "output_type": "stream",
     "text": [
      "907\n"
     ]
    }
   ],
   "source": [
    "indices = library.GetMatches(Chem.MolFromSmiles('c1ncncn1'))\n",
    "print(len(indices))"
   ]
  },
  {
   "cell_type": "code",
   "execution_count": 7,
   "metadata": {},
   "outputs": [
    {
     "data": {
      "image/png": "[encoded data removed]",
      "text/plain": [
       "<rdkit.Chem.rdchem.Mol at 0x7f5f2f4e4a28>"
      ]
     },
     "execution_count": 7,
     "metadata": {},
     "output_type": "execute_result"
    }
   ],
   "source": [
    "library.GetMol(indices[0])"
   ]
  },
  {
   "cell_type": "markdown",
   "metadata": {},
   "source": [
    "Let's look at how long that takes:"
   ]
  },
  {
   "cell_type": "code",
   "execution_count": 8,
   "metadata": {},
   "outputs": [
    {
     "name": "stdout",
     "output_type": "stream",
     "text": [
      "28 ms ± 1.97 ms per loop (mean ± std. dev. of 7 runs, 10 loops each)\n"
     ]
    }
   ],
   "source": [
    "%timeit library.GetMatches(Chem.MolFromSmiles('c1ncncn1'))"
   ]
  },
  {
   "cell_type": "markdown",
   "metadata": {},
   "source": [
    "Another example with a somewhat larger query:"
   ]
  },
  {
   "cell_type": "code",
   "execution_count": 9,
   "metadata": {},
   "outputs": [
    {
     "name": "stdout",
     "output_type": "stream",
     "text": [
      "808\n"
     ]
    },
    {
     "data": {
      "image/png": "[encoded data removed]",
      "text/plain": [
       "<rdkit.Chem.rdchem.Mol at 0x7f5f48172818>"
      ]
     },
     "execution_count": 9,
     "metadata": {},
     "output_type": "execute_result"
    }
   ],
   "source": [
    "indices = library.GetMatches(Chem.MolFromSmiles('O=C1OC2=C(C=CC=C2)C=C1'),maxResults=10000)\n",
    "print(len(indices))\n",
    "library.GetMol(indices[0])"
   ]
  },
  {
   "cell_type": "code",
   "execution_count": 10,
   "metadata": {},
   "outputs": [
    {
     "name": "stdout",
     "output_type": "stream",
     "text": [
      "14.2 ms ± 1.67 ms per loop (mean ± std. dev. of 7 runs, 10 loops each)\n"
     ]
    }
   ],
   "source": [
    "%timeit library.GetMatches(Chem.MolFromSmiles('O=C1OC2=C(C=CC=C2)C=C1'),maxResults=10000)"
   ]
  },
  {
   "cell_type": "markdown",
   "metadata": {},
   "source": [
    "So far so good: we've got fast searches across the ~180K molecules in that dataset. Let's look at a larger dataset.\n",
    "\n",
    "Here's the pre-processing work for 500K molecules randomly selected from ChEMBL:"
   ]
  },
  {
   "cell_type": "raw",
   "metadata": {},
   "source": [
    "import pickle\n",
    "# start by building the fingerprint cache\n",
    "with open('../data/chembl_500K.txt','r') as inf:\n",
    "    ls = [x.split() for x in inf]\n",
    "    ls.pop(0)\n",
    "    with open('../data/chembl_500K.fps.pkl','wb+') as pklf:\n",
    "        for i,(molregno,smi) in enumerate(ls):\n",
    "            m = Chem.MolFromSmiles(smi,sanitize=False)\n",
    "            fp = Chem.PatternFingerprint(m)\n",
    "            pickle.dump(fp,pklf)\n",
    "            if not (i+1)%25000:\n",
    "                print(\"Done\",i+1)"
   ]
  },
  {
   "cell_type": "markdown",
   "metadata": {},
   "source": [
    "The same code as above to read them in:"
   ]
  },
  {
   "cell_type": "code",
   "execution_count": 11,
   "metadata": {},
   "outputs": [
    {
     "name": "stdout",
     "output_type": "stream",
     "text": [
      "That took 9.31 seconds. The library has 500000 molecules.\n"
     ]
    }
   ],
   "source": [
    "import pickle,time\n",
    "t1=time.time()\n",
    "mols = rdSubstructLibrary.CachedTrustedSmilesMolHolder()\n",
    "fps = rdSubstructLibrary.PatternHolder()\n",
    "with open('../data/chembl_500K.txt','r') as inf:\n",
    "    ls = [x.split() for x in inf]\n",
    "    ls.pop(0)\n",
    "    with open('../data/chembl_500K.fps.pkl','rb') as pklf:\n",
    "        for l in ls:\n",
    "            smi = l[1]\n",
    "            try:\n",
    "                fp = pickle.load(pklf)\n",
    "            except EOFError:\n",
    "                break\n",
    "            mols.AddSmiles(smi)           \n",
    "            fps.AddFingerprint(fp)\n",
    "library = rdSubstructLibrary.SubstructLibrary(mols,fps)\n",
    "t2=time.time()\n",
    "print(\"That took %.2f seconds. The library has %d molecules.\"%(t2-t1,len(library)))"
   ]
  },
  {
   "cell_type": "markdown",
   "metadata": {},
   "source": [
    "Now let's do some searches"
   ]
  },
  {
   "cell_type": "code",
   "execution_count": 12,
   "metadata": {},
   "outputs": [
    {
     "name": "stdout",
     "output_type": "stream",
     "text": [
      "373\n"
     ]
    },
    {
     "data": {
      "image/png": "[encoded data removed]",
      "text/plain": [
       "<rdkit.Chem.rdchem.Mol at 0x7f5f48172ef8>"
      ]
     },
     "execution_count": 12,
     "metadata": {},
     "output_type": "execute_result"
    }
   ],
   "source": [
    "indices = library.GetMatches(Chem.MolFromSmiles('c1ncnc(O)n1'))\n",
    "print(len(indices))\n",
    "library.GetMol(indices[0])"
   ]
  },
  {
   "cell_type": "code",
   "execution_count": 13,
   "metadata": {},
   "outputs": [
    {
     "name": "stdout",
     "output_type": "stream",
     "text": [
      "51.4 ms ± 2.18 ms per loop (mean ± std. dev. of 7 runs, 10 loops each)\n"
     ]
    }
   ],
   "source": [
    "%timeit library.GetMatches(Chem.MolFromSmiles('c1ncnc(O)n1'))"
   ]
  },
  {
   "cell_type": "code",
   "execution_count": 14,
   "metadata": {},
   "outputs": [
    {
     "name": "stdout",
     "output_type": "stream",
     "text": [
      "3520\n"
     ]
    },
    {
     "data": {
      "image/png": "[encoded data removed]",
      "text/plain": [
       "<rdkit.Chem.rdchem.Mol at 0x7f5f5dadef50>"
      ]
     },
     "execution_count": 14,
     "metadata": {},
     "output_type": "execute_result"
    }
   ],
   "source": [
    "indices = library.GetMatches(Chem.MolFromSmiles('c1ccccc1C(=O)c1ccccc1'),maxResults=10000)\n",
    "print(len(indices))\n",
    "library.GetMol(indices[0])"
   ]
  },
  {
   "cell_type": "code",
   "execution_count": 15,
   "metadata": {},
   "outputs": [
    {
     "name": "stdout",
     "output_type": "stream",
     "text": [
      "695 ms ± 15.2 ms per loop (mean ± std. dev. of 7 runs, 1 loop each)\n"
     ]
    }
   ],
   "source": [
    "%timeit library.GetMatches(Chem.MolFromSmiles('c1ccccc1C(=O)c1ccccc1'),maxResults=10000)"
   ]
  },
  {
   "cell_type": "markdown",
   "metadata": {},
   "source": [
    "One of the reasons this is so fast is that by default the search uses multiple threads to run in parallel. You can see the impact of reducing the number of threads to one:"
   ]
  },
  {
   "cell_type": "code",
   "execution_count": 16,
   "metadata": {},
   "outputs": [
    {
     "name": "stdout",
     "output_type": "stream",
     "text": [
      "2.63 s ± 49.7 ms per loop (mean ± std. dev. of 7 runs, 1 loop each)\n"
     ]
    }
   ],
   "source": [
    "%timeit library.GetMatches(Chem.MolFromSmiles('c1ccccc1C(=O)c1ccccc1'),maxResults=10000, numThreads=1)"
   ]
  },
  {
   "cell_type": "markdown",
   "metadata": {},
   "source": [
    "That's it for this post. I hope you find the `SubstructLibrary` useful!"
   ]
  }
 ],
 "metadata": {
  "kernelspec": {
   "display_name": "Python 3",
   "language": "python",
   "name": "python3"
  },
  "language_info": {
   "codemirror_mode": {
    "name": "ipython",
    "version": 3
   },
   "file_extension": ".py",
   "mimetype": "text/x-python",
   "name": "python",
   "nbconvert_exporter": "python",
   "pygments_lexer": "ipython3",
   "version": "3.6.3"
  }
 },
 "nbformat": 4,
 "nbformat_minor": 1
}

{
 "metadata": {
  "name": "",
  "signature": "sha256:6a92b1ada54128e16d7779589af464f0d1962b82bb9404cdf2c0853419668242"
 },
 "nbformat": 3,
 "nbformat_minor": 0,
 "worksheets": [
  {
   "cells": [
    {
     "cell_type": "markdown",
     "metadata": {},
     "source": [
      "# Using SimpleEnum\n",
      "\n",
      "The RDKit provides a few convenience tools/functions to make it easier to enumerate the products of reactions. This post will demonstrate a few of them"
     ]
    },
    {
     "cell_type": "code",
     "collapsed": false,
     "input": [
      "from rdkit.Chem import AllChem\n",
      "from rdkit import Chem\n",
      "from rdkit.Chem.SimpleEnum import Enumerator\n",
      "from rdkit.Chem import Draw\n",
      "from rdkit.Chem.Draw import IPythonConsole\n",
      "%pylab\n"
     ],
     "language": "python",
     "metadata": {},
     "outputs": [
      {
       "output_type": "stream",
       "stream": "stdout",
       "text": [
        "Using matplotlib backend: TkAgg\n",
        "Populating the interactive namespace from numpy and matplotlib\n"
       ]
      }
     ],
     "prompt_number": 10
    },
    {
     "cell_type": "markdown",
     "metadata": {},
     "source": [
      "Let's start with the classic simple reaction example, amide bond formation. We'll use an rxn block:"
     ]
    },
    {
     "cell_type": "code",
     "collapsed": false,
     "input": [
      "rxnd=\"\"\"$RXN\n",
      "\n",
      "  Marvin       050301141153\n",
      "\n",
      "  2  1\n",
      "$MOL\n",
      "\n",
      "  Mrv0541 05031411532D          \n",
      "\n",
      "  4  3  0  0  0  0            999 V2000\n",
      "   -8.3922   -1.9660    0.0000 O   0  0  0  0  0  0  0  0  0  4  0  0\n",
      "   -8.3851   -3.2418    0.0000 C   0  0  0  0  0  0  0  0  0  3  0  0\n",
      "   -9.4862   -3.8860    0.0000 R#  0  0  0  0  0  0  0  0  0  5  0  0\n",
      "   -7.2766   -3.8735    0.0000 O   0  0  0  0  0  0  0  0  0  0  0  0\n",
      "  2  1  2  0  0  0  0\n",
      "  3  2  1  0  0  0  0\n",
      "  2  4  1  0  0  0  0\n",
      "M  RGP  1   3   2\n",
      "M  END\n",
      "$MOL\n",
      "\n",
      "  Mrv0541 05031411532D          \n",
      "\n",
      "  2  1  0  0  0  0            999 V2000\n",
      "   -3.3630   -3.4096    0.0000 R#  0  0  0  0  0  0  0  0  0  1  0  0\n",
      "   -2.2581   -2.7715    0.0000 N   0  0  0  0  0  0  0  0  0  2  0  0\n",
      "  1  2  1  0  0  0  0\n",
      "M  RGP  1   1   1\n",
      "M  END\n",
      "$MOL\n",
      "\n",
      "  Mrv0541 05031411532D          \n",
      "\n",
      "  5  4  0  0  0  0            999 V2000\n",
      "   12.1447   -4.0239    0.0000 R#  0  0  0  0  0  0  0  0  0  5  0  0\n",
      "   13.2459   -3.3797    0.0000 C   0  0  0  0  0  0  0  0  0  3  0  0\n",
      "   14.3545   -4.0112    0.0000 N   0  0  0  0  0  0  0  0  0  2  0  0\n",
      "   13.2388   -2.1039    0.0000 O   0  0  0  0  0  0  0  0  0  4  0  0\n",
      "   15.4556   -3.3672    0.0000 R#  0  0  0  0  0  0  0  0  0  1  0  0\n",
      "  1  2  1  0  0  0  0\n",
      "  2  3  1  0  0  0  0\n",
      "  2  4  2  0  0  0  0\n",
      "  3  5  1  0  0  0  0\n",
      "M  RGP  2   1   2   5   1\n",
      "M  END\n",
      "\"\"\"\n",
      "rxn = AllChem.ReactionFromRxnBlock(rxnd)"
     ],
     "language": "python",
     "metadata": {},
     "outputs": [],
     "prompt_number": 4
    },
    {
     "cell_type": "markdown",
     "metadata": {},
     "source": [
      "Here's the reaction"
     ]
    },
    {
     "cell_type": "code",
     "collapsed": false,
     "input": [
      "rxn"
     ],
     "language": "python",
     "metadata": {},
     "outputs": [
      {
       "metadata": {},
       "output_type": "pyout",
       "png": "[encoded data removed]",
       "prompt_number": 5,
       "text": [
        "<rdkit.Chem.rdChemReactions.ChemicalReaction at 0x426b910>"
       ]
      }
     ],
     "prompt_number": 5
    },
    {
     "cell_type": "markdown",
     "metadata": {},
     "source": [
      "Define two simple reactants"
     ]
    },
    {
     "cell_type": "code",
     "collapsed": false,
     "input": [
      "r1=Chem.MolFromSmiles('C1CC1C(=O)O')\n",
      "r1"
     ],
     "language": "python",
     "metadata": {},
     "outputs": [
      {
       "metadata": {},
       "output_type": "pyout",
       "png": "[encoded data removed]",
       "prompt_number": 6,
       "text": [
        "<rdkit.Chem.rdchem.Mol at 0x426b980>"
       ]
      }
     ],
     "prompt_number": 6
    },
    {
     "cell_type": "code",
     "collapsed": false,
     "input": [
      "r2=Chem.MolFromSmiles('CC(=O)NCCN')\n",
      "r2"
     ],
     "language": "python",
     "metadata": {},
     "outputs": [
      {
       "metadata": {},
       "output_type": "pyout",
       "png": "[encoded data removed]",
       "prompt_number": 7,
       "text": [
        "<rdkit.Chem.rdchem.Mol at 0x426ba60>"
       ]
      }
     ],
     "prompt_number": 7
    },
    {
     "cell_type": "code",
     "collapsed": false,
     "input": [
      "ps = rxn.RunReactants((r1,r2))"
     ],
     "language": "python",
     "metadata": {},
     "outputs": [],
     "prompt_number": 8
    },
    {
     "cell_type": "code",
     "collapsed": false,
     "input": [
      "len(ps)"
     ],
     "language": "python",
     "metadata": {},
     "outputs": [
      {
       "metadata": {},
       "output_type": "pyout",
       "prompt_number": 8,
       "text": [
        "3"
       ]
      }
     ],
     "prompt_number": 8
    },
    {
     "cell_type": "code",
     "collapsed": false,
     "input": [
      "ms = (ps[0][0],ps[1][0],ps[2][0])\n",
      "Draw.MolsToGridImage(ms)"
     ],
     "language": "python",
     "metadata": {},
     "outputs": [
      {
       "metadata": {},
       "output_type": "pyout",
       "png": "[encoded data removed]",
       "prompt_number": 11,
       "text": [
        "<Image.Image image mode=RGBA size=600x200 at 0x41C7950>"
       ]
      }
     ],
     "prompt_number": 11
    },
    {
     "cell_type": "markdown",
     "metadata": {},
     "source": [
      "The second product arises due to the fact that the amine structure query can map onto the amide N in two different ways: once from the left, once from the right in the sketches above"
     ]
    },
    {
     "cell_type": "markdown",
     "metadata": {},
     "source": [
      "The third product is the one we were actually looking for: reaction at the amine."
     ]
    },
    {
     "cell_type": "markdown",
     "metadata": {},
     "source": [
      "The extra products we obtained, the first two above, show up because our query for the amine reactant isn't specific enough. In the RXN file, we've just asked for an N that's attached to something else. What"
     ]
    },
    {
     "cell_type": "code",
     "collapsed": false,
     "input": [
      "rxnd=\"\"\"$RXN\n",
      "\n",
      "  Marvin       050301141155\n",
      "\n",
      "  2  1\n",
      "$MOL\n",
      "\n",
      "  Mrv0541 05031411552D          \n",
      "\n",
      "  4  3  0  0  0  0            999 V2000\n",
      "   -8.3922   -1.9660    0.0000 O   0  0  0  0  0  0  0  0  0  4  0  0\n",
      "   -8.3851   -3.2418    0.0000 C   0  0  0  0  0  0  0  0  0  3  0  0\n",
      "   -9.4862   -3.8860    0.0000 R#  0  0  0  0  0  0  0  0  0  5  0  0\n",
      "   -7.2766   -3.8735    0.0000 O   0  0  0  0  0  0  0  0  0  0  0  0\n",
      "  2  1  2  0  0  0  0\n",
      "  3  2  1  0  0  0  0\n",
      "  2  4  1  0  0  0  0\n",
      "V    2 CarboxylicAcid\n",
      "M  RGP  1   3   2\n",
      "M  END\n",
      "$MOL\n",
      "\n",
      "  Mrv0541 05031411552D          \n",
      "\n",
      "  2  1  0  0  0  0            999 V2000\n",
      "   -3.3630   -3.4096    0.0000 R#  0  0  0  0  0  0  0  0  0  1  0  0\n",
      "   -2.2581   -2.7715    0.0000 N   0  0  0  0  0  0  0  0  0  2  0  0\n",
      "  1  2  1  0  0  0  0\n",
      "V    2 Amine\n",
      "M  RGP  1   1   1\n",
      "M  END\n",
      "$MOL\n",
      "\n",
      "  Mrv0541 05031411552D          \n",
      "\n",
      "  5  4  0  0  0  0            999 V2000\n",
      "   12.1447   -4.0239    0.0000 R#  0  0  0  0  0  0  0  0  0  5  0  0\n",
      "   13.2459   -3.3797    0.0000 C   0  0  0  0  0  0  0  0  0  3  0  0\n",
      "   14.3545   -4.0112    0.0000 N   0  0  0  0  0  0  0  0  0  2  0  0\n",
      "   13.2388   -2.1039    0.0000 O   0  0  0  0  0  0  0  0  0  4  0  0\n",
      "   15.4556   -3.3672    0.0000 R#  0  0  0  0  0  0  0  0  0  1  0  0\n",
      "  1  2  1  0  0  0  0\n",
      "  2  3  1  0  0  0  0\n",
      "  2  4  2  0  0  0  0\n",
      "  3  5  1  0  0  0  0\n",
      "M  RGP  2   1   2   5   1\n",
      "M  END\n",
      "\"\"\"\n",
      "rxn = AllChem.ReactionFromRxnBlock(rxnd)"
     ],
     "language": "python",
     "metadata": {},
     "outputs": [],
     "prompt_number": 3
    },
    {
     "cell_type": "code",
     "collapsed": false,
     "input": [
      "Enumerator.PreprocessReaction(rxn)"
     ],
     "language": "python",
     "metadata": {},
     "outputs": [
      {
       "metadata": {},
       "output_type": "pyout",
       "prompt_number": 13,
       "text": [
        "(0, 0, 2, 1, (((1, 'carboxylicacid'),), ((1, 'amine'),)))"
       ]
      }
     ],
     "prompt_number": 13
    },
    {
     "cell_type": "code",
     "collapsed": false,
     "input": [
      "ps = rxn.RunReactants((Chem.MolFromSmiles('C1CC1C(=O)O'),Chem.MolFromSmiles('CC(=O)NCCN')))"
     ],
     "language": "python",
     "metadata": {},
     "outputs": [],
     "prompt_number": 14
    },
    {
     "cell_type": "code",
     "collapsed": false,
     "input": [
      "len(ps)"
     ],
     "language": "python",
     "metadata": {},
     "outputs": [
      {
       "metadata": {},
       "output_type": "pyout",
       "prompt_number": 15,
       "text": [
        "1"
       ]
      }
     ],
     "prompt_number": 15
    },
    {
     "cell_type": "code",
     "collapsed": false,
     "input": [
      "ps[0][0]"
     ],
     "language": "python",
     "metadata": {},
     "outputs": [
      {
       "metadata": {},
       "output_type": "pyout",
       "png": "[encoded data removed]",
       "prompt_number": 16,
       "text": [
        "<rdkit.Chem.rdchem.Mol at 0x109853a28>"
       ]
      }
     ],
     "prompt_number": 16
    },
    {
     "cell_type": "code",
     "collapsed": false,
     "input": [],
     "language": "python",
     "metadata": {},
     "outputs": []
    }
   ],
   "metadata": {}
  }
 ]
}